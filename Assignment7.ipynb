{
 "cells": [
  {
   "cell_type": "markdown",
   "id": "b888d0e7",
   "metadata": {},
   "source": [
    "# Q.1."
   ]
  },
  {
   "cell_type": "code",
   "execution_count": 1,
   "id": "f1a29163",
   "metadata": {},
   "outputs": [],
   "source": [
    "list1 = [1,2,3,4, [44,55,66, True], False, (34,56,78,89,34), {1,2,3,3,2,1}, {1:34, \"key2\": [55, 67, 78, 89], 4: (45,\n",
    "22, 61, 34)}, [56, 'data science'], 'Machine Learning']"
   ]
  },
  {
   "cell_type": "code",
   "execution_count": 3,
   "id": "7eba33ba",
   "metadata": {},
   "outputs": [],
   "source": [
    "\n",
    "n = []\n",
    "for i in list1:\n",
    "    \n",
    "    if type(i) == int or type(i) == float:\n",
    "        n.append(i)\n",
    "        \n",
    "    elif type(i) == list or type(i) == set or type(i) == tuple :\n",
    "        \n",
    "        for j in i:\n",
    "            if type(j) == int or type(j) == float:\n",
    "                n.append(j)\n",
    "   \n",
    "            \n",
    "    elif type(i) == dict:\n",
    "        x = i.keys()\n",
    "        y = i.values()\n",
    "        for k in x:\n",
    "            if type(k) == int or type(k) == float:\n",
    "                n.append(k)\n",
    "            elif type(k) == tuple:\n",
    "                for j in k:\n",
    "                    if type(j) == int or type(j) == float:\n",
    "                        n.append(j)\n",
    "        for k in y:\n",
    "    \n",
    "            if type(k) == int or type(k) == float:\n",
    "                n.append(k)\n",
    "            elif type(k) == tuple or type(k) == list or type(k) == set:\n",
    "                for j in k:\n",
    "                    if type(j) == int or type(j) == float:\n",
    "                        n.append(j)\n",
    "    \n",
    "    \n",
    "   \n",
    "               \n",
    "            \n",
    "                \n",
    "        \n",
    "        "
   ]
  },
  {
   "cell_type": "code",
   "execution_count": 5,
   "id": "ade00580",
   "metadata": {},
   "outputs": [
    {
     "name": "stdout",
     "output_type": "stream",
     "text": [
      "[1, 2, 3, 4, 44, 55, 66, 34, 56, 78, 89, 34, 1, 2, 3, 1, 4, 34, 55, 67, 78, 89, 45, 22, 61, 34, 56]\n"
     ]
    }
   ],
   "source": [
    "print(n)"
   ]
  },
  {
   "cell_type": "markdown",
   "id": "e95a5b45",
   "metadata": {},
   "source": [
    "# Q.2."
   ]
  },
  {
   "cell_type": "code",
   "execution_count": 6,
   "id": "1c10e2a9",
   "metadata": {},
   "outputs": [
    {
     "data": {
      "text/plain": [
       "'i want to become a data scientist'"
      ]
     },
     "execution_count": 6,
     "metadata": {},
     "output_type": "execute_result"
    }
   ],
   "source": [
    "input_sentence = 'I want to become a Data Scientist'\n",
    "lower_input_sentence = input_sentence.lower()\n",
    "lower_input_sentence"
   ]
  },
  {
   "cell_type": "code",
   "execution_count": 7,
   "id": "1f5c6ee3",
   "metadata": {},
   "outputs": [],
   "source": [
    "def encrypted_message(a):\n",
    "    return a.replace('a','z').replace('b','y').replace('c','x').replace(' ','$')"
   ]
  },
  {
   "cell_type": "code",
   "execution_count": 8,
   "id": "dbad981e",
   "metadata": {},
   "outputs": [
    {
     "data": {
      "text/plain": [
       "'i$wznt$to$yexome$z$dztz$sxientist'"
      ]
     },
     "execution_count": 8,
     "metadata": {},
     "output_type": "execute_result"
    }
   ],
   "source": [
    "encrypted_message(lower_input_sentence)"
   ]
  },
  {
   "cell_type": "code",
   "execution_count": null,
   "id": "7dfabb4c",
   "metadata": {},
   "outputs": [],
   "source": []
  }
 ],
 "metadata": {
  "kernelspec": {
   "display_name": "Python 3 (ipykernel)",
   "language": "python",
   "name": "python3"
  },
  "language_info": {
   "codemirror_mode": {
    "name": "ipython",
    "version": 3
   },
   "file_extension": ".py",
   "mimetype": "text/x-python",
   "name": "python",
   "nbconvert_exporter": "python",
   "pygments_lexer": "ipython3",
   "version": "3.9.12"
  }
 },
 "nbformat": 4,
 "nbformat_minor": 5
}
