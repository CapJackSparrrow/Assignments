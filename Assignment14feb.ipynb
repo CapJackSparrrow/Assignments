{
 "cells": [
  {
   "cell_type": "markdown",
   "id": "bce61399",
   "metadata": {},
   "source": [
    "# Q.1."
   ]
  },
  {
   "cell_type": "markdown",
   "id": "36e8dd12",
   "metadata": {},
   "source": [
    "Multithreading is a threading technique in Python programming to run multiple threads concurrently by rapidly switching between threads with a CPU help (called context switching)\n",
    "\n",
    "Multithreading is used to perform multiple tasks simultaneously, which increases performance and speed\n",
    "\n",
    "threading module is used to handle threads in python"
   ]
  },
  {
   "cell_type": "markdown",
   "id": "63f3ed14",
   "metadata": {},
   "source": [
    "# Q.2."
   ]
  },
  {
   "cell_type": "markdown",
   "id": "f22faebe",
   "metadata": {},
   "source": [
    "threading is used to handle threads, create threads and performs various tasks on threads\n",
    "\n"
   ]
  },
  {
   "cell_type": "markdown",
   "id": "501351ac",
   "metadata": {},
   "source": [
    "# activeCount()"
   ]
  },
  {
   "cell_type": "markdown",
   "id": "ab0ff401",
   "metadata": {},
   "source": [
    "It returns the total currently active thread count\n",
    "\n",
    "activeCount() is deprecated, now active_count() is used for same funtionality\n",
    "\n",
    "It doesn't take any arguments"
   ]
  },
  {
   "cell_type": "markdown",
   "id": "944e9999",
   "metadata": {},
   "source": [
    "# currentThread()"
   ]
  },
  {
   "cell_type": "markdown",
   "id": "567428f9",
   "metadata": {},
   "source": [
    "It returns the current Thread object active at the moment\n",
    "\n",
    "currentThread() is deprecated, now current_thread() is used for same functionality\n",
    "\n",
    "If the caller’s thread of control was not created through the threading module, a dummy thread object with limited functionality is returned"
   ]
  },
  {
   "cell_type": "markdown",
   "id": "165f1aed",
   "metadata": {},
   "source": [
    "# enumerate()"
   ]
  },
  {
   "cell_type": "markdown",
   "id": "6a0aad51",
   "metadata": {},
   "source": [
    "Return a list of all Thread objects currently active\n",
    "\n",
    "The list includes daemonic threads and dummy thread objects created by current_thread()\n",
    "\n",
    "It excludes terminated threads and threads that have not yet been started\n",
    "\n",
    "However, the main thread is always part of the result, even when terminated."
   ]
  },
  {
   "cell_type": "markdown",
   "id": "69466966",
   "metadata": {},
   "source": [
    "# Q.3."
   ]
  },
  {
   "cell_type": "markdown",
   "id": "a3dcea56",
   "metadata": {},
   "source": [
    "# run()"
   ]
  },
  {
   "cell_type": "markdown",
   "id": "aaf66022",
   "metadata": {},
   "source": [
    "This method is used to represent a thread's activity\n",
    "\n",
    "It calls the method expressed as the target argument in the Thread object along with the positional and keyword arguments taken from the args and kwargs arguments, respectively\n",
    "\n",
    "This method can also be overridden in the subclass."
   ]
  },
  {
   "cell_type": "markdown",
   "id": "dd1e6765",
   "metadata": {},
   "source": [
    "# start()\n",
    "\n",
    "It starts the thread’s activity.\n",
    "\n",
    "It must be called at most once per thread object. It arranges for the object’s run() method to be invoked in a separate thread of control.\n",
    "\n",
    "This method will raise a RuntimeError if called more than once on the same thread object."
   ]
  },
  {
   "cell_type": "markdown",
   "id": "dfaea24d",
   "metadata": {},
   "source": [
    "# join()"
   ]
  },
  {
   "cell_type": "markdown",
   "id": "c54fefd8",
   "metadata": {},
   "source": [
    "join() method delays a program’s flow of execution until the target thread has been completely read\n",
    "\n",
    "The .join() method always returns None\n",
    "\n",
    "There is also a timeout parameter that is set to None by default. If set otherwise, it must be represented in seconds with a floating-point value."
   ]
  },
  {
   "cell_type": "markdown",
   "id": "692fa7ef",
   "metadata": {},
   "source": [
    "# is_alive()"
   ]
  },
  {
   "cell_type": "markdown",
   "id": "4ad47b14",
   "metadata": {},
   "source": [
    "Return whether the thread is alive\n",
    "\n",
    "It return a boolean value i.e. True or False"
   ]
  },
  {
   "cell_type": "markdown",
   "id": "3738af67",
   "metadata": {},
   "source": [
    "# Q.4."
   ]
  },
  {
   "cell_type": "code",
   "execution_count": 1,
   "id": "73786eec",
   "metadata": {},
   "outputs": [
    {
     "name": "stdout",
     "output_type": "stream",
     "text": [
      "1\n",
      "4\n",
      "9\n",
      "16\n",
      "25\n",
      "36\n",
      "49\n",
      "64\n",
      "81\n",
      "100\n",
      "1\n",
      "8\n",
      "27\n",
      "64\n",
      "125\n",
      "216\n",
      "343\n",
      "512\n",
      "729\n",
      "1000\n"
     ]
    }
   ],
   "source": [
    "from threading import Thread\n",
    "\n",
    "def square(i):\n",
    "    print(i**2)\n",
    "def cube(i):\n",
    "    print(i**3)\n",
    "        \n",
    "t1 = [Thread(target = square, args =(i,)) for i in [1,2,3,4,5,6,7,8,9,10]]\n",
    "t2 = [Thread(target=cube, args=(i,)) for i in [1,2,3,4,5,6,7,8,9,10]]\n",
    "for i in t1:\n",
    "    i.start()\n",
    "for i in t2:\n",
    "    i.start()"
   ]
  },
  {
   "cell_type": "markdown",
   "id": "723803d8",
   "metadata": {},
   "source": [
    "# Q.5."
   ]
  },
  {
   "cell_type": "markdown",
   "id": "bc5aa4fc",
   "metadata": {},
   "source": [
    "# Advantages of multithreading"
   ]
  },
  {
   "cell_type": "markdown",
   "id": "f9fa7ab6",
   "metadata": {},
   "source": [
    "Enhanced performance by decreased development time\n",
    "\n",
    "Simplified and streamlined program coding\n",
    "\n",
    "Improvised GUI responsiveness\n",
    "\n",
    "Simultaneous and parallelized occurrence of tasks\n",
    "\n",
    "Better use of cache storage by utilization of resources\n",
    "\n",
    "Decreased cost of maintenance\n",
    "\n",
    "Better use of CPU resource"
   ]
  },
  {
   "cell_type": "markdown",
   "id": "913ea190",
   "metadata": {},
   "source": [
    "# Disdvantages of multithreading"
   ]
  },
  {
   "cell_type": "markdown",
   "id": "a19afa33",
   "metadata": {},
   "source": [
    "Complex debugging and testing processes\n",
    "\n",
    "Overhead switching of context\n",
    "\n",
    "Increased potential for deadlock occurrence\n",
    "\n",
    "Increased difficulty level in writing a program\n",
    "\n",
    "Unpredictable results"
   ]
  },
  {
   "cell_type": "markdown",
   "id": "362dc98d",
   "metadata": {},
   "source": [
    "# Q.6."
   ]
  },
  {
   "cell_type": "markdown",
   "id": "50686983",
   "metadata": {},
   "source": [
    "# Race condition"
   ]
  },
  {
   "cell_type": "markdown",
   "id": "edff7edf",
   "metadata": {},
   "source": [
    "A race condition occurs when two threads access a shared variable at the same time\n",
    "\n",
    "The first thread reads the variable, and the second thread reads the same value from the variable\n",
    "\n",
    "Then the first thread and second thread perform their operations on the value, and they race to see which thread can write the value last to the shared variable\n",
    "\n",
    "The value of the thread that writes its value last is preserved, because the thread is writing over the value that the previous thread wrote\n",
    "\n",
    "The most common symptom of a race condition is unpredictable values of variables that are shared between multiple threads. \n",
    "\n",
    "This results from the unpredictability of the order in which the threads execute. Sometime one thread wins, and sometime the other thread wins\n",
    "\n",
    "At other times, execution works correctly. Also, if each thread is executed separately, the variable value behaves correctly."
   ]
  },
  {
   "cell_type": "markdown",
   "id": "9e4675ad",
   "metadata": {},
   "source": [
    "# Deadlock"
   ]
  },
  {
   "cell_type": "markdown",
   "id": "3d51e3ba",
   "metadata": {},
   "source": [
    "A deadlock occurs when two threads each lock a different variable at the same time and then try to lock the variable that the other thread already locked\n",
    "\n",
    "As a result, each thread stops executing and waits for the other thread to release the variable\n",
    "\n",
    "Because each thread is holding the variable that the other thread wants, nothing occurs, and the threads remain deadlocked."
   ]
  }
 ],
 "metadata": {
  "kernelspec": {
   "display_name": "Python 3 (ipykernel)",
   "language": "python",
   "name": "python3"
  },
  "language_info": {
   "codemirror_mode": {
    "name": "ipython",
    "version": 3
   },
   "file_extension": ".py",
   "mimetype": "text/x-python",
   "name": "python",
   "nbconvert_exporter": "python",
   "pygments_lexer": "ipython3",
   "version": "3.9.13"
  }
 },
 "nbformat": 4,
 "nbformat_minor": 5
}
