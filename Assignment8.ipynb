{
 "cells": [
  {
   "cell_type": "markdown",
   "id": "eeb97228",
   "metadata": {},
   "source": [
    "# Q.1."
   ]
  },
  {
   "cell_type": "code",
   "execution_count": 1,
   "id": "f51b6b93",
   "metadata": {},
   "outputs": [],
   "source": [
    "password = '12@#$ASasd'"
   ]
  },
  {
   "cell_type": "code",
   "execution_count": 2,
   "id": "bec3ab2a",
   "metadata": {},
   "outputs": [],
   "source": [
    "\n",
    "def pass_validity(a):\n",
    "    \n",
    "   \n",
    "    if len(a) == 10 and case(a) == True and special_char(a) == True:\n",
    "        \n",
    "        return 'valid password'\n",
    "    else:\n",
    "        return 'invalid password'"
   ]
  },
  {
   "cell_type": "code",
   "execution_count": 3,
   "id": "cd2e131b",
   "metadata": {},
   "outputs": [],
   "source": [
    "def case(str1):\n",
    "    count1 = 0\n",
    "    count2 = 0\n",
    "    for i in str1:\n",
    "        if i.isupper() == True:\n",
    "            count1+=1\n",
    "        if i.islower() == True:\n",
    "            count2+=1\n",
    "\n",
    "    if count1 >= 2 and count2 >=2:\n",
    "        \n",
    "        return True\n",
    "    else:\n",
    "        return False\n",
    "        "
   ]
  },
  {
   "cell_type": "code",
   "execution_count": 4,
   "id": "3c51054d",
   "metadata": {},
   "outputs": [],
   "source": [
    "def special_char(str2):\n",
    "    count1 = 0\n",
    "    count2 = 0\n",
    "    for i in str2:\n",
    "        if i.isdigit() == True:\n",
    "            count1+=1\n",
    "        if i.isalnum() == False:\n",
    "            count2+=1\n",
    "    if count1 >= 1 and count2 >=3:\n",
    "        \n",
    "        return True\n",
    "    else:\n",
    "        return False\n",
    "        \n",
    "    \n",
    "    "
   ]
  },
  {
   "cell_type": "code",
   "execution_count": 5,
   "id": "0b92b59f",
   "metadata": {},
   "outputs": [
    {
     "data": {
      "text/plain": [
       "'valid password'"
      ]
     },
     "execution_count": 5,
     "metadata": {},
     "output_type": "execute_result"
    }
   ],
   "source": [
    "pass_validity(password)"
   ]
  },
  {
   "cell_type": "markdown",
   "id": "e02e90c3",
   "metadata": {},
   "source": [
    "# Q.2.\n",
    "\n",
    "Check if the string starts with a particular letter"
   ]
  },
  {
   "cell_type": "code",
   "execution_count": 4,
   "id": "0bf464f6",
   "metadata": {},
   "outputs": [],
   "source": [
    "check = lambda str1 : True if str1.startswith('s') else False"
   ]
  },
  {
   "cell_type": "code",
   "execution_count": 5,
   "id": "ad5fb632",
   "metadata": {},
   "outputs": [
    {
     "data": {
      "text/plain": [
       "True"
      ]
     },
     "execution_count": 5,
     "metadata": {},
     "output_type": "execute_result"
    }
   ],
   "source": [
    "check('stryker')"
   ]
  },
  {
   "cell_type": "markdown",
   "id": "9597ea23",
   "metadata": {},
   "source": [
    "Check if the string is numeric"
   ]
  },
  {
   "cell_type": "code",
   "execution_count": 18,
   "id": "59408ade",
   "metadata": {},
   "outputs": [],
   "source": [
    "numeric = lambda str2 : True if str2.isnumeric() else False"
   ]
  },
  {
   "cell_type": "code",
   "execution_count": 19,
   "id": "a65890db",
   "metadata": {},
   "outputs": [
    {
     "data": {
      "text/plain": [
       "False"
      ]
     },
     "execution_count": 19,
     "metadata": {},
     "output_type": "execute_result"
    }
   ],
   "source": [
    "numeric('jsadgjhksf')"
   ]
  },
  {
   "cell_type": "markdown",
   "id": "4af98a1d",
   "metadata": {},
   "source": [
    "Sort a list of tuples having fruit names and their quantity. [(\"mango\",99),(\"orange\",80), (\"grapes\", 1000)]"
   ]
  },
  {
   "cell_type": "code",
   "execution_count": 21,
   "id": "f9ee618b",
   "metadata": {},
   "outputs": [],
   "source": [
    "lst = [(\"mango\",99),(\"orange\",80), (\"grapes\", 1000)]\n",
    "newLst = sorted(lst, key = lambda x : x[1])"
   ]
  },
  {
   "cell_type": "code",
   "execution_count": 22,
   "id": "b43f1e1b",
   "metadata": {},
   "outputs": [
    {
     "data": {
      "text/plain": [
       "[('orange', 80), ('mango', 99), ('grapes', 1000)]"
      ]
     },
     "execution_count": 22,
     "metadata": {},
     "output_type": "execute_result"
    }
   ],
   "source": [
    "newLst"
   ]
  },
  {
   "cell_type": "markdown",
   "id": "d8f5df99",
   "metadata": {},
   "source": [
    "Find the squares of numbers from 1 to 10"
   ]
  },
  {
   "cell_type": "code",
   "execution_count": 23,
   "id": "63e720b4",
   "metadata": {},
   "outputs": [
    {
     "data": {
      "text/plain": [
       "[1, 4, 9, 16, 25, 36, 49, 64, 81, 100]"
      ]
     },
     "execution_count": 23,
     "metadata": {},
     "output_type": "execute_result"
    }
   ],
   "source": [
    "[i**2 for i in range(1,11)]   ## list comprehension"
   ]
  },
  {
   "cell_type": "markdown",
   "id": "aa2aefc3",
   "metadata": {},
   "source": [
    "Find the cube root of numbers from 1 to 10"
   ]
  },
  {
   "cell_type": "code",
   "execution_count": 25,
   "id": "49ae669b",
   "metadata": {},
   "outputs": [
    {
     "data": {
      "text/plain": [
       "[1.0,\n",
       " 1.2599210498948732,\n",
       " 1.4422495703074083,\n",
       " 1.5874010519681994,\n",
       " 1.7099759466766968,\n",
       " 1.8171205928321397,\n",
       " 1.912931182772389,\n",
       " 2.0,\n",
       " 2.080083823051904,\n",
       " 2.154434690031884]"
      ]
     },
     "execution_count": 25,
     "metadata": {},
     "output_type": "execute_result"
    }
   ],
   "source": [
    "[i**(1/3) for i in range(1,11)]"
   ]
  },
  {
   "cell_type": "markdown",
   "id": "ae96a1fe",
   "metadata": {},
   "source": [
    "Check if a given number is even"
   ]
  },
  {
   "cell_type": "code",
   "execution_count": 26,
   "id": "802d77fa",
   "metadata": {},
   "outputs": [],
   "source": [
    "x = lambda num : True if num%2 == 0 else False"
   ]
  },
  {
   "cell_type": "code",
   "execution_count": 27,
   "id": "97591216",
   "metadata": {},
   "outputs": [
    {
     "data": {
      "text/plain": [
       "True"
      ]
     },
     "execution_count": 27,
     "metadata": {},
     "output_type": "execute_result"
    }
   ],
   "source": [
    "x(22)"
   ]
  },
  {
   "cell_type": "markdown",
   "id": "8680b588",
   "metadata": {},
   "source": [
    "B Filter odd numbers from the given list.\n",
    "[1,2,3,4,5,6,7,8,9,10]"
   ]
  },
  {
   "cell_type": "code",
   "execution_count": 29,
   "id": "2f201f00",
   "metadata": {},
   "outputs": [
    {
     "data": {
      "text/plain": [
       "[2, 4, 6, 8, 10]"
      ]
     },
     "execution_count": 29,
     "metadata": {},
     "output_type": "execute_result"
    }
   ],
   "source": [
    "lst2 =  [1,2,3,4,5,6,7,8,9,10]\n",
    "list(filter(lambda x : x%2 == 0, lst2))"
   ]
  },
  {
   "cell_type": "markdown",
   "id": "81b0a2f7",
   "metadata": {},
   "source": [
    "Sort a list of integers into positive and negative integers lists.\n",
    "[1,2,3,4,5,6,-1,-2,-3,-4,-5,0]"
   ]
  },
  {
   "cell_type": "code",
   "execution_count": 30,
   "id": "526f22af",
   "metadata": {},
   "outputs": [],
   "source": [
    "list3 =  [1,2,3,4,5,6,-1,-2,-3,-4,-5,0]\n",
    "list_positive = list(filter(lambda x : x>0, list3))"
   ]
  },
  {
   "cell_type": "code",
   "execution_count": 33,
   "id": "507943fe",
   "metadata": {},
   "outputs": [
    {
     "data": {
      "text/plain": [
       "[1, 2, 3, 4, 5, 6]"
      ]
     },
     "execution_count": 33,
     "metadata": {},
     "output_type": "execute_result"
    }
   ],
   "source": [
    "list_positive.sort()\n",
    "list_positive"
   ]
  },
  {
   "cell_type": "code",
   "execution_count": null,
   "id": "579d095d",
   "metadata": {},
   "outputs": [],
   "source": [
    "list_negative = "
   ]
  }
 ],
 "metadata": {
  "kernelspec": {
   "display_name": "Python 3 (ipykernel)",
   "language": "python",
   "name": "python3"
  },
  "language_info": {
   "codemirror_mode": {
    "name": "ipython",
    "version": 3
   },
   "file_extension": ".py",
   "mimetype": "text/x-python",
   "name": "python",
   "nbconvert_exporter": "python",
   "pygments_lexer": "ipython3",
   "version": "3.9.13"
  }
 },
 "nbformat": 4,
 "nbformat_minor": 5
}
