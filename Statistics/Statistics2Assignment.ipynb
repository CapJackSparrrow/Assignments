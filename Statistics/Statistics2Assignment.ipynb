{
 "cells": [
  {
   "cell_type": "markdown",
   "id": "e9fdc652",
   "metadata": {},
   "source": [
    "# Q.1."
   ]
  },
  {
   "cell_type": "markdown",
   "id": "11b141c7",
   "metadata": {},
   "source": [
    "Mean \n",
    "\n",
    "Median \n",
    "\n",
    "Mode"
   ]
  },
  {
   "cell_type": "markdown",
   "id": "137cb6af",
   "metadata": {},
   "source": [
    "# Q.2."
   ]
  },
  {
   "cell_type": "markdown",
   "id": "1fe15a43",
   "metadata": {},
   "source": [
    "The MEAN is the average of all the values in the dataset. It is calculated by adding up all the values and dividing the result by the total number of values. The mean can be affected by outliers, or extreme values, in the dataset.\n",
    "\n",
    "The MEDIAN is the middle value of a dataset when the values are arranged in order. If the dataset has an odd number of values, the median is the middle value. If the dataset has an even number of values, the median is the average of the two middle values. The median is less affected by outliers than the mean.\n",
    "\n",
    "The MODE is the value that occurs most frequently in a dataset. If no value occurs more than once, there is no mode. The mode can be used to describe the most common value or values in the dataset.\n",
    "\n",
    "These three measures of central tendency can be used to provide different perspectives on the same dataset. The mean is useful when the dataset is normally distributed and does not have outliers. The median is useful when the dataset has outliers or is not normally distributed. The mode is useful when the dataset has one or more values that occur more frequently than others"
   ]
  },
  {
   "cell_type": "markdown",
   "id": "a40dcf88",
   "metadata": {},
   "source": [
    "# Q.3."
   ]
  },
  {
   "cell_type": "code",
   "execution_count": 1,
   "id": "f57cec64",
   "metadata": {},
   "outputs": [],
   "source": [
    "import numpy as np\n",
    "data = [178,177,176,177,178.2,178,175,179,180,175,178.9,176.2,177,172.5,178,176.5]"
   ]
  },
  {
   "cell_type": "code",
   "execution_count": 4,
   "id": "85affc9f",
   "metadata": {},
   "outputs": [
    {
     "name": "stdout",
     "output_type": "stream",
     "text": [
      "177.01875\n",
      "177.0\n"
     ]
    }
   ],
   "source": [
    "print(np.mean(data))\n",
    "print(np.median(data))\n"
   ]
  },
  {
   "cell_type": "code",
   "execution_count": 6,
   "id": "e8e507b0",
   "metadata": {},
   "outputs": [
    {
     "data": {
      "text/plain": [
       "178"
      ]
     },
     "execution_count": 6,
     "metadata": {},
     "output_type": "execute_result"
    }
   ],
   "source": [
    "import statistics as st\n",
    "st.mode(data)"
   ]
  },
  {
   "cell_type": "code",
   "execution_count": 7,
   "id": "c5615d93",
   "metadata": {},
   "outputs": [
    {
     "name": "stderr",
     "output_type": "stream",
     "text": [
      "C:\\Users\\capja\\AppData\\Local\\Temp\\ipykernel_11196\\2800027621.py:2: FutureWarning: Unlike other reduction functions (e.g. `skew`, `kurtosis`), the default behavior of `mode` typically preserves the axis it acts along. In SciPy 1.11.0, this behavior will change: the default value of `keepdims` will become False, the `axis` over which the statistic is taken will be eliminated, and the value None will no longer be accepted. Set `keepdims` to True or False to avoid this warning.\n",
      "  stats.mode(data)\n"
     ]
    },
    {
     "data": {
      "text/plain": [
       "ModeResult(mode=array([177.]), count=array([3]))"
      ]
     },
     "execution_count": 7,
     "metadata": {},
     "output_type": "execute_result"
    }
   ],
   "source": [
    "from scipy import stats\n",
    "stats.mode(data)"
   ]
  },
  {
   "cell_type": "markdown",
   "id": "76d8b67d",
   "metadata": {},
   "source": [
    "# Q.4."
   ]
  },
  {
   "cell_type": "code",
   "execution_count": 8,
   "id": "62bc4dd4",
   "metadata": {},
   "outputs": [
    {
     "data": {
      "text/plain": [
       "1.7885814036548633"
      ]
     },
     "execution_count": 8,
     "metadata": {},
     "output_type": "execute_result"
    }
   ],
   "source": [
    "l = [178,177,176,177,178.2,178,175,179,180,175,178.9,176.2,177,172.5,178,176.5]\n",
    "np.std(l)"
   ]
  },
  {
   "cell_type": "markdown",
   "id": "bc6c5db8",
   "metadata": {},
   "source": [
    "# Q.5."
   ]
  },
  {
   "cell_type": "markdown",
   "id": "48c05eab",
   "metadata": {},
   "source": [
    "The RANGE is the difference between the largest and smallest values in a dataset. It gives an indication of the total spread of the dataset but does not take into account the distribution of the values. For example, consider the following dataset of salaries for a small company: $30,000, $40,000, $50,000, $60,000, and $70,000. \n",
    "\n",
    "The range of this dataset is $30,000.\n",
    "\n",
    "The VARIANCE is a measure of how much the values in a dataset deviate from the mean. It is calculated by taking the difference between each value and the mean, squaring the differences, summing them up, and dividing the result by the number of values minus one. A higher variance indicates that the values are more spread out from the mean. For example, let's consider the same dataset of salaries as above. The mean salary is $50,000. The variance of the dataset is calculated as follows:\n",
    "\n",
    "$((30,000 - 50,000)^2 + (40,000 - 50,000)^2 + (50,000 - 50,000)^2 + (60,000 - 50,000)^2 + (70,000 - 50,000)^2) / (5-1) = $200,000,000 / 4 = $50,000,000\n",
    "\n",
    "\n",
    "\n",
    "The STANDARD DEVIATION is the square root of the variance. It measures how much the values in a dataset deviate from the mean in the same units as the original data. It is a commonly used measure of dispersion as it provides an indication of how much the values in a dataset are spread out from the mean. For example, the standard deviation of the salary dataset above is the square root of the variance, which is $7,071.07."
   ]
  },
  {
   "cell_type": "markdown",
   "id": "a5a76807",
   "metadata": {},
   "source": [
    "# Q.6."
   ]
  },
  {
   "cell_type": "markdown",
   "id": "5b78b73f",
   "metadata": {},
   "source": [
    "A Venn diagram is a visual tool used to represent the relationships between different sets of data or groups. It consists of overlapping circles or other shapes that are used to represent each set or group. The area where the circles overlap represents the intersection of the sets or the data points that are shared by multiple groups."
   ]
  },
  {
   "cell_type": "markdown",
   "id": "16d2de28",
   "metadata": {},
   "source": [
    "# Q.7."
   ]
  },
  {
   "cell_type": "code",
   "execution_count": 11,
   "id": "e1162b5b",
   "metadata": {},
   "outputs": [
    {
     "name": "stdout",
     "output_type": "stream",
     "text": [
      "{0, 2, 3, 4, 5, 6, 7, 8, 10}\n"
     ]
    },
    {
     "data": {
      "text/plain": [
       "{2, 6}"
      ]
     },
     "execution_count": 11,
     "metadata": {},
     "output_type": "execute_result"
    }
   ],
   "source": [
    "A = {2,3,4,5,6,7}\n",
    "B = {0,2,6,8,10}\n",
    "print(A.union(B))\n",
    "A.intersection(B)\n"
   ]
  },
  {
   "cell_type": "markdown",
   "id": "b21152b5",
   "metadata": {},
   "source": [
    "# Q.8."
   ]
  },
  {
   "cell_type": "markdown",
   "id": "23ffb678",
   "metadata": {},
   "source": [
    "Skewness in data refers to the extent to which the data is asymmetrical or skewed away from a symmetrical distribution. In a symmetrical distribution, the data is evenly distributed around the mean, with approximately equal numbers of data points on either side. In contrast, skewed data has a longer tail on one side of the distribution than the other, indicating that the data is more concentrated on one side than the other.\n",
    "\n",
    "There are two main types of skewness:\n",
    "\n",
    "Positive skewness: This occurs when the majority of the data is concentrated on the left side of the distribution, with a longer tail on the right side. This means that the mean is greater than the median, and the distribution is said to be \"skewed to the right\".\n",
    "\n",
    "Negative skewness: This occurs when the majority of the data is concentrated on the right side of the distribution, with a longer tail on the left side. This means that the mean is less than the median, and the distribution is said to be \"skewed to the left\"."
   ]
  },
  {
   "cell_type": "markdown",
   "id": "6d636636",
   "metadata": {},
   "source": [
    "# Q.9."
   ]
  },
  {
   "cell_type": "markdown",
   "id": "b1831354",
   "metadata": {},
   "source": [
    "If a data is right-skewed, the median will be less than the mean. This is because the mean is influenced by the presence of extreme values or outliers on the right side of the distribution, which pull the mean towards higher values. In contrast, the median is not affected by extreme values and is simply the middle value of the dataset when it is arranged in order."
   ]
  },
  {
   "cell_type": "markdown",
   "id": "1199c09e",
   "metadata": {},
   "source": [
    "# Q.10."
   ]
  },
  {
   "cell_type": "markdown",
   "id": "84022622",
   "metadata": {},
   "source": [
    "COVARIANCE measures how much two variables change together. It is calculated by multiplying the deviation of each value in one variable from its mean by the deviation of the corresponding value in the other variable from its mean, and then summing up these products over the entire dataset. A positive covariance indicates that the two variables tend to increase or decrease together, while a negative covariance indicates that one variable tends to increase when the other decreases.\n",
    "\n",
    "CORRELATION, on the other hand, measures the strength and direction of the linear relationship between two variables. It is a standardized measure that ranges from -1 to +1, with a value of 0 indicating no linear relationship. A positive correlation indicates a direct relationship, where as one variable increases, so does the other, while a negative correlation indicates an inverse relationship, where as one variable increases, the other decreases. The magnitude of the correlation coefficient indicates the strength of the relationship, with values closer to -1 or +1 indicating a stronger correlation.\n",
    "\n",
    "In statistical analysis, both covariance and correlation are used to examine the relationship between two variables. However, correlation is preferred over covariance because it is standardized and does not depend on the units of measurement of the variables. This makes it easier to compare the strength of the relationship between two variables that are measured in different units. Correlation is also more useful in identifying patterns and trends in data, as it provides a more accurate measure of the strength and direction of the relationship between two variables"
   ]
  },
  {
   "cell_type": "markdown",
   "id": "5a9cfc3b",
   "metadata": {},
   "source": [
    "# Q.11."
   ]
  },
  {
   "cell_type": "markdown",
   "id": "90e85e9f",
   "metadata": {},
   "source": [
    "The formula for calculating the sample mean is:\n",
    "\n",
    "x̄ = Σx / n\n",
    "\n",
    "where x̄ is the sample mean, Σx is the sum of all values in the sample, and n is the sample size.\n",
    "\n",
    "Suppose we have the following dataset of 5 values:\n",
    "\n",
    "{2, 5, 8, 10, 12}\n",
    "\n",
    "To calculate the sample mean, we add up all the values in the dataset:\n",
    "\n",
    "Σx = 2 + 5 + 8 + 10 + 12 = 37\n",
    "\n",
    "x̄ = 37 / 5 = 7.4\n",
    "\n",
    "Therefore, the sample mean for this dataset is 7.4."
   ]
  },
  {
   "cell_type": "markdown",
   "id": "be644dc3",
   "metadata": {},
   "source": [
    "# Q.12."
   ]
  },
  {
   "cell_type": "markdown",
   "id": "6fea933b",
   "metadata": {},
   "source": [
    "For a normal distribution, the mean, median, and mode are all equal. This is because a normal distribution is symmetric around the mean, and the median and mode are also located at the center of the distribution"
   ]
  },
  {
   "cell_type": "markdown",
   "id": "94a6a94b",
   "metadata": {},
   "source": [
    "# Q.13."
   ]
  },
  {
   "cell_type": "markdown",
   "id": "eab1f2b5",
   "metadata": {},
   "source": [
    "Covariance value can be between any range whereas correletion value is standarised and comes within a range of [-1,1]"
   ]
  },
  {
   "cell_type": "markdown",
   "id": "5d61a717",
   "metadata": {},
   "source": [
    "# Q.14."
   ]
  },
  {
   "cell_type": "markdown",
   "id": "a3975b64",
   "metadata": {},
   "source": [
    "Outliers can have a significant impact on measures of central tendency and dispersion, as they can skew the distribution and cause these measures to be biased.\n",
    "\n",
    "For example, consider the following dataset of 10 values:\n",
    "\n",
    "{5, 8, 10, 12, 15, 18, 20, 22, 25, 100}\n",
    "\n",
    "In this dataset, the value 100 is an outlier, as it is much larger than the other values. If we calculate the mean of this dataset, we get:\n",
    "\n",
    "mean = (5 + 8 + 10 + 12 + 15 + 18 + 20 + 22 + 25 + 100) / 10 = 23.5\n",
    "\n",
    "The mean of this dataset is 23.5, which is much larger than most of the values in the dataset. This is because the outlier value of 100 has a large influence on the mean.\n",
    "\n",
    "Similarly, outliers can also affect measures of dispersion such as range, variance, and standard deviation. For example, if we calculate the range of this dataset, we get:\n",
    "\n",
    "range = max value - min value = 100 - 5 = 95\n",
    "\n",
    "The range of this dataset is 95, which is much larger than the range of the majority of the values in the dataset. This is because the outlier value of 100 has a large influence on the range."
   ]
  },
  {
   "cell_type": "code",
   "execution_count": null,
   "id": "04ef0944",
   "metadata": {},
   "outputs": [],
   "source": []
  }
 ],
 "metadata": {
  "kernelspec": {
   "display_name": "Python 3 (ipykernel)",
   "language": "python",
   "name": "python3"
  },
  "language_info": {
   "codemirror_mode": {
    "name": "ipython",
    "version": 3
   },
   "file_extension": ".py",
   "mimetype": "text/x-python",
   "name": "python",
   "nbconvert_exporter": "python",
   "pygments_lexer": "ipython3",
   "version": "3.9.13"
  }
 },
 "nbformat": 4,
 "nbformat_minor": 5
}
