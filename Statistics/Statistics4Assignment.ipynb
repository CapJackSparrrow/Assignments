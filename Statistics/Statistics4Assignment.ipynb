{
 "cells": [
  {
   "cell_type": "markdown",
   "id": "2ab17ba1",
   "metadata": {},
   "source": [
    "## Q.1."
   ]
  },
  {
   "cell_type": "markdown",
   "id": "eb0a3337",
   "metadata": {},
   "source": [
    "The PMF gives the probability of a particular value of a discrete random variable, while the PDF gives the probability density at a particular value of a continuous random variable.\n",
    "\n",
    "For example, let's say we are interested in the number of heads that come up when flipping a fair coin three times. We can define a discrete random variable X that takes on values from 0 to 3, where X = 0 corresponds to getting no heads, X = 1 corresponds to getting one head, and so on.\n",
    "\n",
    "The PMF for this random variable is given by:\n",
    "\n",
    "P(X = 0) = 1/8\n",
    "P(X = 1) = 3/8\n",
    "P(X = 2) = 3/8\n",
    "P(X = 3) = 1/8\n",
    "\n",
    "Here, the PMF gives the probability of each possible outcome of the random variable X.\n",
    "\n",
    "Now, let's consider a continuous random variable Y that represents the time it takes for a car to travel a certain distance. The PDF for this random variable gives the probability density at a particular value of Y.\n",
    "\n",
    "For example, if we assume that the PDF of Y is a normal distribution with mean 2 hours and standard deviation 0.5 hours, we can calculate the probability density at a specific value of Y, say Y = 1.5 hours, as follows:\n",
    "\n",
    "f(Y = 1.5) = (1/sqrt(2pi0.5^2)) * exp(-(1.5-2)^2/(2*0.5^2))\n",
    "\n",
    "Here, the PDF gives the probability density at the specific value of Y = 1.5 hours"
   ]
  },
  {
   "cell_type": "markdown",
   "id": "13a7fc05",
   "metadata": {},
   "source": [
    "## Q.2."
   ]
  },
  {
   "cell_type": "markdown",
   "id": "1f72650b",
   "metadata": {},
   "source": [
    "The Cumulative Distribution Function (CDF) is a mathematical function that describes the probability distribution of a random variable, either discrete or continuous. The CDF gives the probability that a random variable X takes on a value less than or equal to a given value x, denoted by F(x) = P(X ≤ x).\n",
    "\n",
    "For discrete random variables, the CDF is the cumulative sum of the probability mass function (PMF). For continuous random variables, the CDF is the integral of the probability density function (PDF).\n",
    "\n",
    "For example, consider a fair six-sided die. Let X be a discrete random variable that represents the outcome of rolling the die. The PMF of X is:\n",
    "\n",
    "P(X = 1) = 1/6\n",
    "P(X = 2) = 1/6\n",
    "P(X = 3) = 1/6\n",
    "P(X = 4) = 1/6\n",
    "P(X = 5) = 1/6\n",
    "P(X = 6) = 1/6\n",
    "\n",
    "The CDF of X is:\n",
    "\n",
    "F(x) = P(X ≤ x)\n",
    "\n",
    "F(1) = P(X ≤ 1) = 1/6\n",
    "F(2) = P(X ≤ 2) = 2/6 = 1/3\n",
    "F(3) = P(X ≤ 3) = 3/6 = 1/2\n",
    "F(4) = P(X ≤ 4) = 4/6 = 2/3\n",
    "F(5) = P(X ≤ 5) = 5/6\n",
    "F(6) = P(X ≤ 6) = 1\n",
    "\n",
    "Here, the CDF gives the probability of getting a value less than or equal to a given value of X.\n",
    "\n",
    "The CDF is an important tool in probability theory and statistics because it provides a complete summary of the probability distribution of a random variable. It is used to calculate various important measures such as the expected value, variance, and quantiles of the distribution. Additionally, it can be used to compare two different distributions and to test statistical hypotheses.\n"
   ]
  },
  {
   "cell_type": "markdown",
   "id": "ee569fc2",
   "metadata": {},
   "source": [
    "## Q.3."
   ]
  },
  {
   "cell_type": "markdown",
   "id": "58b3d982",
   "metadata": {},
   "source": [
    "The normal distribution is a continuous probability distribution that is widely used as a model in various fields, such as finance, physics, engineering, and social sciences, to describe real-world phenomena. Here are some examples of situations where the normal distribution might be used as a model:\n",
    "\n",
    "Heights of adult humans: The normal distribution is often used to model the heights of adult humans, as the distribution of heights tends to be approximately normal.\n",
    "\n",
    "IQ scores: The normal distribution is frequently used to model IQ scores, as IQ scores tend to be normally distributed with a mean of 100 and a standard deviation of 15.\n",
    "\n",
    "Measurement errors: The normal distribution is commonly used to model measurement errors in scientific experiments, as errors are often normally distributed with a mean of zero and a constant standard deviation.\n",
    "\n",
    "The normal distribution is characterized by two parameters: the mean (μ) and the standard deviation (σ). The mean determines the center of the distribution, while the standard deviation determines the spread of the distribution.\n",
    "\n",
    "If μ = 0 and σ = 1, the resulting normal distribution is called the standard normal distribution, and it has a bell-shaped curve centered at zero. The majority of the values are concentrated around the mean, with fewer values farther away from the mean. The standard deviation determines the width of the curve, with larger values of σ resulting in a wider curve.\n",
    "\n",
    "If μ is positive, the peak of the curve shifts to the right, and if μ is negative, the peak of the curve shifts to the left. Similarly, if σ is larger, the curve becomes flatter and wider, while if σ is smaller, the curve becomes taller and narrower.\n",
    "\n",
    "In summary, the mean and standard deviation of the normal distribution determine the location and shape of the distribution, respectively. The normal distribution is a versatile and widely used probability distribution that is suitable for modeling a wide range of phenomena.\n"
   ]
  },
  {
   "cell_type": "markdown",
   "id": "42d0d0b1",
   "metadata": {},
   "source": [
    "## Q.4."
   ]
  },
  {
   "cell_type": "markdown",
   "id": "05dd3c7b",
   "metadata": {},
   "source": [
    "The normal distribution is a continuous probability distribution that is widely used as a model in various fields, such as finance, physics, engineering, and social sciences, to describe real-world phenomena. Here are some examples of situations where the normal distribution might be used as a model:\n",
    "\n",
    "Heights of adult humans: The normal distribution is often used to model the heights of adult humans, as the distribution of heights tends to be approximately normal.\n",
    "\n",
    "IQ scores: The normal distribution is frequently used to model IQ scores, as IQ scores tend to be normally distributed with a mean of 100 and a standard deviation of 15.\n",
    "\n",
    "Measurement errors: The normal distribution is commonly used to model measurement errors in scientific experiments, as errors are often normally distributed with a mean of zero and a constant standard deviation."
   ]
  },
  {
   "cell_type": "markdown",
   "id": "f2fbd930",
   "metadata": {},
   "source": [
    "## Q.5."
   ]
  },
  {
   "cell_type": "markdown",
   "id": "ff1b3cc5",
   "metadata": {},
   "source": [
    "The Bernoulli distribution is a probability distribution that models a single experiment with two possible outcomes: success with probability p, and failure with probability 1-p. It is named after Swiss mathematician Jacob Bernoulli, who introduced it in his book \"Ars Conjectandi\" in 1713.\n",
    "\n",
    "An example of the Bernoulli distribution is tossing a coin, where the two possible outcomes are \"heads\" and \"tails\". Let X be a random variable that represents the outcome of the toss, where X = 1 if the coin lands on \"heads\" and X = 0 if the coin lands on \"tails\". The probability distribution of X is given by the Bernoulli distribution:\n",
    "\n",
    "P(X=1) = p\n",
    "P(X=0) = 1-p\n",
    "\n",
    "where p is the probability of getting a \"heads\" on a single toss.\n",
    "\n",
    "The key difference between the Bernoulli distribution and the binomial distribution is that the Bernoulli distribution models a single trial, while the binomial distribution models the number of successes in a fixed number of independent Bernoulli trials.\n",
    "\n",
    "For example, if we toss a coin n times and count the number of times we get \"heads\", the number of \"heads\" can be modeled using a binomial distribution with parameters n and p, where p is the probability of getting a \"heads\" on a single toss. The probability mass function of the binomial distribution is given by:\n",
    "\n",
    "P(X=k) = (n choose k) * p^k * (1-p)^(n-k)\n",
    "\n",
    "where X is the number of \"heads\" obtained in n tosses, and k is any integer between 0 and n.\n",
    "\n",
    "In summary, the Bernoulli distribution models a single trial with two possible outcomes, while the binomial distribution models the number of successes in a fixed number of independent Bernoulli trials. The Bernoulli distribution can be thought of as a special case of the binomial distribution with n = 1."
   ]
  },
  {
   "cell_type": "markdown",
   "id": "3b3d1b8a",
   "metadata": {},
   "source": [
    "## Q.6."
   ]
  },
  {
   "cell_type": "code",
   "execution_count": 2,
   "id": "b62d3c18",
   "metadata": {},
   "outputs": [],
   "source": [
    "mu = 50 \n",
    "sd = 10\n",
    "x = 60\n",
    "z_score = (x-mu)/10"
   ]
  },
  {
   "cell_type": "code",
   "execution_count": 3,
   "id": "32a6c26c",
   "metadata": {},
   "outputs": [
    {
     "data": {
      "text/plain": [
       "1.0"
      ]
     },
     "execution_count": 3,
     "metadata": {},
     "output_type": "execute_result"
    }
   ],
   "source": [
    "z_score"
   ]
  },
  {
   "cell_type": "code",
   "execution_count": 4,
   "id": "c4459d75",
   "metadata": {},
   "outputs": [],
   "source": [
    "# from z-table we can find that the area to left of 60 is .84134 ,so\n",
    "# observation will be greater than 60\n",
    "obs_greater_60 = 1-.84134"
   ]
  },
  {
   "cell_type": "code",
   "execution_count": 5,
   "id": "a90639b6",
   "metadata": {},
   "outputs": [
    {
     "data": {
      "text/plain": [
       "0.15866000000000002"
      ]
     },
     "execution_count": 5,
     "metadata": {},
     "output_type": "execute_result"
    }
   ],
   "source": [
    "obs_greater_60\n"
   ]
  },
  {
   "cell_type": "markdown",
   "id": "a6923235",
   "metadata": {},
   "source": [
    "## Q.7."
   ]
  },
  {
   "cell_type": "markdown",
   "id": "d2ff8a07",
   "metadata": {},
   "source": [
    "The uniform distribution is a probability distribution where every value within a given interval is equally likely to be observed. It is often used to model situations where each possible outcome has an equal chance of occurring.\n",
    "\n",
    "An example of the uniform distribution is rolling a fair six-sided die. The possible outcomes are the integers 1, 2, 3, 4, 5, and 6, and each outcome has an equal probability of 1/6. The probability distribution of rolling a die can be described using the uniform distribution:\n",
    "\n",
    "P(X = i) = 1/6\n",
    "\n",
    "where X is the random variable representing the outcome of rolling the die, and i is any integer between 1 and 6."
   ]
  },
  {
   "cell_type": "markdown",
   "id": "0f7dc552",
   "metadata": {},
   "source": [
    "## Q.8."
   ]
  },
  {
   "cell_type": "markdown",
   "id": "24020a2e",
   "metadata": {},
   "source": [
    "The z-score, also known as the standard score, is a measure of how many standard deviations a data point is from the mean of a distribution. It is calculated by subtracting the mean of the distribution from the data point and then dividing the result by the standard deviation of the distribution.\n",
    "\n",
    "The formula for the z-score is:\n",
    "\n",
    "z = (x - μ) / σ\n",
    "\n",
    "where z is the z-score, x is the data point, μ is the mean of the distribution, and σ is the standard deviation of the distribution.\n",
    "\n",
    "The z-score is important because it provides a way to compare data points from different distributions that have different means and standard deviations. By converting data points to z-scores, we can determine how far each data point is from the mean of its distribution in terms of standard deviations.\n",
    "\n",
    "Z-scores are also useful for finding percentiles or probabilities associated with specific data points in a distribution. If we know the mean and standard deviation of a distribution, we can use the standard normal distribution table to find the probability of a data point falling within a certain range of z-scores. This makes it possible to make meaningful comparisons and draw conclusions from data even when the data is from different distributions with different means and standard deviations.\n",
    "\n",
    "In summary, the z-score is a standardized measure of how far a data point is from the mean of a distribution in terms of standard deviations. It is important because it allows us to compare data points from different distributions and find probabilities associated with specific data points in a distribution"
   ]
  },
  {
   "cell_type": "markdown",
   "id": "933d06e4",
   "metadata": {},
   "source": [
    "## Q.9."
   ]
  },
  {
   "cell_type": "markdown",
   "id": "a7df4eba",
   "metadata": {},
   "source": [
    "The Central Limit Theorem is a fundamental concept in statistics that states that given a large enough sample size, the distribution of the sample means will be approximately normally distributed, regardless of the underlying distribution of the population. Specifically, the theorem states that as the sample size increases, the sample means will approach a normal distribution with a mean equal to the population mean and a standard deviation equal to the population standard deviation divided by the square root of the sample size.\n",
    "\n",
    "The significance of the Central Limit Theorem is that it allows us to make inferences about population parameters using sample statistics. It is a powerful tool for statistical inference and hypothesis testing because it allows us to estimate the distribution of the population mean even if the population is not normally distributed. The theorem is widely used in fields such as finance, economics, engineering, and social sciences.\n",
    "\n",
    "Some key implications of the Central Limit Theorem include:\n",
    "\n",
    "The larger the sample size, the closer the sample mean will be to the population mean.\n",
    "The standard error of the sample mean decreases as the sample size increases.\n",
    "The Central Limit Theorem can be used to estimate the confidence interval for the population mean and test hypotheses about the population mean using the t-distribution or the standard normal distribution.\n",
    "In summary, the Central Limit Theorem is an important concept in statistics that allows us to make inferences about population parameters using sample statistics. Its significance lies in its ability to provide a framework for statistical inference and hypothesis testing, even when the underlying population distribution is not known."
   ]
  },
  {
   "cell_type": "markdown",
   "id": "21fbc186",
   "metadata": {},
   "source": [
    "## Q.10"
   ]
  },
  {
   "cell_type": "markdown",
   "id": "444b9eb2",
   "metadata": {},
   "source": [
    "The Central Limit Theorem (CLT) is a fundamental concept in statistics that allows us to make inferences about population parameters using sample statistics. However, the CLT has some assumptions that need to be satisfied for the theorem to hold. The assumptions of the Central Limit Theorem are:\n",
    "\n",
    "The samples must be independent and identically distributed.\n",
    "\n",
    "The sample size should be large enough. Typically, a sample size of 30 or more is considered to be sufficient.\n",
    "\n",
    "The population should have a finite mean and standard deviation. If the population does not have a finite variance, then the CLT may not hold, and alternative methods should be used."
   ]
  },
  {
   "cell_type": "code",
   "execution_count": null,
   "id": "6ac8af0d",
   "metadata": {},
   "outputs": [],
   "source": []
  }
 ],
 "metadata": {
  "kernelspec": {
   "display_name": "Python 3 (ipykernel)",
   "language": "python",
   "name": "python3"
  },
  "language_info": {
   "codemirror_mode": {
    "name": "ipython",
    "version": 3
   },
   "file_extension": ".py",
   "mimetype": "text/x-python",
   "name": "python",
   "nbconvert_exporter": "python",
   "pygments_lexer": "ipython3",
   "version": "3.9.13"
  }
 },
 "nbformat": 4,
 "nbformat_minor": 5
}
