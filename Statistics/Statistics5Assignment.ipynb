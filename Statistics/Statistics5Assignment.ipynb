{
 "cells": [
  {
   "cell_type": "markdown",
   "id": "1f4994ee",
   "metadata": {},
   "source": [
    "# Q.1."
   ]
  },
  {
   "cell_type": "markdown",
   "id": "4aa31d88",
   "metadata": {},
   "source": [
    "Estimation statistics is a branch of statistics that involves using data from a sample to make inferences about a population. The goal of estimation is to estimate unknown population parameters based on sample data. Estimation is an important part of statistical inference, which is used to draw conclusions about a population based on data collected from a sample.\n",
    "\n",
    "There are two types of estimation in statistics: point estimation and interval estimation.\n",
    "\n",
    "Point estimation: In point estimation, a single value is used to estimate the population parameter. This value is often the sample mean or the sample proportion, and it is called the point estimate. For example, if we want to estimate the average height of all people in a city, we might take a random sample of 100 people and calculate their average height. This average height is the point estimate of the population mean height.\n",
    "\n",
    "Interval estimation: In interval estimation, a range of values is used to estimate the population parameter. This range is called the confidence interval, and it is often expressed as a range of values with a certain level of confidence. For example, if we want to estimate the average height of all people in a city with 95% confidence, we might calculate a confidence interval that ranges from the lower bound to the upper bound of the interval. The lower and upper bounds of the interval are calculated using the sample mean, standard deviation, and the level of confidence desired."
   ]
  },
  {
   "cell_type": "markdown",
   "id": "59e02aa3",
   "metadata": {},
   "source": [
    "# Q.2."
   ]
  },
  {
   "cell_type": "code",
   "execution_count": 3,
   "id": "34f666e0",
   "metadata": {},
   "outputs": [
    {
     "name": "stdout",
     "output_type": "stream",
     "text": [
      "Estimated population mean: 50.00\n",
      "95% confidence interval: (48.04, 51.96)\n"
     ]
    }
   ],
   "source": [
    "import math\n",
    "\n",
    "def estimate_population_mean(sample_mean, sample_std_dev, sample_size):\n",
    "    \"\"\"Estimates the population mean using a sample mean and standard deviation.\"\"\"\n",
    "    # Calculate the standard error of the mean\n",
    "    std_err = sample_std_dev / math.sqrt(sample_size)\n",
    "    \n",
    "    # Calculate the lower and upper bounds of the confidence interval with 95% confidence\n",
    "    lower_bound = sample_mean - 1.96 * std_err\n",
    "    upper_bound = sample_mean + 1.96 * std_err\n",
    "    \n",
    "    # Return the estimated population mean and confidence interval\n",
    "    return (sample_mean, (lower_bound, upper_bound))\n",
    "\n",
    "\n",
    "sample_mean = 50\n",
    "sample_std_dev = 10\n",
    "sample_size = 100\n",
    "\n",
    "population_mean, confidence_interval = estimate_population_mean(sample_mean, sample_std_dev, sample_size)\n",
    "\n",
    "print(f\"Estimated population mean: {population_mean:.2f}\")\n",
    "print(f\"95% confidence interval: ({confidence_interval[0]:.2f}, {confidence_interval[1]:.2f})\")"
   ]
  },
  {
   "cell_type": "markdown",
   "id": "d21e63b2",
   "metadata": {},
   "source": [
    "# Q.3."
   ]
  },
  {
   "cell_type": "markdown",
   "id": "6e6acdd0",
   "metadata": {},
   "source": [
    "Hypothesis testing is a statistical method used to determine whether an assumption or hypothesis about a population parameter is supported by the available data. It involves formulating a null hypothesis and an alternative hypothesis, collecting data, and using statistical methods to test whether the null hypothesis can be rejected in favor of the alternative hypothesis.\n",
    "\n",
    "The null hypothesis is a statement that there is no significant difference between two groups, or that a given parameter does not differ significantly from a known value. The alternative hypothesis, on the other hand, is the statement that there is a significant difference or relationship between two groups, or that a given parameter does differ significantly from a known value.\n",
    "\n",
    "Hypothesis testing is used to make data-driven decisions in a wide range of fields, including science, engineering, medicine, business, and social sciences. It is particularly important in scientific research, where it is used to test theories and make generalizations about populations based on data collected from a sample.\n",
    "\n",
    "The importance of hypothesis testing lies in its ability to provide a systematic and objective way of evaluating the evidence for or against a particular hypothesis. By using statistical methods to test hypotheses, researchers can ensure that their findings are based on sound statistical principles, rather than subjective opinions or intuition. Hypothesis testing also allows researchers to quantify the degree of uncertainty associated with their conclusions, which is essential for making informed decisions based on the available evidence."
   ]
  },
  {
   "cell_type": "markdown",
   "id": "8516555e",
   "metadata": {},
   "source": [
    "# Q.4."
   ]
  },
  {
   "cell_type": "markdown",
   "id": "e3f0beb9",
   "metadata": {},
   "source": [
    "Null hypothesis: The average weight of male college students is equal to or less than the average weight of female college students.\n",
    "\n",
    "Alternative hypothesis: The average weight of male college students is greater than the average weight of female college students.\n",
    "\n",
    "Symbolically, this can be represented as:\n",
    "\n",
    "H0: µm ≤ µf\n",
    "\n",
    "Ha: µm > µf\n",
    "\n",
    "where µm represents the population mean weight of male college students and µf represents the population mean weight of female college students.\n",
    "\n",
    "Note that this hypothesis is directional, meaning we are interested in testing if the average weight of male college students is greater than the average weight of female college students, rather than just testing for a difference between the two. This means that we will be using a one-tailed test to evaluate the hypothesis"
   ]
  },
  {
   "cell_type": "markdown",
   "id": "35c2c778",
   "metadata": {},
   "source": [
    "# Q.5."
   ]
  },
  {
   "cell_type": "code",
   "execution_count": 4,
   "id": "2247e809",
   "metadata": {},
   "outputs": [
    {
     "name": "stdout",
     "output_type": "stream",
     "text": [
      "Reject the null hypothesis with a p-value of 0.0000.\n"
     ]
    }
   ],
   "source": [
    "import scipy.stats as stats\n",
    "\n",
    "# Set the significance level alpha\n",
    "alpha = 0.05\n",
    "\n",
    "# Define the sample data for two populations\n",
    "sample1 = [85, 90, 84, 82, 88, 92, 91, 86, 89, 83]\n",
    "sample2 = [76, 78, 79, 80, 77, 82, 81, 83, 75, 78]\n",
    "\n",
    "# Calculate the sample statistics\n",
    "mean1 = sum(sample1) / len(sample1)\n",
    "mean2 = sum(sample2) / len(sample2)\n",
    "s1 = stats.tstd(sample1)\n",
    "s2 = stats.tstd(sample2)\n",
    "n1 = len(sample1)\n",
    "n2 = len(sample2)\n",
    "\n",
    "# Calculate the test statistic and p-value\n",
    "t_stat = (mean1 - mean2) / ((s1 ** 2 / n1) + (s2 ** 2 / n2)) ** 0.5\n",
    "p_value = stats.t.sf(abs(t_stat), df=n1+n2-2) * 2  # two-tailed test\n",
    "\n",
    "# Determine if the null hypothesis is rejected or not\n",
    "if p_value < alpha:\n",
    "    print(f\"Reject the null hypothesis with a p-value of {p_value:.4f}.\")\n",
    "else:\n",
    "    print(f\"Fail to reject the null hypothesis with a p-value of {p_value:.4f}.\")"
   ]
  },
  {
   "cell_type": "markdown",
   "id": "2d8309cb",
   "metadata": {},
   "source": [
    "# Q.6."
   ]
  },
  {
   "cell_type": "markdown",
   "id": "33e18130",
   "metadata": {},
   "source": [
    "The null hypothesis (denoted as H0) is the default or initial assumption, which states that there is no significant difference or relationship between the two groups or variables being compared. It represents the idea that any observed difference or relationship in the data is due to chance or sampling variability.\n",
    "\n",
    "The alternative hypothesis (denoted as Ha or H1) is the statement that contradicts the null hypothesis, and is the hypothesis that researchers aim to support by collecting evidence. It states that there is a significant difference or relationship between the two groups or variables being compared, and that this difference is not due to chance or sampling variability.\n",
    "\n",
    "Here are some examples of null and alternative hypotheses:\n",
    "\n",
    "Null hypothesis: The mean score of students in a class is equal to 70.\n",
    "\n",
    "Alternative hypothesis: The mean score of students in a class is not equal to 70.\n",
    "\n",
    "Null hypothesis: There is no significant difference in blood pressure between men and women.\n",
    "\n",
    "Alternative hypothesis: Men have a higher blood pressure than women.\n",
    "\n",
    "Null hypothesis: There is no significant relationship between exercise and weight loss.\n",
    "\n",
    "Alternative hypothesis: Exercise is associated with weight loss.\n",
    "\n",
    "Null hypothesis: There is no significant difference in the proportion of defective products produced by two factories.\n",
    "\n",
    "Alternative hypothesis: The proportion of defective products produced by one factory is higher than the proportion produced by the other factory.\n",
    "\n",
    "Null hypothesis: A new medication has no effect on reducing symptoms of a disease.\n",
    "\n",
    "Alternative hypothesis: The new medication reduces symptoms of the disease."
   ]
  },
  {
   "cell_type": "markdown",
   "id": "95cd7af9",
   "metadata": {},
   "source": [
    "# Q.7."
   ]
  },
  {
   "cell_type": "markdown",
   "id": "134a9168",
   "metadata": {},
   "source": [
    "Here are the general steps involved in hypothesis testing:\n",
    "\n",
    "1. State the research question: Identify the research question or problem that you want to investigate.\n",
    "\n",
    "2. Define the null and alternative hypotheses: Formulate the null hypothesis (H0) and alternative hypothesis (Ha) based on the research question. The null hypothesis is the default assumption, while the alternative hypothesis is the opposite of the null hypothesis.\n",
    "\n",
    "3. Determine the level of significance: Decide on the level of significance (alpha) that you will use to test the hypothesis. The level of significance is the maximum probability of making a type I error (rejecting the null hypothesis when it is true) that you are willing to accept.\n",
    "\n",
    "4. Choose the appropriate test statistic: Select the appropriate test statistic based on the type of data and the hypothesis being tested.\n",
    "\n",
    "5. Collect and analyze the data: Collect and analyze the data using the chosen test statistic. Calculate the test statistic and corresponding p-value.\n",
    "\n",
    "6. Interpret the results: Interpret the results of the hypothesis test by comparing the p-value to the level of significance. If the p-value is less than the level of significance, reject the null hypothesis and accept the alternative hypothesis. If the p-value is greater than the level of significance, fail to reject the null hypothesis.\n",
    "\n",
    "7. Draw conclusions: Draw conclusions based on the results of the hypothesis test. Explain what the results mean in the context of the research question.\n",
    "\n",
    "8. Communicate the results: Communicate the results of the hypothesis test in a clear and concise manner, including the hypothesis being tested, the test statistic used, the p-value, the decision made, and the conclusion drawn."
   ]
  },
  {
   "cell_type": "markdown",
   "id": "7c3bcd0c",
   "metadata": {},
   "source": [
    "# Q.8."
   ]
  },
  {
   "cell_type": "markdown",
   "id": "e691ca7e",
   "metadata": {},
   "source": [
    "In hypothesis testing, the p-value is the probability of observing a test statistic as extreme as, or more extreme than, the one calculated from the sample data, assuming that the null hypothesis is true. It is a measure of the strength of evidence against the null hypothesis.\n",
    "\n",
    "The p-value plays a crucial role in hypothesis testing because it allows us to make a decision about the null hypothesis. If the p-value is less than the level of significance (alpha), we reject the null hypothesis and accept the alternative hypothesis. If the p-value is greater than the level of significance, we fail to reject the null hypothesis.\n",
    "\n",
    "The significance of the p-value depends on the chosen level of significance (alpha). If alpha is set to 0.05, for example, a p-value less than 0.05 indicates that there is strong evidence against the null hypothesis, and we can reject it in favor of the alternative hypothesis. Conversely, if the p-value is greater than 0.05, we do not have enough evidence to reject the null hypothesis.\n",
    "\n",
    "It's worth noting that the p-value does not tell us the probability of the null hypothesis being true or false. It only tells us the probability of observing the test statistic under the assumption that the null hypothesis is true. Therefore, it's important to interpret the p-value in the context of the research question and the study design, and to consider other factors such as effect size, sample size, and statistical power when making a decision about the null hypothesis."
   ]
  },
  {
   "cell_type": "markdown",
   "id": "af247db4",
   "metadata": {},
   "source": [
    "# Q.9."
   ]
  },
  {
   "cell_type": "code",
   "execution_count": 5,
   "id": "c6adc80e",
   "metadata": {},
   "outputs": [
    {
     "data": {
      "image/png": "[encoded data removed]",
      "text/plain": [
       "<Figure size 640x480 with 1 Axes>"
      ]
     },
     "metadata": {},
     "output_type": "display_data"
    }
   ],
   "source": [
    "import numpy as np\n",
    "import matplotlib.pyplot as plt\n",
    "from scipy.stats import t\n",
    "\n",
    "df = 10  # degrees of freedom\n",
    "x = np.linspace(t.ppf(0.001, df), t.ppf(0.999, df), 100)  # range of x values\n",
    "y = t.pdf(x, df)  # corresponding y values\n",
    "\n",
    "plt.plot(x, y, 'r-', lw=2, label='t distribution (df=10)')\n",
    "plt.legend()\n",
    "plt.show()"
   ]
  },
  {
   "cell_type": "markdown",
   "id": "476d08da",
   "metadata": {},
   "source": [
    "# Q.10."
   ]
  },
  {
   "cell_type": "code",
   "execution_count": 6,
   "id": "7bb14943",
   "metadata": {},
   "outputs": [
    {
     "name": "stdout",
     "output_type": "stream",
     "text": [
      "Sample 1 mean:  5.0\n",
      "Sample 2 mean:  5.0\n",
      "Pooled standard deviation:  2.7386127875258306\n",
      "t statistic:  0.0\n",
      "Degrees of freedom:  8\n",
      "p-value:  1.0\n"
     ]
    }
   ],
   "source": [
    "import math\n",
    "\n",
    "# Define two random samples\n",
    "sample1 = [3, 5, 2, 8, 7]\n",
    "sample2 = [4, 6, 1, 9, 5]\n",
    "\n",
    "# Calculate the mean of each sample\n",
    "mean1 = sum(sample1) / len(sample1)\n",
    "mean2 = sum(sample2) / len(sample2)\n",
    "\n",
    "# Calculate the variance of each sample\n",
    "var1 = sum((x - mean1) ** 2 for x in sample1) / (len(sample1) - 1)\n",
    "var2 = sum((x - mean2) ** 2 for x in sample2) / (len(sample2) - 1)\n",
    "\n",
    "# Calculate the pooled standard deviation\n",
    "s = math.sqrt(((len(sample1) - 1) * var1 + (len(sample2) - 1) * var2) / (len(sample1) + len(sample2) - 2))\n",
    "\n",
    "# Calculate the t statistic\n",
    "t = (mean1 - mean2) / (s * math.sqrt(1 / len(sample1) + 1 / len(sample2)))\n",
    "\n",
    "# Calculate the degrees of freedom\n",
    "df = len(sample1) + len(sample2) - 2\n",
    "\n",
    "# Calculate the p-value\n",
    "p = 2 * (1 - stats.t.cdf(abs(t), df=df))\n",
    "\n",
    "# Print the results\n",
    "print(\"Sample 1 mean: \", mean1)\n",
    "print(\"Sample 2 mean: \", mean2)\n",
    "print(\"Pooled standard deviation: \", s)\n",
    "print(\"t statistic: \", t)\n",
    "print(\"Degrees of freedom: \", df)\n",
    "print(\"p-value: \", p)"
   ]
  },
  {
   "cell_type": "markdown",
   "id": "4f6eaf96",
   "metadata": {},
   "source": [
    "# Q.11."
   ]
  },
  {
   "cell_type": "markdown",
   "id": "2a76046a",
   "metadata": {},
   "source": [
    "Student’s t-distribution is a probability distribution that is used to estimate population parameters when the sample size is small, or the population standard deviation is unknown. It is named after William Sealy Gosset, who published under the pseudonym \"Student\" in 1908.\n",
    "\n",
    "The t-distribution is similar in shape to the normal distribution but has heavier tails, which means it gives more weight to extreme values. The shape of the t-distribution depends on a parameter called the degrees of freedom (df), which is determined by the sample size. As the sample size increases, the t-distribution becomes closer to the normal distribution.\n",
    "\n",
    "The t-distribution is commonly used in hypothesis testing when the sample size is small (usually less than 30) and the population standard deviation is unknown. In these cases, the sample standard deviation is used as an estimate of the population standard deviation, and the t-distribution is used to calculate the probability of observing a test statistic as extreme as the one observed, assuming the null hypothesis is true.\n",
    "\n",
    "For example, if you want to test whether the mean of a small sample is significantly different from a hypothesized value, you can calculate a t-statistic and compare it to the critical values from the t-distribution. If the t-statistic is larger than the critical value, you can reject the null hypothesis and conclude that the sample mean is significantly different from the hypothesized value."
   ]
  },
  {
   "cell_type": "markdown",
   "id": "4e704b33",
   "metadata": {},
   "source": [
    "# Q.12."
   ]
  },
  {
   "cell_type": "markdown",
   "id": "3e04fa33",
   "metadata": {},
   "source": [
    "The t-statistic is a test statistic that measures the difference between the sample mean and the hypothesized population mean, in units of the standard error of the sample mean. It is used in hypothesis testing to determine whether the difference between the sample mean and the hypothesized population mean is statistically significant.\n",
    "\n",
    "The formula for t-statistic is:\n",
    "\n",
    "t = (x̄ - μ) / (s / √n)\n",
    "\n",
    "Where:\n",
    "\n",
    "x̄ is the sample mean\n",
    "μ is the hypothesized population mean\n",
    "s is the sample standard deviation\n",
    "n is the sample size\n",
    "The numerator (x̄ - μ) is the difference between the sample mean and the hypothesized population mean, and the denominator (s / √n) is the standard error of the sample mean. The standard error of the sample mean is an estimate of the standard deviation of the sample mean and is calculated as the sample standard deviation divided by the square root of the sample size.\n",
    "\n",
    "The t-statistic measures the number of standard errors by which the sample mean differs from the hypothesized population mean. If the t-statistic is large, it suggests that the sample mean is significantly different from the hypothesized population mean, and we can reject the null hypothesis that the two means are equal. The critical value of t, beyond which we reject the null hypothesis, depends on the sample size and the desired level of significance"
   ]
  },
  {
   "cell_type": "markdown",
   "id": "7075c327",
   "metadata": {},
   "source": [
    "# Q.13."
   ]
  },
  {
   "cell_type": "markdown",
   "id": "b163c144",
   "metadata": {},
   "source": [
    "To estimate the population mean revenue with a 95% confidence interval, we can use the following formula:\n",
    "\n",
    "CI = x̄ ± z* (σ/√n)\n",
    "\n",
    "where\n",
    "\n",
    "x̄ is the sample mean revenue\n",
    "σ is the population standard deviation (unknown)\n",
    "n is the sample size\n",
    "z* is the critical value from the standard normal distribution corresponding to a 95% confidence level, which is 1.96.\n",
    "Plugging in the values we have:\n",
    "\n",
    "CI = 500 ± 1.96 * (50/√50)\n",
    "= 500 ± 13.8\n",
    "= (486.2, 513.8)\n",
    "\n",
    "Therefore, we can say with 95% confidence that the population mean revenue is between $486.2 and $513.8.\n",
    "\n",
    "\n",
    "\n"
   ]
  },
  {
   "cell_type": "markdown",
   "id": "710984c2",
   "metadata": {},
   "source": [
    "# Q.14"
   ]
  },
  {
   "cell_type": "markdown",
   "id": "fd00fd62",
   "metadata": {},
   "source": [
    "Null hypothesis (H0): The new drug will not decrease blood pressure by 10 mmHg, or the mean decrease in blood pressure is not different from 10 mmHg.\n",
    "Alternative hypothesis (Ha): The new drug will decrease blood pressure by 10 mmHg, or the mean decrease in blood pressure is less than 10 mmHg.\n",
    "Set the level of significance (α) to 0.05.\n",
    "\n",
    "Calculate the test statistic:\n",
    "\n",
    "t = (x̄ - μ) / (s / √n)\n",
    "\n",
    "where x̄ is the sample mean (8 mmHg), μ is the hypothesized population mean (10 mmHg), s is the sample standard deviation (3 mmHg), and n is the sample size (100).\n",
    "\n",
    "Plugging in the values, we get:\n",
    "\n",
    "t = (8 - 10) / (3 / √100) = -6.67\n",
    "\n",
    "Determine the p-value associated with the test statistic. Since this is a one-tailed test (we are testing whether the mean decrease in blood pressure is less than 10 mmHg), we look up the p-value from the t-distribution with 99 degrees of freedom (n-1):\n",
    "p-value = P(t < -6.67) ≈ 0\n",
    "\n",
    "Compare the p-value to the level of significance. Since the p-value is less than the level of significance (p-value < α), we reject the null hypothesis"
   ]
  },
  {
   "cell_type": "markdown",
   "id": "72c5353a",
   "metadata": {},
   "source": [
    "# Q.15."
   ]
  },
  {
   "cell_type": "markdown",
   "id": "326ae24b",
   "metadata": {},
   "source": [
    "Null hypothesis (H0): The true mean weight of the products is equal to 5 pounds.\n",
    "Alternative hypothesis (Ha): The true mean weight of the products is less than 5 pounds.\n",
    "Set the level of significance (α) to 0.01.\n",
    "\n",
    "Calculate the test statistic:\n",
    "\n",
    "t = (x̄ - μ) / (s / √n)\n",
    "\n",
    "where x̄ is the sample mean (4.8 pounds), μ is the hypothesized population mean (5 pounds), s is the sample standard deviation (0.5 pounds), and n is the sample size (25).\n",
    "\n",
    "Plugging in the values, we get:\n",
    "\n",
    "t = (4.8 - 5) / (0.5 / √25) = -2\n",
    "\n",
    "Determine the p-value associated with the test statistic. Since this is a one-tailed test (we are testing whether the mean weight of the products is less than 5 pounds), we look up the p-value from the t-distribution with 24 degrees of freedom (n-1):\n",
    "p-value = P(t < -2) ≈ 0.026\n",
    "\n",
    "Compare the p-value to the level of significance. Since the p-value is less than the level of significance (p-value < α), we reject the null hypothesis.\n",
    "\n",
    "State the conclusion. Based on the results of the test, we can conclude that the true mean weight of the products is less than 5 pounds at a significance level of 0.01"
   ]
  },
  {
   "cell_type": "markdown",
   "id": "55bc2efc",
   "metadata": {},
   "source": [
    "# Q.16."
   ]
  },
  {
   "cell_type": "markdown",
   "id": "a69d8dab",
   "metadata": {},
   "source": [
    "Null hypothesis (H0): The population means for the two groups are equal.\n",
    "Alternative hypothesis (Ha): The population means for the two groups are not equal.\n",
    "Set the level of significance (α) to 0.01.\n",
    "\n",
    "Calculate the test statistic:\n",
    "\n",
    "t = (x̄1 - x̄2) / sqrt(s1^2/n1 + s2^2/n2)\n",
    "\n",
    "where x̄1 and x̄2 are the sample means for the first and second groups (80 and 75, respectively), s1 and s2 are the sample standard deviations for the first and second groups (10 and 8, respectively), and n1 and n2 are the sample sizes for the first and second groups (30 and 40, respectively).\n",
    "\n",
    "Plugging in the values, we get:\n",
    "\n",
    "t = (80 - 75) / sqrt((10^2/30) + (8^2/40)) ≈ 2.38\n",
    "\n",
    "Determine the degrees of freedom (df) for the t-distribution. We use the following formula:\n",
    "df = (s1^2/n1 + s2^2/n2)^2 / ( (s1^2/n1)^2 / (n1-1) + (s2^2/n2)^2 / (n2-1) )\n",
    "\n",
    "Plugging in the values, we get:\n",
    "\n",
    "df = ((10^2/30) + (8^2/40))^2 / ( ((10^2/30)^2/(30-1)) + ((8^2/40)^2/(40-1)) ) ≈ 65.3\n",
    "\n",
    "Since we have a non-integer df value, we can round down to 65.\n",
    "\n",
    "Determine the p-value associated with the test statistic. Since this is a two-tailed test, we look up the p-value from the t-distribution with 65 degrees of freedom:\n",
    "p-value ≈ 0.021\n",
    "\n",
    "Compare the p-value to the level of significance. Since the p-value is less than the level of significance (p-value < α), we reject the null hypothesis.\n",
    "\n",
    "State the conclusion. Based on the results of the test, we can conclude that the population means for the two groups are not equal at a significance level of 0.01.\n",
    "\n",
    "\n",
    "\n"
   ]
  },
  {
   "cell_type": "markdown",
   "id": "696c87a5",
   "metadata": {},
   "source": [
    "# Q.17."
   ]
  },
  {
   "cell_type": "markdown",
   "id": "77994759",
   "metadata": {},
   "source": [
    "To estimate the population mean with a 99% confidence interval, we can use the following formula:\n",
    "\n",
    "CI = x̄ ± z* (σ/√n)\n",
    "\n",
    "where CI is the confidence interval, x̄ is the sample mean, z* is the critical value for the desired level of confidence (99% in this case), σ is the population standard deviation (unknown), and n is the sample size.\n",
    "\n",
    "Since the population standard deviation is unknown, we can use the sample standard deviation as an estimate, which is s = 1.5. Plugging in the values, we get:\n",
    "\n",
    "CI = 4 ± 2.576 * (1.5/√50)\n",
    "\n",
    "Simplifying the equation, we get:\n",
    "\n",
    "CI = 4 ± 0.668\n",
    "\n",
    "Therefore, the 99% confidence interval for the population mean is (3.332, 4.668).\n",
    "\n",
    "We can interpret this result as follows: if we were to take many random samples of 50 viewers and calculate the sample mean and confidence interval for each sample, about 99% of the intervals would contain the true population mean number of ads watched by viewers during a TV program"
   ]
  },
  {
   "cell_type": "code",
   "execution_count": null,
   "id": "4c0ab244",
   "metadata": {},
   "outputs": [],
   "source": []
  }
 ],
 "metadata": {
  "kernelspec": {
   "display_name": "Python 3 (ipykernel)",
   "language": "python",
   "name": "python3"
  },
  "language_info": {
   "codemirror_mode": {
    "name": "ipython",
    "version": 3
   },
   "file_extension": ".py",
   "mimetype": "text/x-python",
   "name": "python",
   "nbconvert_exporter": "python",
   "pygments_lexer": "ipython3",
   "version": "3.9.13"
  }
 },
 "nbformat": 4,
 "nbformat_minor": 5
}
