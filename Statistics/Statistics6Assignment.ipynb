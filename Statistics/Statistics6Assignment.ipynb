{
 "cells": [
  {
   "cell_type": "markdown",
   "id": "a847ca70",
   "metadata": {},
   "source": [
    "# Q.1."
   ]
  },
  {
   "cell_type": "markdown",
   "id": "0d57fee8",
   "metadata": {},
   "source": [
    "A t-test and a z-test are both hypothesis tests that are used to compare sample means with population means or to compare two sample means. However, they differ in the assumptions made about the population and the sample size.\n",
    "\n",
    "A z-test assumes that the population standard deviation is known, or the sample size is large enough (usually more than 30), and the population is normally distributed. It is typically used when the population standard deviation is known and the sample size is large. For example, suppose we want to test the claim that the average height of adult males is 6 feet. We can take a random sample of 50 adult males and use a z-test to determine if the sample mean height is significantly different from 6 feet.\n",
    "\n",
    "On the other hand, a t-test assumes that the population standard deviation is unknown and must be estimated using the sample standard deviation. It is typically used when the sample size is small (less than 30) or when the population is not normally distributed. For example, suppose we want to test the claim that the mean time to complete a task is 10 minutes. We can take a random sample of 25 individuals and use a t-test to determine if the sample mean time is significantly different from 10 minutes.\n",
    "\n",
    "In summary, a z-test is used when the population standard deviation is known and the sample size is large, while a t-test is used when the population standard deviation is unknown and the sample size is small or the population is not normally distributed"
   ]
  },
  {
   "cell_type": "markdown",
   "id": "3c25a468",
   "metadata": {},
   "source": [
    "# Q.2."
   ]
  },
  {
   "cell_type": "markdown",
   "id": "2442d450",
   "metadata": {},
   "source": [
    "A one-tailed test is a hypothesis test where the alternative hypothesis is directional, meaning it specifies a particular direction for the difference or effect being tested. For example, if we are testing the claim that a new drug increases the average recovery time of patients after surgery, we may specify that the drug increases the average recovery time, making the alternative hypothesis one-tailed. In a one-tailed test, the critical region (the region of rejection) is located on one side of the sampling distribution.\n",
    "\n",
    "A two-tailed test, on the other hand, is a hypothesis test where the alternative hypothesis is non-directional, meaning it does not specify a particular direction for the difference or effect being tested. For example, if we are testing the claim that there is a difference in the mean weight of apples between two regions, we may simply specify that there is a difference, without specifying whether the weight is greater or less in one region than the other, making the alternative hypothesis two-tailed. In a two-tailed test, the critical region (the region of rejection) is split between both sides of the sampling distribution.\n",
    "\n",
    "The choice of a one-tailed or two-tailed test depends on the research question and the directionality of the effect being tested. A one-tailed test is more powerful than a two-tailed test for detecting an effect in a specific direction. However, it is only appropriate when there is strong theoretical or empirical justification for the directionality of the effect. If the directionality is uncertain or not relevant, a two-tailed test is more appropriate as it is more generalizable to different scenarios"
   ]
  },
  {
   "cell_type": "markdown",
   "id": "7f2cadf3",
   "metadata": {},
   "source": [
    "# Q.3."
   ]
  },
  {
   "cell_type": "markdown",
   "id": "c6438bda",
   "metadata": {},
   "source": [
    "Type 1 error occurs when the null hypothesis is rejected when it is actually true. In other words, it is the incorrect rejection of a true null hypothesis. The probability of making a Type 1 error is denoted by alpha (α), which is the level of significance chosen for the test. The smaller the alpha, the lower the chance of making a Type 1 error.\n",
    "\n",
    "For example, let's say we are conducting a study on a new drug for a certain condition. Our null hypothesis is that the drug does not have any effect on the condition. A Type 1 error in this case would occur if we reject the null hypothesis and conclude that the drug is effective, when in fact, it is not.\n",
    "\n",
    "Type 2 error occurs when the null hypothesis is not rejected when it is actually false. In other words, it is the failure to reject a false null hypothesis. The probability of making a Type 2 error is denoted by beta (β). The smaller the beta, the lower the chance of making a Type 2 error.\n",
    "\n",
    "For example, let's say we are conducting a study on the same new drug for a certain condition. Our null hypothesis is that the drug does not have any effect on the condition. A Type 2 error in this case would occur if we fail to reject the null hypothesis and conclude that the drug is not effective, when in fact, it is effective."
   ]
  },
  {
   "cell_type": "markdown",
   "id": "43611bb1",
   "metadata": {},
   "source": [
    "# Q.4."
   ]
  },
  {
   "cell_type": "markdown",
   "id": "931e3c93",
   "metadata": {},
   "source": [
    "Bayes's theorem is a mathematical formula used to calculate the conditional probability of an event, given prior knowledge about related events. It is named after the British mathematician and philosopher, Thomas Bayes.\n",
    "\n",
    "The formula for Bayes's theorem is as follows:\n",
    "\n",
    "P(A|B) = (P(B|A) * P(A)) / P(B)\n",
    "\n",
    "where P(A|B) is the probability of event A given that event B has occurred, P(B|A) is the probability of event B given that event A has occurred, P(A) is the prior probability of event A, and P(B) is the prior probability of event B.\n",
    "\n",
    "Bayes's theorem is often used in fields such as statistics, machine learning, and artificial intelligence, where it is used to update the probability of a hypothesis based on new evidence.\n",
    "\n",
    "For example, let's say a medical test is designed to detect a certain disease, and the test has an accuracy rate of 95%. However, the disease is rare, occurring in only 1% of the population. If a person tests positive for the disease, what is the probability that they actually have the disease?\n",
    "\n",
    "Let's define event A as the person having the disease, and event B as the person testing positive for the disease. We can then use Bayes's theorem to calculate the probability of event A given event B:\n",
    "\n",
    "P(A|B) = (P(B|A) * P(A)) / P(B)\n",
    "\n",
    "where P(B|A) is the probability of testing positive given that the person has the disease, which is 0.95 in this case. P(A) is the prior probability of the person having the disease, which is 0.01. P(B) is the overall probability of testing positive for the disease, which can be calculated as follows:\n",
    "\n",
    "P(B) = (P(B|A) * P(A)) + (P(B|-A) * P(-A))\n",
    "\n",
    "where P(B|-A) is the probability of testing positive given that the person does not have the disease, which is the false positive rate, and can be calculated as 1 - 0.95 = 0.05. P(-A) is the probability of the person not having the disease, which is 1 - 0.01 = 0.99.\n",
    "\n",
    "P(B) = (0.95 * 0.01) + (0.05 * 0.99) = 0.058\n",
    "\n",
    "Substituting the values in the Bayes's theorem formula, we get:\n",
    "\n",
    "P(A|B) = (0.95 * 0.01) / 0.058 = 0.1638"
   ]
  },
  {
   "cell_type": "markdown",
   "id": "e787ec8b",
   "metadata": {},
   "source": [
    "# Q.5."
   ]
  },
  {
   "cell_type": "markdown",
   "id": "d87a1844",
   "metadata": {},
   "source": [
    "A confidence interval is a range of values that is likely to contain the true value of a population parameter, such as a mean or a proportion. It is a statistical measure that quantifies the level of uncertainty associated with an estimate.\n",
    "\n",
    "Confidence intervals are constructed based on a sample of data, and the level of confidence specifies how often the interval is expected to contain the true value of the parameter. For example, a 95% confidence interval for a population mean implies that if we were to take repeated samples of the same size from the population, and construct a 95% confidence interval from each sample, about 95% of the intervals would contain the true population mean.\n",
    "\n",
    "To calculate a confidence interval, we typically use a formula that takes into account the sample size, the sample mean or proportion, the standard error of the estimate, and the desired level of confidence. For example, to calculate a 95% confidence interval for a population mean based on a sample of size n with sample mean x and standard deviation s, we use the following formula:\n",
    "\n",
    "CI = x ± z* (s / sqrt(n))\n",
    "\n",
    "where CI is the confidence interval, x is the sample mean, s is the sample standard deviation, n is the sample size, and z is the critical value from the standard normal distribution corresponding to the desired level of confidence (e.g., 1.96 for a 95% confidence interval).\n",
    "\n",
    "For instance, suppose we want to estimate the average height of adult males in a population. We take a random sample of 50 adult males and measure their heights. The sample mean height is 175 cm, and the sample standard deviation is 7 cm. Using the formula above, we can calculate a 95% confidence interval as follows:\n",
    "\n",
    "CI = 175 ± 1.96 * (7 / sqrt(50))\n",
    "= 175 ± 1.96 * 0.99\n",
    "= (172.1, 177.9)\n",
    "\n",
    "Therefore, we can be 95% confident that the true average height of adult males in the population lies between 172.1 cm and 177.9 cm."
   ]
  },
  {
   "cell_type": "markdown",
   "id": "ec3e1faf",
   "metadata": {},
   "source": [
    "# Q.6."
   ]
  },
  {
   "cell_type": "markdown",
   "id": "29d2d22c",
   "metadata": {},
   "source": [
    "Suppose that a factory produces light bulbs, and the quality control system tests each bulb before it is shipped. The factory produces two types of light bulbs: Type A and Type B. The proportion of Type A bulbs is 60%, while the proportion of Type B bulbs is 40%. The quality control system correctly identifies a defective bulb in 80% of cases (true positive rate), but it also returns a false positive result (i.e., identifying a good bulb as defective) in 10% of cases. If a bulb is selected at random and it is found to be defective, what is the probability that it is a Type B bulb?\n",
    "\n",
    "Solution:\n",
    "\n",
    "Let A be the event that a bulb is Type B, and let B be the event that the bulb is defective. We know that:\n",
    "\n",
    "P(A) = 0.4 (prior probability of a bulb being Type B)\n",
    "\n",
    "P(B|A) = 0.8 (true positive rate)\n",
    "\n",
    "P(B|-A) = 0.1 (false positive rate)\n",
    "\n",
    "We want to calculate P(A|B), the probability that the bulb is Type B given that it is defective.\n",
    "\n",
    "Using Bayes' Theorem, we have:\n",
    "\n",
    "P(A|B) = P(B|A) * P(A) / P(B)\n",
    "\n",
    "where P(B) is the total probability of a bulb being defective, which can be calculated using the law of total probability:\n",
    "\n",
    "P(B) = P(B|A) * P(A) + P(B|-A) * P(-A)\n",
    "= 0.8 * 0.4 + 0.1 * 0.6\n",
    "= 0.34\n",
    "\n",
    "Now we can substitute the values into the formula for Bayes' Theorem:\n",
    "\n",
    "P(A|B) = P(B|A) * P(A) / P(B)\n",
    "= 0.8 * 0.4 / 0.34\n",
    "= 0.9412\n",
    "\n",
    "Therefore, if a bulb is found to be defective, the probability that it is a Type B bulb is approximately 94.12%"
   ]
  },
  {
   "cell_type": "markdown",
   "id": "604ae295",
   "metadata": {},
   "source": [
    "# Q.7."
   ]
  },
  {
   "cell_type": "markdown",
   "id": "eb1c7d8a",
   "metadata": {},
   "source": [
    "o calculate the 95% confidence interval for a sample of data with a mean of 50 and a standard deviation of 5, we can use the following formula:\n",
    "\n",
    "CI = X ± Z * (s / sqrt(n))\n",
    "\n",
    "where CI is the confidence interval, X is the sample mean (in this case, 50), Z is the critical value for the 95% confidence level (which is 1.96), s is the sample standard deviation (in this case, 5), and n is the sample size (which is not given).\n",
    "\n",
    "Assuming a large enough sample size, we can use the standard normal distribution to find the critical value of Z for a 95% confidence level. The critical value is 1.96, which corresponds to a 95% confidence level and a two-tailed test.\n",
    "\n",
    "Substituting the values, we get:\n",
    "\n",
    "CI = 50 ± 1.96 * (5 / sqrt(n))\n",
    "\n",
    "Interpreting the results, we can say that we are 95% confident that the true population mean falls within this range. In other words, if we were to repeat this experiment many times and calculate the confidence interval each time, we would expect that 95% of the intervals would contain the true population mean.\n",
    "\n",
    "Note that the width of the confidence interval depends on the sample size. A larger sample size would result in a narrower confidence interval, which means that we would be more certain about the true population mean."
   ]
  },
  {
   "cell_type": "markdown",
   "id": "ae53b95f",
   "metadata": {},
   "source": [
    "# Q.8."
   ]
  },
  {
   "cell_type": "markdown",
   "id": "068b3c22",
   "metadata": {},
   "source": [
    "The margin of error is the amount of uncertainty associated with a confidence interval. It reflects the fact that we are estimating the population parameter from a sample, rather than measuring the entire population. The margin of error is typically expressed as a plus or minus value and represents the range within which we are confident the true population parameter lies.\n",
    "\n",
    "In other words, the margin of error is the distance between the sample estimate and the true population parameter, within which we expect the true population parameter to lie with a given level of confidence.\n",
    "\n",
    "Sample size has a direct effect on the margin of error. As the sample size increases, the margin of error decreases. This is because larger sample sizes provide more information and reduce the variability in the data. A larger sample size reduces the standard error of the mean, which means that the sample estimate is closer to the true population parameter, resulting in a smaller margin of error.\n",
    "\n",
    "For example, suppose we want to estimate the average age of students in a college. If we sample only 50 students, our estimate might be affected by the specific sample we chose, and the margin of error might be larger. However, if we sample 500 students, our estimate would be more reliable, and the margin of error would be smaller.\n",
    "\n",
    "Suppose we want to estimate the proportion of voters in a city who support a new policy proposal. If we sample only 100 voters, our estimate might have a larger margin of error, as it is based on a relatively small sample size. However, if we sample 1000 voters, our estimate would be more reliable, and the margin of error would be smaller.\n",
    "\n",
    "In summary, the margin of error represents the uncertainty associated with a confidence interval, and larger sample sizes result in smaller margins of error because they provide more information and reduce variability in the data."
   ]
  },
  {
   "cell_type": "markdown",
   "id": "1440a3d1",
   "metadata": {},
   "source": [
    "# Q.9."
   ]
  },
  {
   "cell_type": "markdown",
   "id": "4fa0cb9f",
   "metadata": {},
   "source": [
    "To calculate the z-score for a data point with a value of 75, a population mean of 70, and a population standard deviation of 5, we can use the following formula:\n",
    "\n",
    "z = (x - μ) / σ\n",
    "\n",
    "where x is the value of the data point, μ is the population mean, and σ is the population standard deviation.\n",
    "\n",
    "Substituting the values, we get:\n",
    "\n",
    "z = (75 - 70) / 5 = 1\n",
    "\n",
    "Interpreting the results, a z-score of 1 indicates that the data point is one standard deviation above the population mean. This means that the value of 75 is relatively high compared to the rest of the population. The z-score also allows us to compare this data point with other data points that might come from a different population with a different mean and standard deviation, by standardizing the values and putting them on the same scale."
   ]
  },
  {
   "cell_type": "markdown",
   "id": "68cd6e6a",
   "metadata": {},
   "source": [
    "# Q.10."
   ]
  },
  {
   "cell_type": "markdown",
   "id": "27d251cd",
   "metadata": {},
   "source": [
    "Null hypothesis (H0): The weight loss drug is not significantly effective, and the true population mean weight loss is equal to or less than 0 pounds.\n",
    "Alternative hypothesis (Ha): The weight loss drug is significantly effective, and the true population mean weight loss is greater than 0 pounds.\n",
    "\n",
    "Step 2: Determine the significance level and select the appropriate test:\n",
    "\n",
    "The significance level is 0.05, or a 95% confidence level.\n",
    "Because the sample size is small (n < 30) and the population standard deviation is unknown, we will use a one-sample t-test.\n",
    "\n",
    "Step 3: Calculate the test statistic:\n",
    "\n",
    "We can use the following formula to calculate the t-value: t = (x̄ - μ) / (s / √n), where x̄ is the sample mean (6 pounds), μ is the hypothesized population mean (0 pounds), s is the sample standard deviation (2.5 pounds), and n is the sample size (50).\n",
    "Substituting the values, we get: t = (6 - 0) / (2.5 / √50) = 12.65\n",
    "\n",
    "Step 4: Calculate the p-value:\n",
    "\n",
    "We can calculate the p-value using a t-distribution table with 49 degrees of freedom (n - 1), which corresponds to the sample size minus one.\n",
    "The p-value for a one-tailed test with a t-value of 12.65 and 49 degrees of freedom is less than 0.0001.\n",
    "\n",
    "Step 5: Make a decision and interpret the results:\n",
    "\n",
    "Because the p-value is less than the significance level of 0.05, we reject the null hypothesis and conclude that the weight loss drug is significantly effective at a 95% confidence level.\n",
    "We can interpret the results as follows: based on the sample of 50 participants, we are 95% confident that the true population mean weight loss is greater than 0 pounds, and the weight loss drug is effective in helping people lose weight. However, we should also consider the limitations of the study, such as potential biases or confounding factors, before making any definitive conclusions.\n",
    "\n",
    "\n"
   ]
  },
  {
   "cell_type": "markdown",
   "id": "6892a5f7",
   "metadata": {},
   "source": [
    "# Q.11."
   ]
  },
  {
   "cell_type": "markdown",
   "id": "fb4af6db",
   "metadata": {},
   "source": [
    "CI = p ± z* (sqrt(p*(1-p)/n))\n",
    "\n",
    "CI = 0.65 ± 1.96 * (sqrt(0.65 * 0.35 / 500))\n",
    "\n",
    "CI = 0.65 ± 0.0455\n",
    "\n",
    "CI = (0.6045, 0.6955)\n",
    "\n",
    "Interpreting the results, we can say that based on the sample of 500 people, we are 95% confident that the true proportion of people who are satisfied with their job falls between 60.45% and 69.55%. This means that if we were to repeat the survey many times, 95% of the confidence intervals we construct using this method would contain the true population proportion."
   ]
  },
  {
   "cell_type": "markdown",
   "id": "22ac79d0",
   "metadata": {},
   "source": [
    "# Q.12."
   ]
  },
  {
   "cell_type": "markdown",
   "id": "75b8e983",
   "metadata": {},
   "source": [
    "Step 1: State the null and alternative hypotheses:\n",
    "\n",
    "Null hypothesis (H0): The two teaching methods do not have a significant difference in student performance, and the true population means are equal (μA = μB).\n",
    "\n",
    "Alternative hypothesis (Ha): The two teaching methods have a significant difference in student performance, and the true population means are not equal (μA ≠ μB).\n",
    "\n",
    "Step 2: Determine the significance level and select the appropriate test:\n",
    "\n",
    "The significance level is 0.01.\n",
    "Because the sample sizes are small (nA < 30 and nB < 30) and the population standard deviations are unknown, we will use a two-sample t-test with unequal variances.\n",
    "\n",
    "Step 3: Calculate the test statistic:\n",
    "\n",
    "We can use the following formula to calculate the t-value: t = (x̄A - x̄B) / sqrt((sA^2 / nA) + (sB^2 / nB)), where x̄A and x̄B are the sample means (85 and 82, respectively), sA and sB are the sample standard deviations (6 and 5, respectively), and nA and nB are the sample sizes (unknown in this case).\n",
    "\n",
    "Because the sample sizes are unknown, we can use the pooled estimate of the population variance, which is given by: Sp^2 = ((nA - 1) * sA^2 + (nB - 1) * sB^2) / (nA + nB - 2)\n",
    "\n",
    "Substituting the values, we get: t = (85 - 82) / sqrt((6^2 / nA) + (5^2 / nB)) = 3 / sqrt((36 / nA) + (25 / nB))\n",
    "\n",
    "We also need to calculate the degrees of freedom using the following formula: df = (Sp^2)^2 / ((sA^2 / nA)^2 / (nA - 1) + (sB^2 / nB)^2 / (nB - 1))\n",
    "\n",
    "Substituting the values, we get: df = 47.35\n",
    "\n",
    "Step 4: Calculate the p-value:\n",
    "\n",
    "We can calculate the p-value using a t-distribution table with 47 degrees of freedom and a two-tailed test.\n",
    "The p-value for a t-value of 3 and 47 degrees of freedom is less than 0.01.\n",
    "\n",
    "Step 5: Make a decision and interpret the results:\n",
    "\n",
    "Because the p-value is less than the significance level of 0.01, we reject the null hypothesis and conclude that the two teaching methods have a significant difference in student performance.\n",
    "We can interpret the results as follows: based on the samples, we have evidence to suggest that one teaching method leads to higher student performance than the other. However, we should also consider the limitations of the study, such as potential biases or confounding factors, before making any definitive conclusions."
   ]
  },
  {
   "cell_type": "markdown",
   "id": "427961e9",
   "metadata": {},
   "source": [
    "# Q.13."
   ]
  },
  {
   "cell_type": "markdown",
   "id": "c37561c2",
   "metadata": {},
   "source": [
    "CI = x̄ ± z* (σ / sqrt(n))\n",
    "\n",
    "where CI is the confidence interval, x̄ is the sample mean (65), z* is the z-score for the desired level of confidence (1.645 for 90% confidence interval), σ is the population standard deviation (8), and n is the sample size (50).\n",
    "\n",
    "Substituting the values, we get:\n",
    "\n",
    "CI = 65 ± 1.645 * (8 / sqrt(50))\n",
    "CI = 65 ± 2.902\n",
    "CI = (62.098, 67.902)\n",
    "\n",
    "Therefore, we can be 90% confident that the true population mean falls between 62.098 and 67.902"
   ]
  },
  {
   "cell_type": "markdown",
   "id": "50cf185b",
   "metadata": {},
   "source": [
    "# Q.14."
   ]
  },
  {
   "cell_type": "markdown",
   "id": "e0f7b5a5",
   "metadata": {},
   "source": [
    "Step 1: State the null and alternative hypotheses.\n",
    "\n",
    "The null hypothesis (H0) is that there is no significant difference in reaction time between participants who consumed caffeine and those who did not consume caffeine. The alternative hypothesis (Ha) is that there is a significant difference in reaction time between the two groups.\n",
    "\n",
    "H0: μ1 - μ2 = 0 (no significant difference)\n",
    "\n",
    "Ha: μ1 - μ2 ≠ 0 (significant difference)\n",
    "\n",
    "where μ1 is the population mean reaction time for participants who consumed caffeine and μ2 is the population mean reaction time for participants who did not consume caffeine.\n",
    "\n",
    "Step 2: Set the level of significance.\n",
    "The significance level (α) is 0.1 (90% confidence level).\n",
    "\n",
    "Step 3: Calculate the test statistic.\n",
    "We can use the t-test formula to calculate the test statistic:\n",
    "\n",
    "t = (x̄1 - x̄2) / (s / sqrt(n))\n",
    "\n",
    "where x̄1 is the sample mean reaction time for participants who consumed caffeine, x̄2 is the sample mean reaction time for participants who did not consume caffeine, s is the pooled standard deviation, and n is the sample size (30).\n",
    "\n",
    "First, we need to calculate the pooled standard deviation:\n",
    "\n",
    "s = sqrt(((n1 - 1)s1^2 + (n2 - 1)s2^2) / (n1 + n2 - 2))\n",
    "s = sqrt(((29)(0.05)^2 + (29)(0.05)^2) / (30 + 30 - 2))\n",
    "s = 0.0505\n",
    "\n",
    "Substituting the values, we get:\n",
    "\n",
    "t = (0.25 - 0) / (0.0505 / sqrt(30))\n",
    "t = 15.28\n",
    "\n",
    "Step 4: Calculate the critical value.\n",
    "\n",
    "The critical value for a two-tailed test with a 90% confidence level and 28 degrees of freedom (30 - 2) is ±1.699.\n",
    "\n",
    "Step 5: Make a decision and interpret the results.\n",
    "\n",
    "Since the calculated t-value (15.28) is greater than the critical value (±1.699), we reject the null hypothesis and conclude that there is a significant difference in reaction time between participants who consumed caffeine and those who did not consume caffeine at a 90% confidence level. In other words, caffeine has a significant effect on reaction time in this study.\n",
    "\n",
    "Note that we could also calculate the p-value associated with the calculated t-value using a t-distribution table or calculator. The p-value in this case is much smaller than the significance level (α = 0.1), providing further evidence to reject the null hypothesis."
   ]
  },
  {
   "cell_type": "code",
   "execution_count": null,
   "id": "f544b440",
   "metadata": {},
   "outputs": [],
   "source": []
  },
  {
   "cell_type": "code",
   "execution_count": null,
   "id": "15f15716",
   "metadata": {},
   "outputs": [],
   "source": []
  }
 ],
 "metadata": {
  "kernelspec": {
   "display_name": "Python 3 (ipykernel)",
   "language": "python",
   "name": "python3"
  },
  "language_info": {
   "codemirror_mode": {
    "name": "ipython",
    "version": 3
   },
   "file_extension": ".py",
   "mimetype": "text/x-python",
   "name": "python",
   "nbconvert_exporter": "python",
   "pygments_lexer": "ipython3",
   "version": "3.9.13"
  }
 },
 "nbformat": 4,
 "nbformat_minor": 5
}
