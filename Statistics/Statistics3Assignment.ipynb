{
 "cells": [
  {
   "cell_type": "markdown",
   "id": "793e305a",
   "metadata": {},
   "source": [
    "# Q.1."
   ]
  },
  {
   "cell_type": "markdown",
   "id": "144fc667",
   "metadata": {},
   "source": [
    "The Probability density function (PDF) is a mathematical function that describes the probability distribution of a continuous random variable. It is used to describe the probability of the variable taking on a specific value or falling within a specific range of values.\n",
    "\n",
    "The probability density function is defined as the derivative of the cumulative distribution function (CDF) of the random variable. The PDF represents the slope of the CDF at a given point, and the area under the curve of the PDF over a specific interval gives the probability of the random variable falling within that interval.\n",
    "\n",
    "The probability density function has several important properties, including:\n",
    "\n",
    "The PDF is non-negative for all values of the random variable.\n",
    "\n",
    "The total area under the curve of the PDF is equal to 1.\n",
    "\n",
    "The probability of the random variable falling within a specific interval is equal to the area under the curve of the PDF over that interval"
   ]
  },
  {
   "cell_type": "markdown",
   "id": "d56bfe4f",
   "metadata": {},
   "source": [
    "# Q.2."
   ]
  },
  {
   "cell_type": "markdown",
   "id": "431420ac",
   "metadata": {},
   "source": [
    "There are many types of probability distributions, but here are some of the most commonly used ones:\n",
    "\n",
    "Binomial distribution: describes the number of successes in a fixed number of independent trials with a constant probability of success.\n",
    "\n",
    "Poisson distribution: models the number of occurrences of an event in a fixed interval of time or space, when the events are rare and random.\n",
    "\n",
    "Normal distribution: also known as the Gaussian distribution, it is a continuous probability distribution that is widely used in statistics to describe many natural phenomena.\n",
    "\n",
    "Exponential distribution: models the time between two successive events in a Poisson process.\n",
    "\n",
    "Gamma distribution: is a family of continuous probability distributions that is used to model a wide range of variables, including wait times, rainfall amounts, and radiation doses.\n",
    "\n",
    "Chi-square distribution: is used to test hypotheses about the variance of a normal distribution.\n",
    "\n",
    "Student's t-distribution: is used for making inferences about the mean of a normal distribution when the sample size is small.\n",
    "\n",
    "F-distribution: is used for testing the equality of variances of two normal distributions.\n",
    "\n",
    "Beta distribution: is a family of continuous probability distributions that is used to model probabilities and proportions"
   ]
  },
  {
   "cell_type": "markdown",
   "id": "f149c2ea",
   "metadata": {},
   "source": [
    "# Q.3."
   ]
  },
  {
   "cell_type": "code",
   "execution_count": 1,
   "id": "6b98a3ea",
   "metadata": {},
   "outputs": [
    {
     "name": "stdout",
     "output_type": "stream",
     "text": [
      "0.24197072451914337\n"
     ]
    }
   ],
   "source": [
    "import math\n",
    "\n",
    "def normal_pdf(x, mean, std_dev):\n",
    "    coefficient = 1 / (std_dev * math.sqrt(2 * math.pi))\n",
    "    exponent = -1 / 2 * ((x - mean) / std_dev) ** 2\n",
    "    pdf = coefficient * math.exp(exponent)\n",
    "    return pdf\n",
    "\n",
    "\n",
    "pdf_value = normal_pdf(1, 0, 1)\n",
    "print(pdf_value)"
   ]
  },
  {
   "cell_type": "markdown",
   "id": "13ca5fdb",
   "metadata": {},
   "source": [
    "# Q.4."
   ]
  },
  {
   "cell_type": "markdown",
   "id": "57b6c477",
   "metadata": {},
   "source": [
    "The properties of a binomial distribution are:\n",
    "\n",
    "The distribution models the number of successes in a fixed number of independent trials.\n",
    "\n",
    "Each trial has only two possible outcomes, success or failure.\n",
    "\n",
    "The probability of success is constant for each trial.\n",
    "\n",
    "The trials are independent of each other.\n",
    "\n",
    "Two examples of events where the binomial distribution can be applied are:\n",
    "\n",
    "Coin tosses: The outcome of a coin toss can either be heads or tails, and the probability of getting heads or tails is constant for each toss. If we toss a coin a fixed number of times, the number of times we get heads can be modeled using a binomial distribution.\n",
    "\n",
    "Medical treatment success: In a clinical trial for a new drug, the success of the treatment can be modeled using a binomial distribution. The trial would involve a fixed number of patients, and each patient would either respond positively or negatively to the treatment. The probability of success would be constant for each patient, and the responses of the patients would be independent of each other."
   ]
  },
  {
   "cell_type": "markdown",
   "id": "f230fd14",
   "metadata": {},
   "source": [
    "# Q.5."
   ]
  },
  {
   "cell_type": "code",
   "execution_count": 2,
   "id": "1eb93d67",
   "metadata": {},
   "outputs": [
    {
     "data": {
      "image/png": "[encoded data removed]",
      "text/plain": [
       "<Figure size 640x480 with 1 Axes>"
      ]
     },
     "metadata": {},
     "output_type": "display_data"
    }
   ],
   "source": [
    "import numpy as np\n",
    "import matplotlib.pyplot as plt\n",
    "\n",
    "# Generate a random sample of size 1000 from a binomial distribution\n",
    "n = 1000   # Sample size\n",
    "p = 0.4    # Probability of success\n",
    "sample = np.random.binomial(n, p, size=n)\n",
    "\n",
    "# Plot a histogram of the results using matplotlib\n",
    "plt.hist(sample, bins=30, alpha=0.5)\n",
    "plt.xlabel('Number of successes')\n",
    "plt.ylabel('Frequency')\n",
    "plt.title('Binomial distribution with n=1000, p=0.4')\n",
    "plt.show()"
   ]
  },
  {
   "cell_type": "markdown",
   "id": "e3d1f3ec",
   "metadata": {},
   "source": [
    "# Q.6."
   ]
  },
  {
   "cell_type": "code",
   "execution_count": 3,
   "id": "48db477c",
   "metadata": {},
   "outputs": [],
   "source": [
    "import math\n",
    "\n",
    "def poisson_cdf(mu, k):\n",
    "    cdf = 0.0\n",
    "    for i in range(k + 1):\n",
    "        cdf += math.exp(-mu) * (mu ** i) / math.factorial(i)\n",
    "    return cdf"
   ]
  },
  {
   "cell_type": "code",
   "execution_count": 4,
   "id": "cb8d1595",
   "metadata": {},
   "outputs": [
    {
     "data": {
      "text/plain": [
       "0.6159606548330632"
      ]
     },
     "execution_count": 4,
     "metadata": {},
     "output_type": "execute_result"
    }
   ],
   "source": [
    "poisson_cdf(5,5)"
   ]
  },
  {
   "cell_type": "markdown",
   "id": "1d2c4a39",
   "metadata": {},
   "source": [
    "# Q.7."
   ]
  },
  {
   "cell_type": "markdown",
   "id": "233575bf",
   "metadata": {},
   "source": [
    "Definition:\n",
    "\n",
    "The Binomial distribution is used to model the number of successes in a fixed number of independent trials, each with the same probability of success. The Poisson distribution is used to model the number of events occurring in a fixed period of time or space, where the events occur randomly and independently of each other.\n",
    "\n",
    "Number of trials/events:\n",
    "\n",
    "In the Binomial distribution, the number of trials is fixed and known in advance. In the Poisson distribution, the number of events is not fixed and can be any non-negative integer.\n",
    "\n",
    "Probability of success:\n",
    "\n",
    "In the Binomial distribution, the probability of success is constant and the same for each trial. In the Poisson distribution, the probability of an event occurring can vary but is usually very low.\n",
    "\n",
    "Shape of the Distribution:\n",
    "\n",
    "The Binomial distribution is a discrete probability distribution that is symmetric, bell-shaped and tends towards a normal distribution for large sample sizes. The Poisson distribution is also a discrete probability distribution but it is skewed to the right and tends to approach a normal distribution for large lambda values.\n",
    "\n",
    "Applications:\n",
    "\n",
    "The Binomial distribution is used to model situations such as coin tosses, the number of defective items in a batch, and the number of correct answers on a multiple-choice test. The Poisson distribution is used to model situations such as the number of phone calls to a call center per hour, the number of customers entering a store per day, and the number of accidents on a highway per month"
   ]
  },
  {
   "cell_type": "markdown",
   "id": "a8fb3311",
   "metadata": {},
   "source": [
    "# Q.8."
   ]
  },
  {
   "cell_type": "code",
   "execution_count": 13,
   "id": "d63385f4",
   "metadata": {},
   "outputs": [
    {
     "name": "stdout",
     "output_type": "stream",
     "text": [
      "mean of the sample is : 4.884\n",
      "variance of the sample is : 5.030544\n"
     ]
    }
   ],
   "source": [
    "sample1 = np.random.poisson(5,1000)\n",
    "\n",
    "print('mean of the sample is :',sample1.mean())\n",
    "print('variance of the sample is :',sample1.var())"
   ]
  },
  {
   "cell_type": "markdown",
   "id": "8ef84108",
   "metadata": {},
   "source": [
    "# Q.9."
   ]
  },
  {
   "cell_type": "markdown",
   "id": "2f11bce6",
   "metadata": {},
   "source": [
    "For a Binomial distribution, the mean and variance are both defined as n * p, where n is the number of trials and p is the probability of success\n",
    "\n",
    "For a Poisson distribution, the mean and variance are both equal to the parameter lambda, which represents the average number of events per unit time or space."
   ]
  },
  {
   "cell_type": "markdown",
   "id": "1665db1e",
   "metadata": {},
   "source": [
    "# Q.10."
   ]
  },
  {
   "cell_type": "markdown",
   "id": "e1caba65",
   "metadata": {},
   "source": [
    "In a normal distribution, the least frequent data appears in the tails of the distribution, which are the areas further away from the mean. Specifically, the least frequent data appears at the extreme ends of the distribution, where the data is either very small or very large"
   ]
  },
  {
   "cell_type": "code",
   "execution_count": null,
   "id": "f99df05b",
   "metadata": {},
   "outputs": [],
   "source": []
  }
 ],
 "metadata": {
  "kernelspec": {
   "display_name": "Python 3 (ipykernel)",
   "language": "python",
   "name": "python3"
  },
  "language_info": {
   "codemirror_mode": {
    "name": "ipython",
    "version": 3
   },
   "file_extension": ".py",
   "mimetype": "text/x-python",
   "name": "python",
   "nbconvert_exporter": "python",
   "pygments_lexer": "ipython3",
   "version": "3.9.13"
  }
 },
 "nbformat": 4,
 "nbformat_minor": 5
}
