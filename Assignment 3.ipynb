{
 "cells": [
  {
   "cell_type": "markdown",
   "id": "862c5827",
   "metadata": {},
   "source": [
    "# Q.1"
   ]
  },
  {
   "cell_type": "markdown",
   "id": "f8bbe417",
   "metadata": {},
   "source": [
    "Tuples are indexed\n",
    "\n",
    "Tuples are ordered\n",
    "\n",
    "Tuples can contain duplicate items\n",
    "\n",
    "Tuples are immutable"
   ]
  },
  {
   "cell_type": "markdown",
   "id": "5bb1a8f1",
   "metadata": {},
   "source": [
    "# Q.2"
   ]
  },
  {
   "cell_type": "markdown",
   "id": "e3f4dbe1",
   "metadata": {},
   "source": [
    "There are two tuple methods in python count() and index()"
   ]
  },
  {
   "cell_type": "code",
   "execution_count": 28,
   "id": "30e72b07",
   "metadata": {},
   "outputs": [
    {
     "name": "stdout",
     "output_type": "stream",
     "text": [
      "2\n",
      "4\n"
     ]
    }
   ],
   "source": [
    "#for e.g\n",
    "\n",
    "t = (1,2,2,3,4,5,3)\n",
    "print(t.count(2)) # returns the count of the value in tuple\n",
    "print(t.index(4)) # returns the index of the value in tuple\n",
    "\n",
    "\n",
    "## As tuples are immutable there is very little functionality available, it is a good collection for\n",
    "#  data storage and accessing. There is very little scope of errors and unexpected changes whereas \n",
    "#  lists are mutable. That's why tuples have only two methods whereas lists have many more method."
   ]
  },
  {
   "cell_type": "markdown",
   "id": "e6586a5b",
   "metadata": {},
   "source": [
    "# Q.3"
   ]
  },
  {
   "cell_type": "markdown",
   "id": "3b9dff1f",
   "metadata": {},
   "source": [
    "Set is a type of collection in python that does not allow duplicate items"
   ]
  },
  {
   "cell_type": "code",
   "execution_count": 29,
   "id": "16a9c877",
   "metadata": {},
   "outputs": [
    {
     "data": {
      "text/plain": [
       "{1, 2, 3, 4}"
      ]
     },
     "execution_count": 29,
     "metadata": {},
     "output_type": "execute_result"
    }
   ],
   "source": [
    "#given\n",
    "\n",
    "List = [1, 1, 1, 2, 1, 3, 1, 4, 2, 1, 2, 2, 2, 3, 2, 4, 3, 1, 3, 2, 3, 3, 3, 4, 4, 1, 4, 2, 4, 3, 4, 4]\n",
    "\n",
    "# to remove duplicate items\n",
    "set(List)"
   ]
  },
  {
   "cell_type": "markdown",
   "id": "638c7fa6",
   "metadata": {},
   "source": [
    "# Q.4"
   ]
  },
  {
   "cell_type": "markdown",
   "id": "3de1d259",
   "metadata": {},
   "source": [
    "update() updates the set with elements of passed set argument in the functions  \n",
    "\n",
    "union() combines elements of  two different set into one at a new memeory sapce and sets which are combined by union doesn't change"
   ]
  },
  {
   "cell_type": "code",
   "execution_count": 30,
   "id": "869df744",
   "metadata": {},
   "outputs": [
    {
     "name": "stdout",
     "output_type": "stream",
     "text": [
      "{1, 2, 3, 4, 6, 7}\n",
      "{1, 2, 3, 4}\n",
      "{1, 3, 4, 6, 7}\n"
     ]
    }
   ],
   "source": [
    "## for e.g\n",
    "\n",
    "s1 = {1,2,3,4}\n",
    "s2 = {1,3,4,6,7}\n",
    "\n",
    "print(s1.union(s2))\n",
    "print(s1)\n",
    "print(s2)\n",
    "\n",
    "# here s1 and s2 will remain unchanged"
   ]
  },
  {
   "cell_type": "code",
   "execution_count": 31,
   "id": "0253050d",
   "metadata": {},
   "outputs": [
    {
     "data": {
      "text/plain": [
       "{2, 4, 7, 8, 'x', 'y', 'z'}"
      ]
     },
     "execution_count": 31,
     "metadata": {},
     "output_type": "execute_result"
    }
   ],
   "source": [
    "s3 = {2,7,8,4}\n",
    "s4 = {'x','y','z'}\n",
    "\n",
    "s3.update(s4)\n",
    "s3\n",
    "\n",
    "\n",
    "# here s3 will change as it has been updated  "
   ]
  },
  {
   "cell_type": "markdown",
   "id": "036332bb",
   "metadata": {},
   "source": [
    "# Q.5"
   ]
  },
  {
   "cell_type": "markdown",
   "id": "a810ab80",
   "metadata": {},
   "source": [
    "Dictionary in Python is a collection of keys values, used to store data values like a map, which, unlike other data types which hold only a single value as an element\n",
    "\n",
    "for e.g\n",
    "\n",
    "d = {1: 'abc', 2: 'For', 3: 'def'}\n",
    "\n",
    "dictionaries are ordered in python"
   ]
  },
  {
   "cell_type": "markdown",
   "id": "3d904c81",
   "metadata": {},
   "source": [
    "# Q.6"
   ]
  },
  {
   "cell_type": "markdown",
   "id": "8eb8d55e",
   "metadata": {},
   "source": [
    "yes we can create a nested Dictionary\n",
    "\n",
    "for e.g\n",
    "\n",
    "dict1 = {'ab': 4,'xyz': 3452, 'car':{\"brand\": \"Ford\", \"model\": \"Mustang\", \"year\": 1964} }"
   ]
  },
  {
   "cell_type": "markdown",
   "id": "b5ff5761",
   "metadata": {},
   "source": [
    "# Q.7"
   ]
  },
  {
   "cell_type": "code",
   "execution_count": 32,
   "id": "1abb9d95",
   "metadata": {},
   "outputs": [
    {
     "data": {
      "text/plain": [
       "['Python', 'Machine Learning', 'Deep Learning']"
      ]
     },
     "execution_count": 32,
     "metadata": {},
     "output_type": "execute_result"
    }
   ],
   "source": [
    "dict1 = {'language' : 'Python', 'course': 'Data Science Masters'}\n",
    "dict1.setdefault('topics',['Python', 'Machine Learning', 'Deep Learning'])"
   ]
  },
  {
   "cell_type": "code",
   "execution_count": 33,
   "id": "ea0fb230",
   "metadata": {},
   "outputs": [
    {
     "data": {
      "text/plain": [
       "{'language': 'Python',\n",
       " 'course': 'Data Science Masters',\n",
       " 'topics': ['Python', 'Machine Learning', 'Deep Learning']}"
      ]
     },
     "execution_count": 33,
     "metadata": {},
     "output_type": "execute_result"
    }
   ],
   "source": [
    "dict1"
   ]
  },
  {
   "cell_type": "markdown",
   "id": "5b539382",
   "metadata": {},
   "source": [
    "# Q.8"
   ]
  },
  {
   "cell_type": "markdown",
   "id": "ccc0d9ff",
   "metadata": {},
   "source": [
    "keys()\n",
    "It returns a list of keys of the dictionary\n",
    "\n",
    "values()\n",
    "It returns a list of values of the dictionary\n",
    "\n",
    "items()\n",
    "It returns the (key,value) pairs as a list"
   ]
  },
  {
   "cell_type": "code",
   "execution_count": 34,
   "id": "85133b65",
   "metadata": {},
   "outputs": [
    {
     "data": {
      "text/plain": [
       "dict_keys(['Sport', 'Teams'])"
      ]
     },
     "execution_count": 34,
     "metadata": {},
     "output_type": "execute_result"
    }
   ],
   "source": [
    "# for e.g\n",
    "\n",
    "dict1 = {'Sport': 'Cricket' , 'Teams': ['India', 'Australia', 'England', 'South Africa', 'Sri Lanka', 'New Zealand']}\n",
    "dict1.keys()"
   ]
  },
  {
   "cell_type": "code",
   "execution_count": 35,
   "id": "77c13a83",
   "metadata": {},
   "outputs": [
    {
     "data": {
      "text/plain": [
       "dict_values(['Cricket', ['India', 'Australia', 'England', 'South Africa', 'Sri Lanka', 'New Zealand']])"
      ]
     },
     "execution_count": 35,
     "metadata": {},
     "output_type": "execute_result"
    }
   ],
   "source": [
    "dict1.values()"
   ]
  },
  {
   "cell_type": "code",
   "execution_count": 36,
   "id": "e0c9733a",
   "metadata": {},
   "outputs": [
    {
     "data": {
      "text/plain": [
       "dict_items([('Sport', 'Cricket'), ('Teams', ['India', 'Australia', 'England', 'South Africa', 'Sri Lanka', 'New Zealand'])])"
      ]
     },
     "execution_count": 36,
     "metadata": {},
     "output_type": "execute_result"
    }
   ],
   "source": [
    "dict1.items()"
   ]
  },
  {
   "cell_type": "code",
   "execution_count": null,
   "id": "9323edf9",
   "metadata": {},
   "outputs": [],
   "source": []
  },
  {
   "cell_type": "code",
   "execution_count": null,
   "id": "62a23cf1",
   "metadata": {},
   "outputs": [],
   "source": []
  },
  {
   "cell_type": "code",
   "execution_count": null,
   "id": "61daea2c",
   "metadata": {},
   "outputs": [],
   "source": []
  },
  {
   "cell_type": "code",
   "execution_count": null,
   "id": "de329cc7",
   "metadata": {},
   "outputs": [],
   "source": []
  }
 ],
 "metadata": {
  "kernelspec": {
   "display_name": "Python 3 (ipykernel)",
   "language": "python",
   "name": "python3"
  },
  "language_info": {
   "codemirror_mode": {
    "name": "ipython",
    "version": 3
   },
   "file_extension": ".py",
   "mimetype": "text/x-python",
   "name": "python",
   "nbconvert_exporter": "python",
   "pygments_lexer": "ipython3",
   "version": "3.9.12"
  }
 },
 "nbformat": 4,
 "nbformat_minor": 5
}
