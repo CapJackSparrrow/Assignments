{
 "cells": [
  {
   "cell_type": "markdown",
   "id": "1b0f6832",
   "metadata": {},
   "source": [
    "# Q.1"
   ]
  },
  {
   "cell_type": "markdown",
   "id": "041d30ea",
   "metadata": {},
   "source": [
    "An exception is an event, which occurs during the execution of a program that disrupts the normal flow of the program's instructions\n",
    "\n",
    "Even if a statement or expression is syntactically correct, it may cause an error when an attempt is made to execute it\n",
    "\n",
    "Errors detected during execution are called exceptions whereas Syntax errors also known as parsing errors are type of errors where lines are are not written in proper syntax\n"
   ]
  },
  {
   "cell_type": "markdown",
   "id": "045ba2e4",
   "metadata": {},
   "source": [
    "# Q.2."
   ]
  },
  {
   "cell_type": "markdown",
   "id": "77afa9c2",
   "metadata": {},
   "source": [
    "When an exception is not  handled the runtime system will abort the program and an exception message will print to the console"
   ]
  },
  {
   "cell_type": "code",
   "execution_count": 2,
   "id": "a20ad1a3",
   "metadata": {},
   "outputs": [
    {
     "ename": "ZeroDivisionError",
     "evalue": "division by zero",
     "output_type": "error",
     "traceback": [
      "\u001b[1;31m---------------------------------------------------------------------------\u001b[0m",
      "\u001b[1;31mZeroDivisionError\u001b[0m                         Traceback (most recent call last)",
      "\u001b[1;32m~\\AppData\\Local\\Temp\\ipykernel_11208\\2653354972.py\u001b[0m in \u001b[0;36m<module>\u001b[1;34m\u001b[0m\n\u001b[0;32m      2\u001b[0m \u001b[1;33m\u001b[0m\u001b[0m\n\u001b[0;32m      3\u001b[0m \u001b[0ma\u001b[0m \u001b[1;33m=\u001b[0m \u001b[1;36m10\u001b[0m\u001b[1;33m\u001b[0m\u001b[1;33m\u001b[0m\u001b[0m\n\u001b[1;32m----> 4\u001b[1;33m \u001b[0ma\u001b[0m\u001b[1;33m/\u001b[0m\u001b[1;36m0\u001b[0m               \u001b[1;31m## zero division error exception is thrown if we don't handle it\u001b[0m\u001b[1;33m\u001b[0m\u001b[1;33m\u001b[0m\u001b[0m\n\u001b[0m\u001b[0;32m      5\u001b[0m \u001b[1;33m\u001b[0m\u001b[0m\n\u001b[0;32m      6\u001b[0m \u001b[0mprint\u001b[0m\u001b[1;33m(\u001b[0m\u001b[1;34m'this is my next line'\u001b[0m\u001b[1;33m)\u001b[0m\u001b[1;33m\u001b[0m\u001b[1;33m\u001b[0m\u001b[0m\n",
      "\u001b[1;31mZeroDivisionError\u001b[0m: division by zero"
     ]
    }
   ],
   "source": [
    "##  for e.g.\n",
    "\n",
    "a = 10\n",
    "a/0               ## zero division error exception is thrown if we don't handle it\n",
    "\n",
    "print('this is my next line')"
   ]
  },
  {
   "cell_type": "markdown",
   "id": "8d9ab97f",
   "metadata": {},
   "source": [
    "# Q.3."
   ]
  },
  {
   "cell_type": "markdown",
   "id": "3efe2fc1",
   "metadata": {},
   "source": [
    "The try and except block in Python is used to catch and handle exceptions\n",
    "\n",
    "Python executes code following the try statement as a “normal” part of the program\n",
    "\n",
    "The code that follows the except statement is the program’s response to any exceptions in the preceding try clause."
   ]
  },
  {
   "cell_type": "code",
   "execution_count": 3,
   "id": "3e9697a5",
   "metadata": {},
   "outputs": [
    {
     "name": "stdout",
     "output_type": "stream",
     "text": [
      "there is some issue with my code [Errno 2] No such file or directory: 'test1.txt'\n"
     ]
    }
   ],
   "source": [
    "## for e.g.\n",
    "\n",
    "try:\n",
    "    f = open('test1.txt', 'r')\n",
    "\n",
    "except Exception as e:\n",
    "    print('there is some issue with my code',e)  "
   ]
  },
  {
   "cell_type": "markdown",
   "id": "7270517e",
   "metadata": {},
   "source": [
    "# Q.4."
   ]
  },
  {
   "cell_type": "markdown",
   "id": "aac5027a",
   "metadata": {},
   "source": [
    "# try and else"
   ]
  },
  {
   "cell_type": "markdown",
   "id": "1dc856f0",
   "metadata": {},
   "source": [
    "In try block codes are executed as normal part of program\n",
    "\n",
    "else block is executed only if try block runs without an exception\n"
   ]
  },
  {
   "cell_type": "code",
   "execution_count": 4,
   "id": "6f4878bb",
   "metadata": {},
   "outputs": [
    {
     "name": "stdout",
     "output_type": "stream",
     "text": [
      "there is some issue with my code [Errno 2] No such file or directory: 'test1.txt'\n"
     ]
    }
   ],
   "source": [
    "try:\n",
    "    f = open('test1.txt', 'r')\n",
    "\n",
    "except Exception as e:\n",
    "    print('there is some issue with my code',e)  \n",
    "    \n",
    "else:\n",
    "    f.close()\n",
    "    print('this block will execute if try will execute without an exception')"
   ]
  },
  {
   "cell_type": "markdown",
   "id": "c57c608a",
   "metadata": {},
   "source": [
    "In the above code else block didn't run because there was an exception thrown by except block, if there were no exceptions and try block would have executed then else block would have also been executed "
   ]
  },
  {
   "cell_type": "code",
   "execution_count": 5,
   "id": "a4984db8",
   "metadata": {},
   "outputs": [
    {
     "name": "stdout",
     "output_type": "stream",
     "text": [
      "this block will execute if try will execute without an exception\n"
     ]
    }
   ],
   "source": [
    "# for e.g.\n",
    "\n",
    "try:\n",
    "    f = open('test1.txt', 'w')\n",
    "    f.write('this is the msg')\n",
    "\n",
    "except Exception as e:\n",
    "    print('there is some issue with my code',e)  \n",
    "    \n",
    "else:\n",
    "    f.close()\n",
    "    print('this block will execute if try will execute without an exception')"
   ]
  },
  {
   "cell_type": "markdown",
   "id": "632cfa3e",
   "metadata": {},
   "source": [
    "# finally"
   ]
  },
  {
   "cell_type": "markdown",
   "id": "9bc5ee81",
   "metadata": {},
   "source": [
    "finally defines a block of code to run when the try...except...else block is final.\n",
    "\n",
    "The finally block will be executed no matter if the try block raises an error or not.\n",
    "\n",
    "This can be useful to close objects and clean up resources."
   ]
  },
  {
   "cell_type": "code",
   "execution_count": 6,
   "id": "d5dde180",
   "metadata": {},
   "outputs": [
    {
     "name": "stdout",
     "output_type": "stream",
     "text": [
      "this block will execute if try will execute without an exception\n",
      "this will always execute\n"
     ]
    }
   ],
   "source": [
    "try:\n",
    "    f = open('test1.txt', 'r')\n",
    "\n",
    "except Exception as e:\n",
    "    print('there is some issue with my code',e)  \n",
    "    \n",
    "else:\n",
    "    f.close()\n",
    "    print('this block will execute if try will execute without an exception')\n",
    "finally:\n",
    "    print('this will always execute')  "
   ]
  },
  {
   "cell_type": "markdown",
   "id": "3abf8ef5",
   "metadata": {},
   "source": [
    "# raise"
   ]
  },
  {
   "cell_type": "markdown",
   "id": "305db4f9",
   "metadata": {},
   "source": [
    "The raise keyword is used to raise an exception.\n",
    "\n",
    "You can define what kind of error to raise, and the text to print to the user\n",
    "\n",
    "raise is also used to raise custom exceptions "
   ]
  },
  {
   "cell_type": "code",
   "execution_count": 8,
   "id": "e774aab1",
   "metadata": {},
   "outputs": [
    {
     "ename": "TypeError",
     "evalue": "Only integers are allowed",
     "output_type": "error",
     "traceback": [
      "\u001b[1;31m---------------------------------------------------------------------------\u001b[0m",
      "\u001b[1;31mTypeError\u001b[0m                                 Traceback (most recent call last)",
      "\u001b[1;32m~\\AppData\\Local\\Temp\\ipykernel_11208\\2407302476.py\u001b[0m in \u001b[0;36m<module>\u001b[1;34m\u001b[0m\n\u001b[0;32m      2\u001b[0m \u001b[1;33m\u001b[0m\u001b[0m\n\u001b[0;32m      3\u001b[0m \u001b[1;32mif\u001b[0m \u001b[1;32mnot\u001b[0m \u001b[0mtype\u001b[0m\u001b[1;33m(\u001b[0m\u001b[0mx\u001b[0m\u001b[1;33m)\u001b[0m \u001b[1;32mis\u001b[0m \u001b[0mint\u001b[0m\u001b[1;33m:\u001b[0m\u001b[1;33m\u001b[0m\u001b[1;33m\u001b[0m\u001b[0m\n\u001b[1;32m----> 4\u001b[1;33m   \u001b[1;32mraise\u001b[0m \u001b[0mTypeError\u001b[0m\u001b[1;33m(\u001b[0m\u001b[1;34m\"Only integers are allowed\"\u001b[0m\u001b[1;33m)\u001b[0m\u001b[1;33m\u001b[0m\u001b[1;33m\u001b[0m\u001b[0m\n\u001b[0m",
      "\u001b[1;31mTypeError\u001b[0m: Only integers are allowed"
     ]
    }
   ],
   "source": [
    "x = \"hello\"\n",
    "\n",
    "if not type(x) is int:\n",
    "  raise TypeError(\"Only integers are allowed\")"
   ]
  },
  {
   "cell_type": "markdown",
   "id": "05a46bec",
   "metadata": {},
   "source": [
    "# Q.5."
   ]
  },
  {
   "cell_type": "markdown",
   "id": "64470080",
   "metadata": {},
   "source": [
    "User defined exceptions are known as custom errors\n",
    "\n",
    "Exceptions should typically be derived from the Exception class, either directly or indirectly"
   ]
  },
  {
   "cell_type": "markdown",
   "id": "3ce83d55",
   "metadata": {},
   "source": [
    "custom exceptions can make the code cleaner, self-explanatory and more intention-revealing"
   ]
  },
  {
   "cell_type": "markdown",
   "id": "24396ebf",
   "metadata": {},
   "source": [
    "# Q.6."
   ]
  },
  {
   "cell_type": "code",
   "execution_count": 10,
   "id": "ad90d192",
   "metadata": {},
   "outputs": [
    {
     "name": "stdout",
     "output_type": "stream",
     "text": [
      "Enter a number: 17\n",
      "Exception occurred: Invalid Age\n"
     ]
    }
   ],
   "source": [
    "\n",
    "class InvalidAgeException(Exception):\n",
    "     pass                                           ##     Raised when the input value is less than 18\n",
    "                                             \n",
    "   \n",
    "\n",
    "\n",
    "number = 18\n",
    "\n",
    "try:\n",
    "    input_num = int(input(\"Enter a number: \"))\n",
    "    if input_num < number:\n",
    "        raise InvalidAgeException\n",
    "    else:\n",
    "        print(\"Eligible to Vote\")\n",
    "        \n",
    "except InvalidAgeException:\n",
    "    print(\"Exception occurred: Invalid Age\")"
   ]
  },
  {
   "cell_type": "code",
   "execution_count": null,
   "id": "593df452",
   "metadata": {},
   "outputs": [],
   "source": []
  }
 ],
 "metadata": {
  "kernelspec": {
   "display_name": "Python 3 (ipykernel)",
   "language": "python",
   "name": "python3"
  },
  "language_info": {
   "codemirror_mode": {
    "name": "ipython",
    "version": 3
   },
   "file_extension": ".py",
   "mimetype": "text/x-python",
   "name": "python",
   "nbconvert_exporter": "python",
   "pygments_lexer": "ipython3",
   "version": "3.9.13"
  }
 },
 "nbformat": 4,
 "nbformat_minor": 5
}
