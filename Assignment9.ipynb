{
 "cells": [
  {
   "cell_type": "markdown",
   "id": "a41c3990",
   "metadata": {},
   "source": [
    "# Q.1."
   ]
  },
  {
   "cell_type": "code",
   "execution_count": 2,
   "id": "008ef2b3",
   "metadata": {},
   "outputs": [],
   "source": [
    "class vehicle:\n",
    "    def __init__(self, name_of_vehicle, max_speed, average_of_vehicle):\n",
    "        self.name_of_vehicle = name_of_vehicle\n",
    "        self.max_speed = max_speed\n",
    "        self.average_of_vehicle = average_of_vehicle"
   ]
  },
  {
   "cell_type": "code",
   "execution_count": 4,
   "id": "9a10d97e",
   "metadata": {},
   "outputs": [],
   "source": [
    "v1 = vehicle('suzuki',150,30)"
   ]
  },
  {
   "cell_type": "code",
   "execution_count": 5,
   "id": "39e7e95d",
   "metadata": {},
   "outputs": [
    {
     "data": {
      "text/plain": [
       "'suzuki'"
      ]
     },
     "execution_count": 5,
     "metadata": {},
     "output_type": "execute_result"
    }
   ],
   "source": [
    "v1.name_of_vehicle"
   ]
  },
  {
   "cell_type": "markdown",
   "id": "a50504c6",
   "metadata": {},
   "source": [
    "# Q.2"
   ]
  },
  {
   "cell_type": "code",
   "execution_count": 18,
   "id": "fc7edf9a",
   "metadata": {},
   "outputs": [],
   "source": [
    "class child_vehicle(vehicle):\n",
    "    def seating_capacity(self,capacity):\n",
    "        return self.name_of_vehicle,capacity"
   ]
  },
  {
   "cell_type": "code",
   "execution_count": 19,
   "id": "d8756e87",
   "metadata": {},
   "outputs": [],
   "source": [
    "c1 = child_vehicle('tata','100','20')"
   ]
  },
  {
   "cell_type": "code",
   "execution_count": 20,
   "id": "0207a49a",
   "metadata": {},
   "outputs": [
    {
     "data": {
      "text/plain": [
       "('tata', 4)"
      ]
     },
     "execution_count": 20,
     "metadata": {},
     "output_type": "execute_result"
    }
   ],
   "source": [
    "c1.seating_capacity(4)"
   ]
  },
  {
   "cell_type": "markdown",
   "id": "12dbc8b4",
   "metadata": {},
   "source": [
    "# Q.3."
   ]
  },
  {
   "cell_type": "markdown",
   "id": "9d7cc058",
   "metadata": {},
   "source": [
    "When a class can be derived from more than one base class this type of inheritance is called multiple inheritances. In multiple inheritances, all the features of the base classes are inherited into the derived class."
   ]
  },
  {
   "cell_type": "code",
   "execution_count": 21,
   "id": "56d6643b",
   "metadata": {},
   "outputs": [
    {
     "name": "stdout",
     "output_type": "stream",
     "text": [
      "Father : RAM\n",
      "Mother : SITA\n"
     ]
    }
   ],
   "source": [
    "class Mother:          # Base class1\n",
    "    mothername = \"\"\n",
    " \n",
    "    def mother(self):\n",
    "        print(self.mothername)\n",
    "  \n",
    "class Father:               # Base class2\n",
    "    fathername = \"\"\n",
    " \n",
    "    def father(self):\n",
    "        print(self.fathername)\n",
    "  \n",
    "class Son(Mother, Father):          # Derived class\n",
    "    def parents(self):\n",
    "        print(\"Father :\", self.fathername)\n",
    "        print(\"Mother :\", self.mothername)\n",
    " \n",
    "s1 = Son()\n",
    "s1.fathername = \"RAM\"\n",
    "s1.mothername = \"SITA\"\n",
    "s1.parents()"
   ]
  },
  {
   "cell_type": "markdown",
   "id": "90030c3e",
   "metadata": {},
   "source": [
    "# Q.4."
   ]
  },
  {
   "cell_type": "markdown",
   "id": "4bd87694",
   "metadata": {},
   "source": [
    "We use getters & setters for  getting and setting a value of private variables in a class which cannot be accessed directly or modified by external user."
   ]
  },
  {
   "cell_type": "code",
   "execution_count": 23,
   "id": "640e6e2c",
   "metadata": {},
   "outputs": [
    {
     "name": "stdout",
     "output_type": "stream",
     "text": [
      "21\n"
     ]
    }
   ],
   "source": [
    "class person:\n",
    "    def __init__(self, age = 0):\n",
    "         self._age = age\n",
    "      \n",
    "    # getter method\n",
    "    def get_age(self):\n",
    "        return self._age\n",
    "      \n",
    "    # setter method\n",
    "    def set_age(self, x):\n",
    "        self._age = x\n",
    "  \n",
    "raj = person()\n",
    "  \n",
    "# setting the age using setter\n",
    "raj.set_age(21)\n",
    "  \n",
    "# retrieving age using getter\n",
    "print(raj.get_age())\n",
    "  \n"
   ]
  },
  {
   "cell_type": "markdown",
   "id": "9cbeb528",
   "metadata": {},
   "source": [
    "# Q.5."
   ]
  },
  {
   "cell_type": "markdown",
   "id": "2d64f28c",
   "metadata": {},
   "source": [
    "When a method in a subclass has the same name, same parameters or signature and same return type(or sub-type) as a method in its super-class, then the method in the subclass is said to override the method in the super-class."
   ]
  },
  {
   "cell_type": "code",
   "execution_count": null,
   "id": "a923eba0",
   "metadata": {},
   "outputs": [],
   "source": [
    "class Parent():\n",
    "      \n",
    "    # Constructor\n",
    "    def __init__(self):\n",
    "        self.value = \"Inside Parent\"\n",
    "          \n",
    "    # Parent's show method\n",
    "    def show(self):\n",
    "        print(self.value)\n",
    "          \n",
    "# Defining child class\n",
    "class Child(Parent):\n",
    "      \n",
    "    # Constructor\n",
    "    def __init__(self):\n",
    "        self.value = \"Inside Child\"\n",
    "          \n",
    "    # Child's show method\n",
    "    def show(self):\n",
    "        print(self.value)\n",
    "          \n",
    "          \n",
    "\n",
    "obj1 = Parent()\n",
    "obj2 = Child()\n",
    "  \n",
    "obj1.show()\n",
    "obj2.show()\n"
   ]
  }
 ],
 "metadata": {
  "kernelspec": {
   "display_name": "Python 3 (ipykernel)",
   "language": "python",
   "name": "python3"
  },
  "language_info": {
   "codemirror_mode": {
    "name": "ipython",
    "version": 3
   },
   "file_extension": ".py",
   "mimetype": "text/x-python",
   "name": "python",
   "nbconvert_exporter": "python",
   "pygments_lexer": "ipython3",
   "version": "3.9.13"
  }
 },
 "nbformat": 4,
 "nbformat_minor": 5
}
