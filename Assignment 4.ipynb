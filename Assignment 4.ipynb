{
 "cells": [
  {
   "cell_type": "markdown",
   "id": "80b1b21d",
   "metadata": {},
   "source": [
    "# Q.1."
   ]
  },
  {
   "cell_type": "markdown",
   "id": "aa45b889",
   "metadata": {},
   "source": [
    "def keyword is used to create a function"
   ]
  },
  {
   "cell_type": "code",
   "execution_count": 1,
   "id": "cf849f8d",
   "metadata": {},
   "outputs": [],
   "source": [
    "def odd_list(a):\n",
    "    n = []\n",
    "    for i in a:\n",
    "        if i%2!=0:\n",
    "            n.append(i)\n",
    "    return n"
   ]
  },
  {
   "cell_type": "code",
   "execution_count": 2,
   "id": "633ffde0",
   "metadata": {},
   "outputs": [
    {
     "data": {
      "text/plain": [
       "[1, 3, 5, 7, 9, 11, 13, 15, 17, 19, 21, 23, 25]"
      ]
     },
     "execution_count": 2,
     "metadata": {},
     "output_type": "execute_result"
    }
   ],
   "source": [
    "odd_list(range(1,26))"
   ]
  },
  {
   "cell_type": "markdown",
   "id": "c3ae52f0",
   "metadata": {},
   "source": [
    "# Q.2"
   ]
  },
  {
   "cell_type": "markdown",
   "id": "b70eb68c",
   "metadata": {},
   "source": [
    "*args allows you to take in more arguments than the number of formal arguments that you previously defined\n",
    "\n",
    "**kwargs in function definitions in python is used to pass a keyworded, variable-length argument list i.e. to pass a (key, value )pair i.e. a dictionary in function"
   ]
  },
  {
   "cell_type": "code",
   "execution_count": 3,
   "id": "b8454159",
   "metadata": {},
   "outputs": [],
   "source": [
    "def func2(*args):\n",
    "    return args"
   ]
  },
  {
   "cell_type": "code",
   "execution_count": 4,
   "id": "7a382609",
   "metadata": {},
   "outputs": [
    {
     "data": {
      "text/plain": [
       "(1, 2, 3, 4)"
      ]
     },
     "execution_count": 4,
     "metadata": {},
     "output_type": "execute_result"
    }
   ],
   "source": [
    "func2(1,2,3,4)"
   ]
  },
  {
   "cell_type": "code",
   "execution_count": 5,
   "id": "b85ccdee",
   "metadata": {},
   "outputs": [],
   "source": [
    "def fun2(**kwargs):\n",
    "    return kwargs"
   ]
  },
  {
   "cell_type": "code",
   "execution_count": 6,
   "id": "f7feff4e",
   "metadata": {},
   "outputs": [
    {
     "data": {
      "text/plain": [
       "{'a': 23, 'b': 34, 'c': 'xyz', 'd': [1, 2, 3]}"
      ]
     },
     "execution_count": 6,
     "metadata": {},
     "output_type": "execute_result"
    }
   ],
   "source": [
    "fun2(a = 23, b = 34, c = 'xyz', d = [1,2,3])"
   ]
  },
  {
   "cell_type": "markdown",
   "id": "8efa3152",
   "metadata": {},
   "source": [
    "# Q.3"
   ]
  },
  {
   "cell_type": "markdown",
   "id": "c5622083",
   "metadata": {},
   "source": [
    "An iterator is an object that contains a countable number of values.\n",
    "\n",
    "An iterator is an object that can be iterated upon, meaning that you can traverse through all the values.\n",
    "\n",
    "__iter__() method is used to initialise the iterator object and __next__() is the method used for iteration.\n",
    "\n"
   ]
  },
  {
   "cell_type": "code",
   "execution_count": 7,
   "id": "08400c71",
   "metadata": {},
   "outputs": [
    {
     "name": "stdout",
     "output_type": "stream",
     "text": [
      "2\n",
      "4\n",
      "6\n",
      "8\n",
      "10\n"
     ]
    }
   ],
   "source": [
    "lst = [2, 4, 6, 8, 10, 12, 14, 16, 18, 20]\n",
    "iterator = iter(lst)\n",
    "\n",
    "for i in range(5):\n",
    "    print(next(iterator))"
   ]
  },
  {
   "cell_type": "markdown",
   "id": "446182a9",
   "metadata": {},
   "source": [
    "# Q.4."
   ]
  },
  {
   "cell_type": "markdown",
   "id": "dc22eeb2",
   "metadata": {},
   "source": [
    "A generator is a function that returns an iterator that produces a sequence of values when iterated over.\n",
    "\n",
    "Generators are useful when we want to produce a large sequence of values, but we don't want to store all of them in memory at once.\n",
    "\n",
    "'yield' is used instead of 'return' to define a generator function\n",
    "\n",
    "example of generator function:\n",
    "     range()"
   ]
  },
  {
   "cell_type": "markdown",
   "id": "b1b79b4d",
   "metadata": {},
   "source": [
    "# Q.5."
   ]
  },
  {
   "cell_type": "code",
   "execution_count": 8,
   "id": "c1bb7828",
   "metadata": {},
   "outputs": [],
   "source": [
    "def prime_no(a):\n",
    "    for i in a:\n",
    "        if i>1:\n",
    "            for j in range(2,int(i**0.5+1)):\n",
    "                if i%j == 0:\n",
    "                    break\n",
    "            else:\n",
    "                yield i\n",
    "           \n",
    "        \n",
    "                "
   ]
  },
  {
   "cell_type": "code",
   "execution_count": 9,
   "id": "78e95042",
   "metadata": {},
   "outputs": [
    {
     "data": {
      "text/plain": [
       "<generator object prime_no at 0x00000223E88D6040>"
      ]
     },
     "execution_count": 9,
     "metadata": {},
     "output_type": "execute_result"
    }
   ],
   "source": [
    "prime_no(range(1,1001))"
   ]
  },
  {
   "cell_type": "code",
   "execution_count": 10,
   "id": "75c03611",
   "metadata": {},
   "outputs": [],
   "source": [
    "iterate = iter(prime_no(range(1,1001)))"
   ]
  },
  {
   "cell_type": "code",
   "execution_count": 11,
   "id": "a419ad69",
   "metadata": {},
   "outputs": [
    {
     "name": "stdout",
     "output_type": "stream",
     "text": [
      "2\n",
      "3\n",
      "5\n",
      "7\n",
      "11\n",
      "13\n",
      "17\n",
      "19\n",
      "23\n",
      "29\n",
      "31\n",
      "37\n",
      "41\n",
      "43\n",
      "47\n",
      "53\n",
      "59\n",
      "61\n",
      "67\n",
      "71\n"
     ]
    }
   ],
   "source": [
    "for i in range(1,21):\n",
    "    print(next(iterate))"
   ]
  },
  {
   "cell_type": "code",
   "execution_count": null,
   "id": "2954c057",
   "metadata": {},
   "outputs": [],
   "source": []
  },
  {
   "cell_type": "code",
   "execution_count": null,
   "id": "4bc310b7",
   "metadata": {},
   "outputs": [],
   "source": []
  },
  {
   "cell_type": "code",
   "execution_count": null,
   "id": "e33babaa",
   "metadata": {},
   "outputs": [],
   "source": []
  },
  {
   "cell_type": "code",
   "execution_count": null,
   "id": "77ce9ee0",
   "metadata": {},
   "outputs": [],
   "source": []
  },
  {
   "cell_type": "code",
   "execution_count": null,
   "id": "abfeec27",
   "metadata": {},
   "outputs": [],
   "source": []
  },
  {
   "cell_type": "code",
   "execution_count": null,
   "id": "e507facc",
   "metadata": {},
   "outputs": [],
   "source": []
  },
  {
   "cell_type": "code",
   "execution_count": null,
   "id": "dd8de3d6",
   "metadata": {},
   "outputs": [],
   "source": []
  },
  {
   "cell_type": "code",
   "execution_count": null,
   "id": "55bc19cc",
   "metadata": {},
   "outputs": [],
   "source": []
  }
 ],
 "metadata": {
  "kernelspec": {
   "display_name": "Python 3 (ipykernel)",
   "language": "python",
   "name": "python3"
  },
  "language_info": {
   "codemirror_mode": {
    "name": "ipython",
    "version": 3
   },
   "file_extension": ".py",
   "mimetype": "text/x-python",
   "name": "python",
   "nbconvert_exporter": "python",
   "pygments_lexer": "ipython3",
   "version": "3.9.12"
  }
 },
 "nbformat": 4,
 "nbformat_minor": 5
}
