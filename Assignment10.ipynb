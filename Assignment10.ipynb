{
 "cells": [
  {
   "cell_type": "markdown",
   "id": "0e869287",
   "metadata": {},
   "source": [
    "# Q.1."
   ]
  },
  {
   "cell_type": "markdown",
   "id": "9b097575",
   "metadata": {},
   "source": [
    " open() function opens a file, and returns it as a file object\n",
    " \n",
    " Syntax:\n",
    " open(file, mode)"
   ]
  },
  {
   "cell_type": "markdown",
   "id": "6a2eb5c0",
   "metadata": {},
   "source": [
    "# Modes of openning a file"
   ]
  },
  {
   "cell_type": "markdown",
   "id": "a8fd590e",
   "metadata": {},
   "source": [
    "'r'  :       open for reading (default)\n",
    "\n",
    "'w'  :       open for writing, truncating the file first\n",
    "\n",
    "'x'  :       create a new file and open it for writing\n",
    "\n",
    "'a'   :      open for writing, appending to the end of the file if it exists\n",
    "\n",
    "'b'   :      binary mode\n",
    "\n",
    "'t'   :      text mode (default)\n",
    "\n",
    "'+'   :      open a disk file for updating (reading and writing)"
   ]
  },
  {
   "cell_type": "markdown",
   "id": "16aac845",
   "metadata": {},
   "source": [
    "# Q.2."
   ]
  },
  {
   "cell_type": "markdown",
   "id": "54077d75",
   "metadata": {},
   "source": [
    "close() method closes an open file\n",
    "\n",
    "Syntax  :  file.close()\n",
    "\n",
    "we should always close a file because in some cases, due to buffering, changes made to a file may not show until you close the file.\n",
    "\n"
   ]
  },
  {
   "cell_type": "markdown",
   "id": "4e507b04",
   "metadata": {},
   "source": [
    "# Q.3."
   ]
  },
  {
   "cell_type": "code",
   "execution_count": 33,
   "id": "8d9f1efd",
   "metadata": {},
   "outputs": [],
   "source": [
    "file = open('test.txt','w')"
   ]
  },
  {
   "cell_type": "code",
   "execution_count": 34,
   "id": "ed3bf7b6",
   "metadata": {},
   "outputs": [
    {
     "data": {
      "text/plain": [
       "33"
      ]
     },
     "execution_count": 34,
     "metadata": {},
     "output_type": "execute_result"
    }
   ],
   "source": [
    "file.write('I want to become a Data Scientist')"
   ]
  },
  {
   "cell_type": "code",
   "execution_count": 35,
   "id": "a09f5939",
   "metadata": {},
   "outputs": [],
   "source": [
    "file.close()"
   ]
  },
  {
   "cell_type": "code",
   "execution_count": 36,
   "id": "1e5f7af1",
   "metadata": {},
   "outputs": [],
   "source": [
    "data = open('test.txt','r')"
   ]
  },
  {
   "cell_type": "code",
   "execution_count": 37,
   "id": "8af741d0",
   "metadata": {},
   "outputs": [
    {
     "data": {
      "text/plain": [
       "'I want to become a Data Scientist'"
      ]
     },
     "execution_count": 37,
     "metadata": {},
     "output_type": "execute_result"
    }
   ],
   "source": [
    "data.read()"
   ]
  },
  {
   "cell_type": "markdown",
   "id": "41c99cdc",
   "metadata": {},
   "source": [
    "# Q.4."
   ]
  },
  {
   "cell_type": "markdown",
   "id": "b40eb533",
   "metadata": {},
   "source": [
    "# read()"
   ]
  },
  {
   "cell_type": "markdown",
   "id": "4232c627",
   "metadata": {},
   "source": [
    "read() method returns the specified number of bytes from the file\n",
    "\n",
    "Default is -1 which means the whole file\n",
    "\n",
    "syntax : file.raed(size)\n",
    "\n",
    "parameter :  size ->  optional, deafult value -1\n"
   ]
  },
  {
   "cell_type": "markdown",
   "id": "e9058ebb",
   "metadata": {},
   "source": [
    "# readline()"
   ]
  },
  {
   "cell_type": "markdown",
   "id": "18c227a4",
   "metadata": {},
   "source": [
    "readline() method returns one line from the file\n",
    "\n",
    "we can also specified how many bytes from the line to return, by using the size parameter\n",
    "\n",
    "syntax : file.readline(size)\n",
    "    \n",
    "parameter : size  -> Optional, The number of bytes from the line to return. Default -1, which means the whole line."
   ]
  },
  {
   "cell_type": "markdown",
   "id": "063cc3a1",
   "metadata": {},
   "source": [
    "# readlines()"
   ]
  },
  {
   "cell_type": "markdown",
   "id": "206e50bd",
   "metadata": {},
   "source": [
    "readlines() method returns a list containing each line in the file as a list item\n",
    "\n",
    "\n",
    "Syntax : file.readlines(hint)\n",
    "    \n",
    "parameter : hint  -> Optional. If the number of bytes returned exceed the hint number, no more lines will be returned. Default value is  -1, which means all lines will be returned."
   ]
  },
  {
   "cell_type": "markdown",
   "id": "5ff09a4c",
   "metadata": {},
   "source": [
    "# Q.5."
   ]
  },
  {
   "cell_type": "markdown",
   "id": "75d89fa6",
   "metadata": {},
   "source": [
    "with statement is used with open() to open a file \n",
    "\n",
    "the with statement closes the file for you, we don't have to close file explicitly\n",
    "\n",
    "ADVANTAGES:\n",
    "\n",
    "\n",
    "with statement is used in exception handling to make the code cleaner and much more readable\n",
    "    \n",
    "with simplifies the management of common resources like file streams\n",
    "\n"
   ]
  },
  {
   "cell_type": "markdown",
   "id": "f1176e99",
   "metadata": {},
   "source": [
    "# Q.6."
   ]
  },
  {
   "cell_type": "markdown",
   "id": "019089aa",
   "metadata": {},
   "source": [
    "# write()"
   ]
  },
  {
   "cell_type": "markdown",
   "id": "e59d0297",
   "metadata": {},
   "source": [
    "write() method writes a specified text to the file\n",
    "\n",
    "Where the specified text will be inserted depends on the file mode and stream position\n",
    "\n",
    "\n",
    "\"a\":      The text will be inserted at the current file stream position, default at the end of the file\n",
    "\n",
    "\"w\":      The file will be emptied before the text will be inserted at the current file stream position, default 0\n",
    "\n",
    "Syntax:  file.write(byte)"
   ]
  },
  {
   "cell_type": "code",
   "execution_count": null,
   "id": "81948f28",
   "metadata": {},
   "outputs": [],
   "source": [
    "##"
   ]
  },
  {
   "cell_type": "markdown",
   "id": "0b877546",
   "metadata": {},
   "source": [
    "# writeline()"
   ]
  },
  {
   "cell_type": "markdown",
   "id": "9df10c58",
   "metadata": {},
   "source": [
    "writelines() method writes the items of a list to the file.\n",
    "\n",
    "Where the texts will be inserted depends on the file mode and stream position\n",
    "\n",
    "\"a\":  The texts will be inserted at the current file stream position, default at the end of the file\n",
    "\n",
    "\"w\": The file will be emptied before the texts will be inserted at the current file stream position, default 0\n",
    "    \n",
    "Syntax :  file.writelines(list)"
   ]
  },
  {
   "cell_type": "code",
   "execution_count": 41,
   "id": "cced389b",
   "metadata": {},
   "outputs": [
    {
     "name": "stdout",
     "output_type": "stream",
     "text": [
      "See you soon!Over and out.\n"
     ]
    }
   ],
   "source": [
    "## for e.g.\n",
    "\n",
    "f = open(\"file2.txt\", \"a\")\n",
    "f.writelines([\"See you soon!\", \"Over and out.\"])\n",
    "f.close()\n",
    "\n",
    "#open and read the file after the appending:\n",
    "f = open(\"file2.txt\", \"r\")\n",
    "print(f.read())"
   ]
  },
  {
   "cell_type": "code",
   "execution_count": null,
   "id": "65e092e9",
   "metadata": {},
   "outputs": [],
   "source": []
  }
 ],
 "metadata": {
  "kernelspec": {
   "display_name": "Python 3 (ipykernel)",
   "language": "python",
   "name": "python3"
  },
  "language_info": {
   "codemirror_mode": {
    "name": "ipython",
    "version": 3
   },
   "file_extension": ".py",
   "mimetype": "text/x-python",
   "name": "python",
   "nbconvert_exporter": "python",
   "pygments_lexer": "ipython3",
   "version": "3.9.13"
  }
 },
 "nbformat": 4,
 "nbformat_minor": 5
}
