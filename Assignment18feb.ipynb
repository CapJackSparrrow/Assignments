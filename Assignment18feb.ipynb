{
 "cells": [
  {
   "cell_type": "markdown",
   "id": "19055c45",
   "metadata": {},
   "source": [
    "# Q.1."
   ]
  },
  {
   "cell_type": "markdown",
   "id": "77625f63",
   "metadata": {},
   "source": [
    "API is a set of definition and protocols for building and integrating application software\n",
    "\n",
    "APIs let our product or service communicate with other products and services without having to know how they’re implemented\n",
    "\n",
    "APIs are all around us. Every time we use a Ola app, send a mobile payment, or change the thermostat temperature from your phone, you're using an API"
   ]
  },
  {
   "cell_type": "markdown",
   "id": "4058b2dd",
   "metadata": {},
   "source": [
    "# Q.2."
   ]
  },
  {
   "cell_type": "markdown",
   "id": "9cf1dccc",
   "metadata": {},
   "source": [
    "# Advantages of APIs"
   ]
  },
  {
   "cell_type": "markdown",
   "id": "1841c81d",
   "metadata": {},
   "source": [
    "APPLICATIONS: Access to APIs ensures more flexibility in information-transfer processes.\n",
    "    \n",
    "REACH: APIs let you create layers in apps in order to distribute information to different audiences.\n",
    "\n",
    "CUSTOMIZATION: Furthermore, it can serve as a solution to create different experiences for users, letting protocols, functions, and commands be adapted according to specific demands.\n",
    "\n",
    "EFFICIENCY: When you have content that is automatically published and made available on different channels simultaneously, APIs allow for more efficient data distribution.\n",
    "\n",
    "ADAPTABILITY: One of the greatest benefits of APIs is the ability it has to adapt to changes through data migration and flexibility of services."
   ]
  },
  {
   "cell_type": "markdown",
   "id": "2fb1008a",
   "metadata": {},
   "source": [
    "# Disadvantages of APIs"
   ]
  },
  {
   "cell_type": "markdown",
   "id": "be0ca1df",
   "metadata": {},
   "source": [
    "Creating API is a very time-consuming process\n",
    "\n",
    "A fixed scale is necessary\n",
    "\n",
    "Imprecise boundary delineation\n",
    "\n",
    "Maintenance cost is very high\n",
    "\n",
    "It can crash when testing API"
   ]
  },
  {
   "cell_type": "markdown",
   "id": "5b67b207",
   "metadata": {},
   "source": [
    "# Q.3."
   ]
  },
  {
   "cell_type": "markdown",
   "id": "ecda0a4b",
   "metadata": {},
   "source": [
    "Web APi is an open-source framework that is used to write HTTP APIs\n",
    "\n",
    "It refers to an API over the web which can be accessed using HTTP protocol\n",
    "\n",
    "It is a concept and not a technology"
   ]
  },
  {
   "cell_type": "markdown",
   "id": "a0eb0ab9",
   "metadata": {},
   "source": [
    "# Difference b/w API and Web API"
   ]
  },
  {
   "cell_type": "markdown",
   "id": "288f6d49",
   "metadata": {},
   "source": [
    "a) Web API is used for REST, SOAP, and XML-RPC for communication, while API is used for any style of communication\n",
    "\n",
    "b) Web API supports only HTTP protocol, whereas API supports HTTP, TCP, SMTP protocols\n",
    "\n",
    "c) Web API supports XML, while API supports XML and JSON\n",
    "\n",
    "d) All Web APIs are APIs, but all APIs are not web APIs"
   ]
  },
  {
   "cell_type": "markdown",
   "id": "6f8b3383",
   "metadata": {},
   "source": [
    "# Q.4."
   ]
  },
  {
   "cell_type": "markdown",
   "id": "e4b4496b",
   "metadata": {},
   "source": [
    "# REST(Representational State Transfer)"
   ]
  },
  {
   "cell_type": "markdown",
   "id": "f436b92b",
   "metadata": {},
   "source": [
    "REST is an architectural style\n",
    "\n",
    "Web APIs that adhere to the REST architectural constraints are called RESTful APIs\n",
    "\n",
    " APIs are RESTful as long as they comply with the 6 guiding constraints of a RESTful system:\n",
    " \n",
    " 1. Client-server architecture\n",
    " \n",
    " 2. Statelessness\n",
    " \n",
    " 3. Cacheability\n",
    " \n",
    " 4. Layered System\n",
    " \n",
    " 5. Uniform Interface"
   ]
  },
  {
   "cell_type": "markdown",
   "id": "09313502",
   "metadata": {},
   "source": [
    "# SOAP(Simple Object Access Protocol)"
   ]
  },
  {
   "cell_type": "markdown",
   "id": "ae114745",
   "metadata": {},
   "source": [
    "It is a standard for designing APIs\n",
    "\n",
    "APIs designed with SOAP use XML for their message format and receive requests through HTTP or SMTP\n",
    "\n",
    "SOAP makes it easier for apps running in different environments or written in different languages to share information"
   ]
  },
  {
   "cell_type": "markdown",
   "id": "5ed2eff8",
   "metadata": {},
   "source": [
    "# Q.5."
   ]
  },
  {
   "cell_type": "markdown",
   "id": "d0b9c8ef",
   "metadata": {},
   "source": [
    "# Key Difference Between SOAP and REST API\n",
    "\n",
    "SOAP stands for Simple Object Access Protocol whereas REST stands for Representational State Transfer.\n",
    "\n",
    "SOAP is a protocol whereas REST is an architectural pattern.\n",
    "\n",
    "SOAP uses service interfaces to expose its functionality to client applications while REST uses Uniform Service locators to access to the components on the hardware device.\n",
    "\n",
    "SOAP needs more bandwidth for its usage whereas REST doesn’t need much bandwidth.\n",
    "\n",
    "Comparing SOAP vs REST API, SOAP only works with XML formats whereas REST work with plain text, XML, HTML and JSON.\n",
    "\n",
    "SOAP cannot make use of REST whereas REST can make use of SOAP"
   ]
  }
 ],
 "metadata": {
  "kernelspec": {
   "display_name": "Python 3 (ipykernel)",
   "language": "python",
   "name": "python3"
  },
  "language_info": {
   "codemirror_mode": {
    "name": "ipython",
    "version": 3
   },
   "file_extension": ".py",
   "mimetype": "text/x-python",
   "name": "python",
   "nbconvert_exporter": "python",
   "pygments_lexer": "ipython3",
   "version": "3.9.13"
  }
 },
 "nbformat": 4,
 "nbformat_minor": 5
}
