{
 "cells": [
  {
   "cell_type": "markdown",
   "id": "02ff7f54",
   "metadata": {},
   "source": [
    "# Q.1."
   ]
  },
  {
   "cell_type": "code",
   "execution_count": 1,
   "id": "fbe8d203",
   "metadata": {},
   "outputs": [
    {
     "data": {
      "text/plain": [
       "11"
      ]
     },
     "execution_count": 1,
     "metadata": {},
     "output_type": "execute_result"
    }
   ],
   "source": [
    "def sum(x,y):\n",
    "    return x+y\n",
    "\n",
    "sum(5,6)"
   ]
  },
  {
   "cell_type": "markdown",
   "id": "f1aa0faa",
   "metadata": {},
   "source": [
    "# Q.2."
   ]
  },
  {
   "cell_type": "code",
   "execution_count": 2,
   "id": "bfd448d3",
   "metadata": {},
   "outputs": [
    {
     "data": {
      "text/plain": [
       "25.0"
      ]
     },
     "execution_count": 2,
     "metadata": {},
     "output_type": "execute_result"
    }
   ],
   "source": [
    "import math\n",
    "def squareroot(x):\n",
    "    return math.sqrt(x)\n",
    "\n",
    "squareroot(625)"
   ]
  },
  {
   "cell_type": "markdown",
   "id": "c9499022",
   "metadata": {},
   "source": [
    "# Q.3."
   ]
  },
  {
   "cell_type": "code",
   "execution_count": 3,
   "id": "041bff98",
   "metadata": {},
   "outputs": [
    {
     "name": "stdout",
     "output_type": "stream",
     "text": [
      "2\n",
      "3\n",
      "5\n",
      "7\n",
      "11\n",
      "13\n",
      "17\n",
      "19\n",
      "23\n",
      "29\n",
      "31\n",
      "37\n",
      "41\n",
      "43\n",
      "47\n"
     ]
    }
   ],
   "source": [
    "\n",
    "for i in range(2,51):\n",
    "    flag = True\n",
    "    \n",
    "    for j in range(2,int(i**0.5)+1):\n",
    "        if i % j == 0:\n",
    "            flag = False\n",
    "            break\n",
    "    if flag == True:\n",
    "        print(i)    \n",
    "            "
   ]
  },
  {
   "cell_type": "markdown",
   "id": "60662a8b",
   "metadata": {},
   "source": [
    "# Q.4."
   ]
  },
  {
   "cell_type": "code",
   "execution_count": 4,
   "id": "9d85e788",
   "metadata": {},
   "outputs": [],
   "source": [
    "a,b,c = 5,8,9\n",
    "a = a + b + c\n",
    "b = a - (b+c)\n",
    "c = a - (b+c)\n",
    "a = a - (b+c)"
   ]
  },
  {
   "cell_type": "code",
   "execution_count": 5,
   "id": "ec5e0882",
   "metadata": {},
   "outputs": [
    {
     "name": "stdout",
     "output_type": "stream",
     "text": [
      "9\n",
      "5\n",
      "8\n"
     ]
    }
   ],
   "source": [
    "print(a)\n",
    "print(b)\n",
    "print(c)"
   ]
  },
  {
   "cell_type": "markdown",
   "id": "36f3a595",
   "metadata": {},
   "source": [
    "# Q.5."
   ]
  },
  {
   "cell_type": "code",
   "execution_count": 6,
   "id": "0ea474e0",
   "metadata": {},
   "outputs": [
    {
     "name": "stdout",
     "output_type": "stream",
     "text": [
      "enter the number: -21\n",
      "number is negative\n"
     ]
    }
   ],
   "source": [
    "num = int(input('enter the number: '))\n",
    "\n",
    "if num < 0:\n",
    "    print('number is negative')\n",
    "elif num == 0:\n",
    "    print('number is equal to zero')\n",
    "else:\n",
    "    print('number is positive')"
   ]
  },
  {
   "cell_type": "markdown",
   "id": "1135e613",
   "metadata": {},
   "source": [
    "# Q.6"
   ]
  },
  {
   "cell_type": "code",
   "execution_count": 7,
   "id": "e76898e9",
   "metadata": {},
   "outputs": [
    {
     "name": "stdout",
     "output_type": "stream",
     "text": [
      "enter the number: 26\n",
      "number is even\n"
     ]
    }
   ],
   "source": [
    "num1 = int(input('enter the number: '))\n",
    "\n",
    "if num1 % 2 == 0:\n",
    "    print('number is even')\n",
    "else:\n",
    "    print('number is odd')"
   ]
  },
  {
   "cell_type": "markdown",
   "id": "e5a39f03",
   "metadata": {},
   "source": [
    "# Q.7."
   ]
  },
  {
   "cell_type": "code",
   "execution_count": 8,
   "id": "727449f6",
   "metadata": {},
   "outputs": [
    {
     "name": "stdout",
     "output_type": "stream",
     "text": [
      "enter the number: 2345\n",
      "14\n"
     ]
    }
   ],
   "source": [
    "num2 = int(input('enter the number: '))\n",
    "\n",
    "sum = 0\n",
    "while num2 > 0:\n",
    "    temp = num2%10\n",
    "    num2 = num2//10\n",
    "    sum = sum + temp\n",
    "print(sum)"
   ]
  },
  {
   "cell_type": "markdown",
   "id": "735e6bfc",
   "metadata": {},
   "source": [
    "# Q.8."
   ]
  },
  {
   "cell_type": "code",
   "execution_count": 9,
   "id": "ce348c1d",
   "metadata": {},
   "outputs": [
    {
     "name": "stdout",
     "output_type": "stream",
     "text": [
      "enter the number: 2345\n"
     ]
    },
    {
     "data": {
      "text/plain": [
       "5432"
      ]
     },
     "execution_count": 9,
     "metadata": {},
     "output_type": "execute_result"
    }
   ],
   "source": [
    "num3 = int(input('enter the number: '))\n",
    "\n",
    "rev = 0\n",
    "while num3 > 0:\n",
    "    temp = num3%10\n",
    "    num3 = num3//10\n",
    "    rev = rev*10 + temp\n",
    "    \n",
    "\n",
    "rev"
   ]
  },
  {
   "cell_type": "markdown",
   "id": "ed0768d2",
   "metadata": {},
   "source": [
    "# Q.9."
   ]
  },
  {
   "cell_type": "code",
   "execution_count": 10,
   "id": "1df0f765",
   "metadata": {},
   "outputs": [
    {
     "name": "stdout",
     "output_type": "stream",
     "text": [
      "number is armstrong \n"
     ]
    }
   ],
   "source": [
    "n = 371\n",
    "\n",
    "sum = 0\n",
    "temp = n\n",
    "while temp > 0:\n",
    "    digit = temp%10\n",
    "    temp//=10\n",
    "    sum = sum + (digit**3)\n",
    "    \n",
    "if sum == n:\n",
    "    print('number is armstrong ')\n",
    "else:\n",
    "    print('not an armstrong number')"
   ]
  },
  {
   "cell_type": "markdown",
   "id": "94703b04",
   "metadata": {},
   "source": [
    "# Q.10."
   ]
  },
  {
   "cell_type": "code",
   "execution_count": 11,
   "id": "f32c5f96",
   "metadata": {},
   "outputs": [
    {
     "name": "stdout",
     "output_type": "stream",
     "text": [
      "it is a leap year\n"
     ]
    }
   ],
   "source": [
    "year = 1996\n",
    "if year % 4 == 0:\n",
    "    print('it is a leap year')\n",
    "else:\n",
    "    print('it is not a leap year')\n",
    "    "
   ]
  },
  {
   "cell_type": "code",
   "execution_count": null,
   "id": "58cc8e95",
   "metadata": {},
   "outputs": [],
   "source": []
  }
 ],
 "metadata": {
  "kernelspec": {
   "display_name": "Python 3 (ipykernel)",
   "language": "python",
   "name": "python3"
  },
  "language_info": {
   "codemirror_mode": {
    "name": "ipython",
    "version": 3
   },
   "file_extension": ".py",
   "mimetype": "text/x-python",
   "name": "python",
   "nbconvert_exporter": "python",
   "pygments_lexer": "ipython3",
   "version": "3.9.13"
  }
 },
 "nbformat": 4,
 "nbformat_minor": 5
}
