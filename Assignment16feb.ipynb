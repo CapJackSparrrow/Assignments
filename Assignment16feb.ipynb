{
 "cells": [
  {
   "cell_type": "markdown",
   "id": "5358404f",
   "metadata": {},
   "source": [
    "# Q.1."
   ]
  },
  {
   "cell_type": "markdown",
   "id": "23ff9a1d",
   "metadata": {},
   "source": [
    "A database is an organized collection of data, so that it can be easily accessed and managed\n",
    "\n",
    "You can organize data into tables, rows, columns, and index it to make it easier to find relevant information in a dtabase"
   ]
  },
  {
   "cell_type": "markdown",
   "id": "5b23e655",
   "metadata": {},
   "source": [
    "# SQL"
   ]
  },
  {
   "cell_type": "markdown",
   "id": "dd8c6df6",
   "metadata": {},
   "source": [
    "RELATIONAL DATABASE MANAGEMENT SYSTEM (RDBMS)\t\n",
    "\n",
    "These databases have fixed or static or predefined schema\t\n",
    "\n",
    "These databases are not suited for hierarchical data storage.\t\n",
    "\n",
    "These databases are best suited for complex queries\t\n",
    "\n",
    "Vertically Scalable\t\n",
    "\n",
    "Follows ACID property\t\n",
    "\n",
    "Examples: MySQL, PostgreSQL, Oracle, MS-SQL Server, etc"
   ]
  },
  {
   "cell_type": "markdown",
   "id": "79dae234",
   "metadata": {},
   "source": [
    "# NoSQL"
   ]
  },
  {
   "cell_type": "markdown",
   "id": "7770fc3f",
   "metadata": {},
   "source": [
    "Non-relational or distributed database system.\n",
    "\n",
    "They have dynamic schema\n",
    "\n",
    "These databases are best suited for hierarchical data storage.\n",
    "\n",
    "These databases are not so good for complex queries\n",
    "\n",
    "Horizontally scalable\n",
    "\n",
    "Follows CAP(consistency, availability, partition tolerance)\n",
    "\n",
    "Examples: MongoDB, GraphQL, HBase, Neo4j, Cassandra, etc"
   ]
  },
  {
   "cell_type": "markdown",
   "id": "10f3f413",
   "metadata": {},
   "source": [
    "# Q.2."
   ]
  },
  {
   "cell_type": "markdown",
   "id": "d77cb049",
   "metadata": {},
   "source": [
    "Data Definition Language (DDL) is a subset of SQL. It is a language for describing data and its relationships in a database.\n",
    "\n",
    "You can generate DDL in a script for database objects to:\n",
    "\n",
    "-Keep a snapshot of the database structure\n",
    "\n",
    "-Set up a test system where the database acts like the production system but contains no data\n",
    "\n",
    "-Produce templates for new objects that you can create based on existing ones. For example, generate the DDL for the Customer table, then edit the DDL to create the table Customer_New with the same schema"
   ]
  },
  {
   "cell_type": "markdown",
   "id": "5df5ba14",
   "metadata": {},
   "source": [
    "# CREATE"
   ]
  },
  {
   "cell_type": "markdown",
   "id": "0a23ff75",
   "metadata": {},
   "source": [
    "The CREATE TABLE command creates a new table in the database\n",
    "\n",
    "for e.g.\n",
    "\n",
    "CREATE TABLE Persons (\n",
    "    PersonID int,\n",
    "    LastName varchar(255),\n",
    "    FirstName varchar(255),\n",
    "    Address varchar(255),\n",
    "    City varchar(255)\n",
    ");"
   ]
  },
  {
   "cell_type": "markdown",
   "id": "86e58b02",
   "metadata": {},
   "source": [
    "# ALTER"
   ]
  },
  {
   "cell_type": "markdown",
   "id": "d7ee6e92",
   "metadata": {},
   "source": [
    "The ALTER TABLE command adds, deletes, or modifies columns in a table.\n",
    "\n",
    "The ALTER TABLE command also adds and deletes various constraints in a table.\n",
    "\n",
    "for e.g\n",
    "\n",
    "ALTER TABLE Customers\n",
    "ADD Email varchar(255);"
   ]
  },
  {
   "cell_type": "markdown",
   "id": "67f9f1e0",
   "metadata": {},
   "source": [
    "# DROP \n",
    "\n",
    "The DROP TABLE command deletes a table in the database"
   ]
  },
  {
   "cell_type": "markdown",
   "id": "e7fbef1a",
   "metadata": {},
   "source": [
    "for e.g.\n",
    "\n",
    "DROP TABLE Shippers;"
   ]
  },
  {
   "cell_type": "markdown",
   "id": "cfa0c515",
   "metadata": {},
   "source": [
    "# TRUNCATE \n",
    "\n",
    "The TRUNCATE TABLE command deletes the data inside a table, but not the table itself."
   ]
  },
  {
   "cell_type": "markdown",
   "id": "4d2dfe9c",
   "metadata": {},
   "source": [
    "for e.g.\n",
    "\n",
    "DROP TABLE Shippers;"
   ]
  },
  {
   "cell_type": "markdown",
   "id": "01a7ac42",
   "metadata": {},
   "source": [
    "# Q.3."
   ]
  },
  {
   "cell_type": "markdown",
   "id": "27470ad2",
   "metadata": {},
   "source": [
    "DML(Data Manipulation Language) is SQL commands that deals with the manipulation of data present in the database belong to DML and this includes most of the SQL statements\n",
    "\n",
    "It is the component of the SQL statement that controls access to data and to the database\n",
    "\n",
    "Basically, DCL statements are grouped with DML statements."
   ]
  },
  {
   "cell_type": "markdown",
   "id": "12b96409",
   "metadata": {},
   "source": [
    "# INSERT"
   ]
  },
  {
   "cell_type": "markdown",
   "id": "46480b4c",
   "metadata": {},
   "source": [
    "The INSERT INTO statement is used to insert new records in a tabl"
   ]
  },
  {
   "cell_type": "markdown",
   "id": "a6394ccd",
   "metadata": {},
   "source": [
    "for e.g.\n",
    "INSERT INTO table_name VALUES (value1, value2, value3, ...);"
   ]
  },
  {
   "cell_type": "markdown",
   "id": "ef51c931",
   "metadata": {},
   "source": [
    "# UPDATE"
   ]
  },
  {
   "cell_type": "markdown",
   "id": "977cf9e6",
   "metadata": {},
   "source": [
    "The UPDATE statement is used to modify the existing records in a table\n",
    "\n",
    "syntax:\n",
    "    \n",
    "UPDATE table_name\n",
    "SET column1 = value1, column2 = value2, ...\n",
    "WHERE condition;"
   ]
  },
  {
   "cell_type": "markdown",
   "id": "74787143",
   "metadata": {},
   "source": [
    "# DELETE"
   ]
  },
  {
   "cell_type": "markdown",
   "id": "39850970",
   "metadata": {},
   "source": [
    "The DELETE statement is used to delete existing records in a table\n",
    "\n",
    "syntax:\n",
    "    \n",
    "DELETE FROM table_name WHERE condition;"
   ]
  },
  {
   "cell_type": "markdown",
   "id": "ea79c6d0",
   "metadata": {},
   "source": [
    "# Q.4"
   ]
  },
  {
   "cell_type": "markdown",
   "id": "190523c5",
   "metadata": {},
   "source": [
    "DQL(Data Query Language) statements are used for performing queries on the data within schema objects\n",
    "\n",
    "The purpose of the DQL Command is to get some schema relation based on the query passed to it\n",
    "\n",
    "We can define DQL as follows it is a component of SQL statement that allows getting data from the database and imposing order upon it\n",
    "It includes the SELECT statement "
   ]
  },
  {
   "cell_type": "markdown",
   "id": "4287b17e",
   "metadata": {},
   "source": [
    "# SELECT"
   ]
  },
  {
   "cell_type": "markdown",
   "id": "b6b2df76",
   "metadata": {},
   "source": [
    "The SELECT statement is used to select data from a database.\n",
    "\n",
    "When a SELECT is fired against a table or tables the result is compiled into a further temporary table, which is displayed or perhaps received by the program i.e. a front-end."
   ]
  },
  {
   "cell_type": "markdown",
   "id": "27f10b4e",
   "metadata": {},
   "source": [
    "syntax:\n",
    "\n",
    "SELECT column1, column2, ...\n",
    "FROM table_name;"
   ]
  },
  {
   "cell_type": "markdown",
   "id": "f847c4aa",
   "metadata": {},
   "source": [
    "# Q.5."
   ]
  },
  {
   "cell_type": "code",
   "execution_count": null,
   "id": "f6cdb208",
   "metadata": {},
   "outputs": [],
   "source": [
    "import mysql.connector\n",
    "\n",
    "mydb = mysql.connector.connect(\n",
    "  host=\"localhost\",\n",
    "  user=\"abc\",\n",
    "  password=\"password\"\n",
    ")\n",
    "mycursor = mydb.cursor()    \n",
    "mycursor.execute(\"CREATE DATABASE if not exists test1\")\n",
    "mycursor.execute(\"CREATE TABLE if not exists test1.test_table (c1 INT, c2 VARCHAR(50),c3 INT, c4 FLOAT,c5 VARCHAR(40))\")\n",
    "mydb.close()"
   ]
  },
  {
   "cell_type": "markdown",
   "id": "4ab5bb98",
   "metadata": {},
   "source": [
    "# execute()"
   ]
  },
  {
   "cell_type": "markdown",
   "id": "4f3ebd9b",
   "metadata": {},
   "source": [
    "SYNTAX:\n",
    "cursor.execute(operation, params=None, multi=False)\n",
    "\n",
    "This method executes the given database operation (query or command)\n",
    "\n",
    "The parameters found in the tuple or dictionary params are bound to the variables in the operation\n",
    "\n",
    "Specify variables using %s or %(name)s parameter style (that is, using format or pyformat style)\n",
    "\n",
    "execute() returns an iterator if multi is True."
   ]
  },
  {
   "cell_type": "markdown",
   "id": "7e3ac93d",
   "metadata": {},
   "source": [
    "# cursor()"
   ]
  },
  {
   "cell_type": "markdown",
   "id": "d06c04f7",
   "metadata": {},
   "source": [
    "Allows Python code to execute PostgreSQL command in a database session\n",
    "\n",
    "Cursors are created by the connection.cursor() method: they are bound to the connection for the entire lifetime and all the commands are executed in the context of the database session wrapped by the connection."
   ]
  },
  {
   "cell_type": "markdown",
   "id": "e01b1242",
   "metadata": {},
   "source": [
    "# Q.6."
   ]
  },
  {
   "cell_type": "markdown",
   "id": "13e37ade",
   "metadata": {},
   "source": [
    "The order in which the clauses in queries are executed is as follows:\n",
    "\n",
    "1. FROM/JOIN: The FROM and/or JOIN clauses are executed first to determine the data of interest.\n",
    "\n",
    "\n",
    "2. WHERE: The WHERE clause is executed to filter out records that do not meet the constraints.\n",
    "\n",
    "\n",
    "3. GROUP BY: The GROUP BY clause is executed to group the data based on the values in one or more columns.\n",
    "\n",
    "\n",
    "4. HAVING: The HAVING clause is executed to remove the created grouped records that don’t meet the constraints.\n",
    "\n",
    "\n",
    "5. SELECT: The SELECT clause is executed to derive all desired columns and expressions.\n",
    "\n",
    "\n",
    "6. ORDER BY: The ORDER BY clause is executed to sort the derived values in ascending or descending order.\n",
    "\n",
    "\n",
    "7. LIMIT/OFFSET: Finally, the LIMIT and/or OFFSET clauses are executed to keep or skip a specified number of rows."
   ]
  },
  {
   "cell_type": "markdown",
   "id": "f60ff108",
   "metadata": {},
   "source": []
  }
 ],
 "metadata": {
  "kernelspec": {
   "display_name": "Python 3 (ipykernel)",
   "language": "python",
   "name": "python3"
  },
  "language_info": {
   "codemirror_mode": {
    "name": "ipython",
    "version": 3
   },
   "file_extension": ".py",
   "mimetype": "text/x-python",
   "name": "python",
   "nbconvert_exporter": "python",
   "pygments_lexer": "ipython3",
   "version": "3.9.13"
  }
 },
 "nbformat": 4,
 "nbformat_minor": 5
}
