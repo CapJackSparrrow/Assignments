{
 "cells": [
  {
   "cell_type": "markdown",
   "id": "85d4d8e0",
   "metadata": {},
   "source": [
    "# Q.1."
   ]
  },
  {
   "cell_type": "markdown",
   "id": "b5c556a4",
   "metadata": {},
   "source": [
    "Artificial intelligence (AI) is a field of computer science focused on creating intelligent machines that can perform tasks that typically require human intelligence. AI techniques include machine learning, natural language processing, computer vision, and robotics.\n",
    "\n",
    "Machine learning is a subset of AI that involves training algorithms to learn patterns in data. The goal is to build models that can automatically improve their performance on a specific task over time without being explicitly programmed. Machine learning algorithms can be divided into three categories: supervised learning, unsupervised learning, and reinforcement learning.\n",
    "\n",
    "Deep learning is a subset of machine learning that involves training artificial neural networks to learn hierarchical representations of data. Deep learning algorithms use multiple layers of interconnected neurons to process information, allowing them to learn complex patterns in large datasets. Deep learning has achieved impressive results in a wide range of applications, including computer vision, natural language processing, and speech recognition"
   ]
  },
  {
   "cell_type": "markdown",
   "id": "557eec0f",
   "metadata": {},
   "source": [
    "# Q.2."
   ]
  },
  {
   "cell_type": "markdown",
   "id": "6cf66138",
   "metadata": {},
   "source": [
    "Supervised learning is a type of machine learning where the algorithm learns to predict output values based on input features and a set of labeled training data. In supervised learning, the algorithm is trained on a dataset where each data point has an associated label or target variable, and the goal is to learn a mapping between the input features and the corresponding output values.\n",
    "\n",
    "for e.g. Regression, Classification"
   ]
  },
  {
   "cell_type": "markdown",
   "id": "c6897953",
   "metadata": {},
   "source": [
    "# Q.3."
   ]
  },
  {
   "cell_type": "markdown",
   "id": "c5ec7e23",
   "metadata": {},
   "source": [
    "Unsupervised learning is a type of machine learning where the algorithm learns to identify patterns and relationships in data without being explicitly trained on labeled examples. In unsupervised learning, the algorithm is given a set of input data with no predefined output labels, and the goal is to discover hidden structures or patterns in the data.\n",
    "\n",
    "for e.g. Clustering, Dimensionality reduction, etc"
   ]
  },
  {
   "cell_type": "markdown",
   "id": "786bed23",
   "metadata": {},
   "source": [
    "# Q.4."
   ]
  },
  {
   "cell_type": "markdown",
   "id": "776f657c",
   "metadata": {},
   "source": [
    "AI is a broad field that encompasses a wide range of techniques and applications focused on creating intelligent machines that can perform tasks that typically require human intelligence. AI techniques include machine learning, natural language processing, computer vision, robotics, and expert systems.\n",
    "\n",
    "ML is a subset of AI that involves training algorithms to learn patterns in data without being explicitly programmed. The goal is to build models that can automatically improve their performance on a specific task over time. ML algorithms can be divided into three categories: supervised learning, unsupervised learning, and reinforcement learning.\n",
    "\n",
    "DL is a subset of ML that involves training artificial neural networks to learn hierarchical representations of data. DL algorithms use multiple layers of interconnected neurons to process information, allowing them to learn complex patterns in large datasets.\n",
    "\n",
    "DS is an interdisciplinary field that involves using scientific methods, processes, algorithms, and systems to extract insights and knowledge from structured and unstructured data. DS includes a variety of techniques from statistics, data visualization, machine learning, and database management."
   ]
  },
  {
   "cell_type": "markdown",
   "id": "65d2d28d",
   "metadata": {},
   "source": [
    "# Q.5."
   ]
  },
  {
   "cell_type": "markdown",
   "id": "2827c729",
   "metadata": {},
   "source": [
    "Supervised learning: In supervised learning, the algorithm is trained on labeled data, where each data point has an associated label or target variable. The goal is to learn a mapping between the input features and the corresponding output values. Supervised learning is used for tasks such as classification and regression.\n",
    "\n",
    "Unsupervised learning: In unsupervised learning, the algorithm is trained on unlabeled data, where no predefined output labels are provided. The goal is to identify patterns or structures in the data, such as clustering similar data points together or reducing the dimensionality of the data. Unsupervised learning is used for tasks such as clustering, dimensionality reduction, and anomaly detection.\n",
    "\n",
    "Semi-supervised learning: In semi-supervised learning, the algorithm is trained on a combination of labeled and unlabeled data. The labeled data is used to train the model, while the unlabeled data is used to improve the model's generalization ability. Semi-supervised learning is used when labeled data is scarce or expensive to obtain."
   ]
  },
  {
   "cell_type": "markdown",
   "id": "d5013587",
   "metadata": {},
   "source": [
    "# Q.6."
   ]
  },
  {
   "cell_type": "markdown",
   "id": "a5dc372c",
   "metadata": {},
   "source": [
    "The training set is used to train the model on the input data, and the model tries to learn the underlying patterns and relationships in the data. \n",
    "\n",
    "The validation set is used to evaluate the model's performance during training and to tune the model's hyperparameters, such as the learning rate, regularization parameters, or the number of hidden layers in a neural network. \n",
    "\n",
    "The test set is used to evaluate the final performance of the model after it has been trained and tuned."
   ]
  },
  {
   "cell_type": "markdown",
   "id": "938557e8",
   "metadata": {},
   "source": [
    "# Q.7."
   ]
  },
  {
   "cell_type": "markdown",
   "id": "80e7c9d1",
   "metadata": {},
   "source": [
    "Unsupervised learning can be used for anomaly detection by identifying patterns or structures in the data that deviate significantly from the normal or expected behavior. Anomalies, also known as outliers, are data points that are rare or unusual and do not fit the overall pattern or distribution of the data.\n",
    "\n",
    "One common approach for unsupervised anomaly detection is clustering. The idea is to group similar data points together and identify data points that do not fit into any cluster or belong to a small or isolated cluster. Anomaly detection using clustering can be done using different algorithms such as k-means, DBSCAN, and hierarchical clustering."
   ]
  },
  {
   "cell_type": "markdown",
   "id": "b1baed85",
   "metadata": {},
   "source": [
    "# Q.8."
   ]
  },
  {
   "cell_type": "markdown",
   "id": "a6bfe924",
   "metadata": {},
   "source": [
    "# Supervised Learning Algorithms:\n",
    "\n",
    "Linear Regression\n",
    "\n",
    "Logistic Regression\n",
    "\n",
    "Decision Trees\n",
    "\n",
    "Random Forest\n",
    "\n",
    "Support Vector Machines (SVM)\n",
    "\n",
    "Naive Bayes\n",
    "\n",
    "k-Nearest Neighbors (k-NN)\n",
    "\n",
    "Artificial Neural Networks (ANN)\n",
    "\n",
    "# Unsupervised Learning Algorithms:\n",
    "\n",
    "K-Means Clustering\n",
    "\n",
    "Hierarchical Clustering\n",
    "\n",
    "Principal Component Analysis (PCA)\n",
    "\n",
    "Independent Component Analysis (ICA)\n",
    "\n",
    "Autoencoders\n",
    "\n",
    "t-Distributed Stochastic Neighbor Embedding (t-SNE)\n",
    "\n",
    "Density-Based Spatial Clustering of Applications with Noise (DBSCAN)\n",
    "\n",
    "Gaussian Mixture Models (GMM)"
   ]
  },
  {
   "cell_type": "code",
   "execution_count": null,
   "id": "6ec3c077",
   "metadata": {},
   "outputs": [],
   "source": []
  }
 ],
 "metadata": {
  "kernelspec": {
   "display_name": "Python 3 (ipykernel)",
   "language": "python",
   "name": "python3"
  },
  "language_info": {
   "codemirror_mode": {
    "name": "ipython",
    "version": 3
   },
   "file_extension": ".py",
   "mimetype": "text/x-python",
   "name": "python",
   "nbconvert_exporter": "python",
   "pygments_lexer": "ipython3",
   "version": "3.9.13"
  }
 },
 "nbformat": 4,
 "nbformat_minor": 5
}
