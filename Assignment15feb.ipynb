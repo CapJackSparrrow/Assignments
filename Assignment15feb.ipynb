{
 "cells": [
  {
   "cell_type": "markdown",
   "id": "a8336fd2",
   "metadata": {},
   "source": [
    "# Q.1"
   ]
  },
  {
   "cell_type": "markdown",
   "id": "b65ad39b",
   "metadata": {},
   "source": [
    "Multiprocessing refers to the ability of a system to support more than one processor at the same time\n",
    "\n",
    "Applications in a multiprocessing system are broken to smaller routines that run independently\n",
    "\n",
    "The operating system allocates these threads to the processors improving performance of the system\n",
    "\n",
    "USES OF MULTIPROCESSING\n",
    "\n",
    "The multiprocessing package offers both local and remote concurrency, effectively side-stepping the Global Interpreter Lock by using subprocesses instead of threads\n",
    "\n",
    "Due to this, the multiprocessing module allows the programmer to fully leverage multiple processors on a given machine\n",
    "\n",
    "It runs on both Unix and Windows."
   ]
  },
  {
   "cell_type": "markdown",
   "id": "fbb472ca",
   "metadata": {},
   "source": [
    "# Q.2."
   ]
  },
  {
   "cell_type": "markdown",
   "id": "4857d92a",
   "metadata": {},
   "source": [
    "# Multithreading"
   ]
  },
  {
   "cell_type": "markdown",
   "id": "4ed7199f",
   "metadata": {},
   "source": [
    "It is a technique where multiple threads are spawned by a process to do different tasks, at about the same time, just one after the other\n",
    "\n",
    "This gives you the illusion that the threads are running in parallel, but they are actually run in a concurrent manner\n",
    "\n",
    "In Python, the Global Interpreter Lock (GIL) prevents the threads from running simultaneously.\n"
   ]
  },
  {
   "cell_type": "markdown",
   "id": "d5a256ef",
   "metadata": {},
   "source": [
    "# Multiprocessing"
   ]
  },
  {
   "cell_type": "markdown",
   "id": "b63a2995",
   "metadata": {},
   "source": [
    "Multiprocessing is a technique where parallelism in its truest form is achieved\n",
    "\n",
    "Multiple processes are run across multiple CPU cores, which do not share the resources among them\n",
    "\n",
    "Each process can have many threads running in its own memory space\n",
    "\n",
    "In Python, each process has its own instance of Python interpreter doing the job of executing the instructions"
   ]
  },
  {
   "cell_type": "markdown",
   "id": "2aef403d",
   "metadata": {},
   "source": [
    "# Q.3."
   ]
  },
  {
   "cell_type": "code",
   "execution_count": 4,
   "id": "db0b0fad",
   "metadata": {},
   "outputs": [],
   "source": [
    "import multiprocessing \n",
    "def test1():\n",
    "    print('this is my multiproccesing prog')\n",
    "\n",
    "    \n",
    "if __name__ == '__main__':\n",
    "    m = multiprocessing.Process(target =test1)\n",
    "    \n",
    "    m.start()\n",
    "    m.join()\n",
    "    "
   ]
  },
  {
   "cell_type": "markdown",
   "id": "00ee9796",
   "metadata": {},
   "source": [
    "# Q.4."
   ]
  },
  {
   "cell_type": "markdown",
   "id": "0d27d89e",
   "metadata": {},
   "source": [
    "multiprocessing Pool can be used for parallel execution of a function across multiple input values, distributing the input data across processes (data parallelism)\n",
    " \n",
    " "
   ]
  },
  {
   "cell_type": "code",
   "execution_count": null,
   "id": "bcf68c65",
   "metadata": {},
   "outputs": [],
   "source": [
    "#for e.g.\n",
    "import multiprocessing\n",
    "def square(n):\n",
    "    return n**2\n",
    "if __name__ == '__main__':\n",
    "    with multiprocessing.Pool(processes=5) as pool:\n",
    "        out = pool.map(square,[3,4,5,6,6,7,8,9])\n",
    "        print(out)"
   ]
  },
  {
   "cell_type": "markdown",
   "id": "77bf8ef1",
   "metadata": {},
   "source": [
    "# Q.5."
   ]
  },
  {
   "cell_type": "markdown",
   "id": "692b4c82",
   "metadata": {},
   "source": [
    "The Pool class represents a pool of worker process\n",
    "\n",
    "we can create a pool of workers in the multiprocessing.pool.Pool via the “processes” argument"
   ]
  },
  {
   "cell_type": "code",
   "execution_count": null,
   "id": "5036965c",
   "metadata": {},
   "outputs": [],
   "source": [
    "#create a process pool with 4 workers\n",
    "import multiprocessing\n",
    "pool = multiprocessing.Pool(processes=4)"
   ]
  },
  {
   "cell_type": "markdown",
   "id": "69b509a5",
   "metadata": {},
   "source": [
    "# Q.6."
   ]
  },
  {
   "cell_type": "code",
   "execution_count": 7,
   "id": "c461e315",
   "metadata": {},
   "outputs": [
    {
     "name": "stdout",
     "output_type": "stream",
     "text": [
      "Done!\n"
     ]
    }
   ],
   "source": [
    "import multiprocessing\n",
    "  \n",
    "def print_num1(num):\n",
    "    print(num)\n",
    "  \n",
    "def print_num2(num):\n",
    "    print(num)\n",
    "def print_num3(num):\n",
    "    print(num)\n",
    "def print_num4(num):\n",
    "    print(num)\n",
    "  \n",
    "if __name__ == \"__main__\":\n",
    "    # creating processes\n",
    "    p1 = multiprocessing.Process(target=print_num1, args=(1, ))\n",
    "    p2 = multiprocessing.Process(target=print_num2, args=(2, ))\n",
    "    p3 = multiprocessing.Process(target=print_num3, args=(3, ))\n",
    "    p4 = multiprocessing.Process(target=print_num4, args=(4, ))\n",
    "  \n",
    "    # starting processes\n",
    "    p1.start()\n",
    "   \n",
    "    p2.start()\n",
    "    \n",
    "    p3.start()\n",
    "    \n",
    "    p4.start()\n",
    "  \n",
    "   \n",
    "    p1.join()\n",
    "   \n",
    "    p2.join()\n",
    "    \n",
    "    p3.join()\n",
    "    \n",
    "    p4.join()\n",
    "  \n",
    "    # both processes finished\n",
    "    print(\"Done!\")"
   ]
  },
  {
   "cell_type": "code",
   "execution_count": null,
   "id": "9253801f",
   "metadata": {},
   "outputs": [],
   "source": []
  }
 ],
 "metadata": {
  "kernelspec": {
   "display_name": "Python 3 (ipykernel)",
   "language": "python",
   "name": "python3"
  },
  "language_info": {
   "codemirror_mode": {
    "name": "ipython",
    "version": 3
   },
   "file_extension": ".py",
   "mimetype": "text/x-python",
   "name": "python",
   "nbconvert_exporter": "python",
   "pygments_lexer": "ipython3",
   "version": "3.9.13"
  }
 },
 "nbformat": 4,
 "nbformat_minor": 5
}
