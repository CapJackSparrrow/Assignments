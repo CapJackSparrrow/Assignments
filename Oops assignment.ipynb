{
 "cells": [
  {
   "cell_type": "markdown",
   "id": "d7724dc8",
   "metadata": {},
   "source": [
    "# Q.1."
   ]
  },
  {
   "cell_type": "markdown",
   "id": "558bea41",
   "metadata": {},
   "source": [
    "# Classes"
   ]
  },
  {
   "cell_type": "markdown",
   "id": "058a83b7",
   "metadata": {},
   "source": [
    "A class is a user-defined blueprint or prototype from which objects are created. \n",
    "\n",
    "Classes provide a means of bundling data and functionality together\n",
    "\n",
    "Creating a new class creates a new type of object, allowing new instances of that type to be made"
   ]
  },
  {
   "cell_type": "markdown",
   "id": "930b4eee",
   "metadata": {},
   "source": [
    "# Objects"
   ]
  },
  {
   "cell_type": "markdown",
   "id": "8ff7d06f",
   "metadata": {},
   "source": [
    "An Object is an instance of a Class \n",
    "\n",
    "An instance is a copy of the class with actual values, it not an idea anymore ,it's an actual car or dog , etc.\n"
   ]
  },
  {
   "cell_type": "code",
   "execution_count": 1,
   "id": "e49d4214",
   "metadata": {},
   "outputs": [],
   "source": [
    "#for e.g\n",
    "\n",
    "class pwskills: ## here pwskills is a class\n",
    "    def welc_message(self):\n",
    "        print('welcome to class')"
   ]
  },
  {
   "cell_type": "code",
   "execution_count": 2,
   "id": "7a2ff9c7",
   "metadata": {},
   "outputs": [],
   "source": [
    "sdm = pwskills() ## sdm is an object of class pwskills"
   ]
  },
  {
   "cell_type": "code",
   "execution_count": 3,
   "id": "d227bd0c",
   "metadata": {},
   "outputs": [
    {
     "name": "stdout",
     "output_type": "stream",
     "text": [
      "welcome to class\n"
     ]
    }
   ],
   "source": [
    "sdm.welc_message()"
   ]
  },
  {
   "cell_type": "markdown",
   "id": "9c9d5473",
   "metadata": {},
   "source": [
    "# Q.2."
   ]
  },
  {
   "cell_type": "markdown",
   "id": "9d6bdba5",
   "metadata": {},
   "source": [
    "Four pillars of oops are:\n",
    "    \n",
    "Encapsulation\n",
    "\n",
    "Inheritance\n",
    "\n",
    "Polymorphism\n",
    "\n",
    "Abstraction"
   ]
  },
  {
   "cell_type": "markdown",
   "id": "1286b124",
   "metadata": {},
   "source": [
    "# Q.3."
   ]
  },
  {
   "cell_type": "markdown",
   "id": "20596adf",
   "metadata": {},
   "source": [
    "The __init__ method lets the class initialize the object’s attributes and serves no other purpose. \n",
    " \n",
    "It is only used within classes\n",
    " \n",
    "The __init__  function is called every time an object is created from a class "
   ]
  },
  {
   "cell_type": "code",
   "execution_count": 4,
   "id": "a4ae0d32",
   "metadata": {},
   "outputs": [],
   "source": [
    "#for e.g\n",
    "\n",
    "class student:\n",
    "    def __init__(self, phone_no, email_id, student_id):\n",
    "        \n",
    "        self.phone_no = phone_no\n",
    "        self.email_id =  email_id\n",
    "        self.student_id = student_id"
   ]
  },
  {
   "cell_type": "markdown",
   "id": "d6a68599",
   "metadata": {},
   "source": [
    "First, we declare the class 'student' using the keyword class. \n",
    "\n",
    "We use the keyword def to define a function or method, such as the __init__ method.\n",
    "\n",
    "And the __init__ method initializes three attributes: phone_no, email_id, and student_id "
   ]
  },
  {
   "cell_type": "markdown",
   "id": "54249565",
   "metadata": {},
   "source": [
    "# Q.4."
   ]
  },
  {
   "cell_type": "markdown",
   "id": "96a46b3c",
   "metadata": {},
   "source": [
    "The self parameter is a reference to the current instance of the class, and is used to access variables that belongs to the class\n",
    "\n",
    "It does not have to be named self , you can call it whatever you like, but it has to be the first parameter of any function in the class"
   ]
  },
  {
   "cell_type": "code",
   "execution_count": 5,
   "id": "0f27e796",
   "metadata": {},
   "outputs": [],
   "source": [
    "class Person:\n",
    "  def __init__(self, name, age):\n",
    "    self.name = name\n",
    "    self.age = age\n",
    "\n",
    "  def myfunc(self):\n",
    "    print(\"Hello my name is \" + self.name)"
   ]
  },
  {
   "cell_type": "code",
   "execution_count": 6,
   "id": "911f7126",
   "metadata": {},
   "outputs": [],
   "source": [
    "n1 = Person('Aarish', 6)"
   ]
  },
  {
   "cell_type": "code",
   "execution_count": 7,
   "id": "5b320b43",
   "metadata": {},
   "outputs": [
    {
     "name": "stdout",
     "output_type": "stream",
     "text": [
      "Hello my name is Aarish\n"
     ]
    }
   ],
   "source": [
    "n1.myfunc()"
   ]
  },
  {
   "cell_type": "code",
   "execution_count": 8,
   "id": "08bc8618",
   "metadata": {},
   "outputs": [],
   "source": [
    "class Person:\n",
    "  def __init__(sdm, name, age):\n",
    "    sdm.name = name\n",
    "    sdm.age = age\n",
    "\n",
    "  def myfunc(sdm):\n",
    "    print(\"Hello my name is \" + sdm.name)"
   ]
  },
  {
   "cell_type": "code",
   "execution_count": 9,
   "id": "1434e59e",
   "metadata": {},
   "outputs": [],
   "source": [
    "n2 = Person('Sahil', 15)"
   ]
  },
  {
   "cell_type": "code",
   "execution_count": 10,
   "id": "fc4c0d99",
   "metadata": {},
   "outputs": [
    {
     "name": "stdout",
     "output_type": "stream",
     "text": [
      "Hello my name is Aarish\n"
     ]
    }
   ],
   "source": [
    "n1.myfunc()"
   ]
  },
  {
   "cell_type": "markdown",
   "id": "6843005c",
   "metadata": {},
   "source": [
    "# Q.5."
   ]
  },
  {
   "cell_type": "markdown",
   "id": "b63f7994",
   "metadata": {},
   "source": [
    "Inheritance allows us to define a class that inherits all the methods and properties from another class.\n",
    "\n",
    "Parent class is the class being inherited from, also called base class.\n",
    "\n",
    "Child class is the class that inherits from another class, also called derived class."
   ]
  },
  {
   "cell_type": "code",
   "execution_count": 11,
   "id": "2ebd7bd5",
   "metadata": {},
   "outputs": [],
   "source": [
    "# for e.g\n",
    "class Person:\n",
    "  def __init__(self, fname, lname):\n",
    "    self.firstname = fname\n",
    "    self.lastname = lname\n",
    "\n",
    "  def printname(self):\n",
    "    print(self.firstname, self.lastname)"
   ]
  },
  {
   "cell_type": "code",
   "execution_count": 12,
   "id": "4fa43d3c",
   "metadata": {},
   "outputs": [],
   "source": [
    "class student(Person):   # create a child class\n",
    "    pass                 # pass is used when we don't want to add any new feature        \n",
    "               "
   ]
  },
  {
   "cell_type": "code",
   "execution_count": 13,
   "id": "f4112f79",
   "metadata": {},
   "outputs": [],
   "source": [
    "s = student('xyz','abc')"
   ]
  },
  {
   "cell_type": "code",
   "execution_count": 14,
   "id": "e04c0d4a",
   "metadata": {},
   "outputs": [
    {
     "name": "stdout",
     "output_type": "stream",
     "text": [
      "xyz abc\n"
     ]
    }
   ],
   "source": [
    "s.printname()"
   ]
  },
  {
   "cell_type": "markdown",
   "id": "5dcec613",
   "metadata": {},
   "source": [
    "# Types of Inheritance "
   ]
  },
  {
   "cell_type": "markdown",
   "id": "d61e53dd",
   "metadata": {},
   "source": [
    "# Single Inheritance: \n",
    "Single inheritance enables a derived class to inherit properties from a single parent class, thus enabling code reusability and the addition of new features to existing code."
   ]
  },
  {
   "cell_type": "code",
   "execution_count": 15,
   "id": "9b65fb6d",
   "metadata": {},
   "outputs": [
    {
     "name": "stdout",
     "output_type": "stream",
     "text": [
      "This function is in parent class.\n",
      "This function is in child class.\n"
     ]
    }
   ],
   "source": [
    "class Parent:            # Parent class\n",
    "    def func1(self):\n",
    "        print(\"This function is in parent class.\")\n",
    " \n",
    "class Child(Parent):       # Derived class\n",
    "    def func2(self):\n",
    "        print(\"This function is in child class.\")\n",
    " \n",
    " \n",
    "object = Child()\n",
    "object.func1()\n",
    "object.func2()"
   ]
  },
  {
   "cell_type": "markdown",
   "id": "e6450dbb",
   "metadata": {},
   "source": [
    "# Multiple Inheritance: \n",
    "When a class can be derived from more than one base class this type of inheritance is called multiple inheritances. In multiple inheritances, all the features of the base classes are inherited into the derived class. "
   ]
  },
  {
   "cell_type": "code",
   "execution_count": 16,
   "id": "324f6ad9",
   "metadata": {},
   "outputs": [
    {
     "name": "stdout",
     "output_type": "stream",
     "text": [
      "Father : RAM\n",
      "Mother : SITA\n"
     ]
    }
   ],
   "source": [
    "class Mother:          # Base class1\n",
    "    mothername = \"\"\n",
    " \n",
    "    def mother(self):\n",
    "        print(self.mothername)\n",
    "  \n",
    "class Father:               # Base class2\n",
    "    fathername = \"\"\n",
    " \n",
    "    def father(self):\n",
    "        print(self.fathername)\n",
    "  \n",
    "class Son(Mother, Father):          # Derived class\n",
    "    def parents(self):\n",
    "        print(\"Father :\", self.fathername)\n",
    "        print(\"Mother :\", self.mothername)\n",
    " \n",
    "s1 = Son()\n",
    "s1.fathername = \"RAM\"\n",
    "s1.mothername = \"SITA\"\n",
    "s1.parents()"
   ]
  },
  {
   "cell_type": "markdown",
   "id": "357299c9",
   "metadata": {},
   "source": [
    "# Multilevel Inheritance :\n",
    "In multilevel inheritance, features of the base class and the derived class are further inherited into the new derived class. This is similar to a relationship representing a child and a grandfather. "
   ]
  },
  {
   "cell_type": "code",
   "execution_count": 17,
   "id": "8f7e7f95",
   "metadata": {},
   "outputs": [
    {
     "name": "stdout",
     "output_type": "stream",
     "text": [
      "Lal mani\n",
      "Grandfather name : Lal mani\n",
      "Father name : Rampal\n",
      "Son name : Prince\n"
     ]
    }
   ],
   "source": [
    "class Grandfather:                              # Base class\n",
    " \n",
    "    def __init__(self, grandfathername):\n",
    "        self.grandfathername = grandfathername\n",
    "   \n",
    "class Father(Grandfather):                               # Intermediate class\n",
    "    def __init__(self, fathername, grandfathername):\n",
    "        self.fathername = fathername\n",
    " \n",
    "        # invoking constructor of Grandfather class\n",
    "        Grandfather.__init__(self, grandfathername)\n",
    " \n",
    "class Son(Father):                                                # Derived class\n",
    "    def __init__(self, sonname, fathername, grandfathername):\n",
    "        self.sonname = sonname\n",
    " \n",
    "       \n",
    "        Father.__init__(self, fathername, grandfathername)    # invoking constructor of Father class\n",
    " \n",
    "    def print_name(self):\n",
    "        print('Grandfather name :', self.grandfathername)\n",
    "        print(\"Father name :\", self.fathername)\n",
    "        print(\"Son name :\", self.sonname)\n",
    " \n",
    "\n",
    "s1 = Son('Prince', 'Rampal', 'Lal mani')\n",
    "print(s1.grandfathername)\n",
    "s1.print_name()"
   ]
  },
  {
   "cell_type": "markdown",
   "id": "6f20b59e",
   "metadata": {},
   "source": [
    "# Hierarchical Inheritance: \n",
    "When more than one derived class are created from a single base this type of inheritance is called hierarchical inheritance. In this program, we have a parent (base) class and two child (derived) classes"
   ]
  },
  {
   "cell_type": "code",
   "execution_count": 18,
   "id": "3783ae25",
   "metadata": {},
   "outputs": [
    {
     "name": "stdout",
     "output_type": "stream",
     "text": [
      "This function is in parent class.\n",
      "This function is in child 1.\n",
      "This function is in parent class.\n",
      "This function is in child 2.\n"
     ]
    }
   ],
   "source": [
    "class Parent:\n",
    "    def func1(self):\n",
    "        print(\"This function is in parent class.\")\n",
    " \n",
    "class Child1(Parent):   # Derived class1\n",
    "    def func2(self):\n",
    "        print(\"This function is in child 1.\")\n",
    " \n",
    "\n",
    "class Child2(Parent):    # Derivied class2\n",
    "    def func3(self):\n",
    "        print(\"This function is in child 2.\")\n",
    " \n",
    " \n",
    "object1 = Child1()\n",
    "object2 = Child2()\n",
    "object1.func1()\n",
    "object1.func2()\n",
    "object2.func1()\n",
    "object2.func3()"
   ]
  },
  {
   "cell_type": "markdown",
   "id": "58f2e92e",
   "metadata": {},
   "source": [
    "# Hybrid Inheritance: \n",
    "Inheritance consisting of multiple types of inheritance is called hybrid inheritance."
   ]
  },
  {
   "cell_type": "code",
   "execution_count": 19,
   "id": "85709cf2",
   "metadata": {},
   "outputs": [
    {
     "name": "stdout",
     "output_type": "stream",
     "text": [
      "This function is in school.\n",
      "This function is in student 1. \n"
     ]
    }
   ],
   "source": [
    "class School:\n",
    "    def func1(self):\n",
    "        print(\"This function is in school.\")\n",
    " \n",
    " \n",
    "class Student1(School):\n",
    "    def func2(self):\n",
    "        print(\"This function is in student 1. \")\n",
    " \n",
    " \n",
    "class Student2(School):\n",
    "    def func3(self):\n",
    "        print(\"This function is in student 2.\")\n",
    " \n",
    " \n",
    "class Student3(Student1, School):\n",
    "    def func4(self):\n",
    "        print(\"This function is in student 3.\")\n",
    " \n",
    "\n",
    "object = Student3()\n",
    "object.func1()\n",
    "object.func2()"
   ]
  },
  {
   "cell_type": "code",
   "execution_count": null,
   "id": "9c815c4c",
   "metadata": {},
   "outputs": [],
   "source": []
  }
 ],
 "metadata": {
  "kernelspec": {
   "display_name": "Python 3 (ipykernel)",
   "language": "python",
   "name": "python3"
  },
  "language_info": {
   "codemirror_mode": {
    "name": "ipython",
    "version": 3
   },
   "file_extension": ".py",
   "mimetype": "text/x-python",
   "name": "python",
   "nbconvert_exporter": "python",
   "pygments_lexer": "ipython3",
   "version": "3.9.12"
  }
 },
 "nbformat": 4,
 "nbformat_minor": 5
}
